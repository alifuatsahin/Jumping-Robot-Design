{
 "cells": [
  {
   "cell_type": "code",
   "execution_count": 1,
   "id": "e01397e9-9cc9-48c4-a4e9-897f77d42426",
   "metadata": {},
   "outputs": [
    {
     "name": "stderr",
     "output_type": "stream",
     "text": [
      "pybullet build time: Mar  5 2024 15:57:27\n"
     ]
    },
    {
     "name": "stdout",
     "output_type": "stream",
     "text": [
      "(0, b'joint1', 0, 7, 6, 1, 0.0, 0.0, 1.0, -1.0, 0.0, 0.0, b'link1', (1.0, 0.0, 0.0), (0.0, 0.0, -0.03), (0.0, 0.0, 0.0, 1.0), -1)\n",
      "(1, b'joint3', 0, 8, 7, 1, 0.0, 0.0, 1.0, -1.0, 0.0, 0.0, b'link3', (1.0, 0.0, 0.0), (0.0, 0.0, -0.1), (0.0, 0.0, 0.0, 1.0), 0)\n",
      "(2, b'joint4', 4, -1, -1, 0, 0.0, 0.0, 1.0, -1.0, 0.0, 0.0, b'link4', (0.0, 0.0, 0.0), (0.0, 0.0, 0.06), (0.0, -0.5, 0.0, 0.8660254037844386), 1)\n",
      "(3, b'joint5', 4, -1, -1, 0, 0.0, 0.0, 1.0, -1.0, 0.0, 0.0, b'link5', (0.0, 0.0, 0.0), (0.0, 0.0, 0.06), (0.0, 0.2588190451025207, 0.0, 0.9659258262890683), 1)\n",
      "(4, b'joint2', 0, 9, 8, 1, 0.0, 0.0, 1.0, -1.0, 0.0, 0.0, b'link2', (1.0, 0.0, 0.0), (0.0, 0.0, 0.03), (0.0, 0.0, 0.0, 1.0), -1)\n"
     ]
    },
    {
     "ename": "error",
     "evalue": "Not connected to physics server.",
     "output_type": "error",
     "traceback": [
      "\u001b[0;31m---------------------------------------------------------------------------\u001b[0m",
      "\u001b[0;31merror\u001b[0m                                     Traceback (most recent call last)",
      "Input \u001b[0;32mIn [1]\u001b[0m, in \u001b[0;36m<cell line: 1>\u001b[0;34m()\u001b[0m\n\u001b[0;32m----> 1\u001b[0m \u001b[38;5;28;01mimport\u001b[39;00m \u001b[38;5;21;01mjumper\u001b[39;00m\n",
      "File \u001b[0;32m~/Desktop/Jumping-Robot-Design/jumper_test/simulation/jumper.py:329\u001b[0m, in \u001b[0;36m<module>\u001b[0;34m\u001b[0m\n\u001b[1;32m    325\u001b[0m   energy \u001b[38;5;241m=\u001b[39m \u001b[38;5;241m0.5\u001b[39m\u001b[38;5;241m*\u001b[39mstiffness\u001b[38;5;241m*\u001b[39m\u001b[38;5;28mpow\u001b[39m(motor_angle, \u001b[38;5;241m2\u001b[39m)\u001b[38;5;241m*\u001b[39mnp\u001b[38;5;241m.\u001b[39mpi\u001b[38;5;241m/\u001b[39m\u001b[38;5;241m180\u001b[39m\n\u001b[1;32m    327\u001b[0m   \u001b[38;5;28;01mreturn\u001b[39;00m jump_distance, energy\n\u001b[0;32m--> 329\u001b[0m jump_distance, energy \u001b[38;5;241m=\u001b[39m \u001b[43msimulate\u001b[49m\u001b[43m(\u001b[49m\u001b[43ml1\u001b[49m\u001b[38;5;241;43m=\u001b[39;49m\u001b[38;5;241;43m60\u001b[39;49m\u001b[43m,\u001b[49m\u001b[43m \u001b[49m\u001b[43ml2\u001b[49m\u001b[38;5;241;43m=\u001b[39;49m\u001b[38;5;241;43m100\u001b[39;49m\u001b[43m,\u001b[49m\u001b[43m \u001b[49m\u001b[43ml3\u001b[49m\u001b[38;5;241;43m=\u001b[39;49m\u001b[38;5;241;43m100\u001b[39;49m\u001b[43m,\u001b[49m\u001b[43m \u001b[49m\u001b[43ml4\u001b[49m\u001b[38;5;241;43m=\u001b[39;49m\u001b[38;5;241;43m60\u001b[39;49m\u001b[43m,\u001b[49m\u001b[43m \u001b[49m\u001b[43ml5\u001b[49m\u001b[38;5;241;43m=\u001b[39;49m\u001b[38;5;241;43m80\u001b[39;49m\u001b[43m,\u001b[49m\u001b[43m \u001b[49m\u001b[43mcompression\u001b[49m\u001b[38;5;241;43m=\u001b[39;49m\u001b[38;5;241;43m40\u001b[39;49m\u001b[43m,\u001b[49m\u001b[43m \u001b[49m\u001b[43mrest_angle\u001b[49m\u001b[38;5;241;43m=\u001b[39;49m\u001b[38;5;241;43m60\u001b[39;49m\u001b[43m,\u001b[49m\u001b[43m \u001b[49m\u001b[43mstiffness\u001b[49m\u001b[38;5;241;43m=\u001b[39;49m\u001b[38;5;241;43m8\u001b[39;49m\u001b[38;5;241;43m/\u001b[39;49m\u001b[38;5;241;43m1000\u001b[39;49m\u001b[43m)\u001b[49m\n\u001b[1;32m    331\u001b[0m \u001b[38;5;28mprint\u001b[39m(\u001b[38;5;124m\"\u001b[39m\u001b[38;5;124mJump Distance: \u001b[39m\u001b[38;5;124m\"\u001b[39m, jump_distance)\n\u001b[1;32m    332\u001b[0m \u001b[38;5;28mprint\u001b[39m(\u001b[38;5;124m\"\u001b[39m\u001b[38;5;124mEnergy: \u001b[39m\u001b[38;5;124m\"\u001b[39m, energy)\n",
      "File \u001b[0;32m~/Desktop/Jumping-Robot-Design/jumper_test/simulation/jumper.py:296\u001b[0m, in \u001b[0;36msimulate\u001b[0;34m(l1, l2, l3, l4, l5, compression, rest_angle, stiffness)\u001b[0m\n\u001b[1;32m    294\u001b[0m   start \u001b[38;5;241m=\u001b[39m \u001b[38;5;28;01mFalse\u001b[39;00m\n\u001b[1;32m    295\u001b[0m \u001b[38;5;28;01melse\u001b[39;00m:\n\u001b[0;32m--> 296\u001b[0m   motor_angle \u001b[38;5;241m=\u001b[39m (\u001b[43mp\u001b[49m\u001b[38;5;241;43m.\u001b[39;49m\u001b[43mgetJointState\u001b[49m\u001b[43m(\u001b[49m\u001b[43mjumper\u001b[49m\u001b[43m,\u001b[49m\u001b[43m \u001b[49m\u001b[38;5;241;43m0\u001b[39;49m\u001b[43m)\u001b[49m[\u001b[38;5;241m0\u001b[39m] \u001b[38;5;241m+\u001b[39m rest_angle)\u001b[38;5;241m*\u001b[39m\u001b[38;5;241m180\u001b[39m\u001b[38;5;241m/\u001b[39mnp\u001b[38;5;241m.\u001b[39mpi\n\u001b[1;32m    298\u001b[0m   p\u001b[38;5;241m.\u001b[39msetJointMotorControl2(jumper,\n\u001b[1;32m    299\u001b[0m     jointIndex\u001b[38;5;241m=\u001b[39m\u001b[38;5;241m0\u001b[39m,\n\u001b[1;32m    300\u001b[0m     controlMode\u001b[38;5;241m=\u001b[39mp\u001b[38;5;241m.\u001b[39mTORQUE_CONTROL,\n\u001b[1;32m    301\u001b[0m     force\u001b[38;5;241m=\u001b[39m\u001b[38;5;241m-\u001b[39mmotor_angle\u001b[38;5;241m*\u001b[39mstiffness,\n\u001b[1;32m    302\u001b[0m     )\n\u001b[1;32m    304\u001b[0m   contacts \u001b[38;5;241m=\u001b[39m p\u001b[38;5;241m.\u001b[39mgetContactPoints(jumper, plane)\n",
      "\u001b[0;31merror\u001b[0m: Not connected to physics server."
     ]
    }
   ],
   "source": [
    "#import jumper"
   ]
  }
 ],
 "metadata": {
  "kernelspec": {
   "display_name": "Python 3 (ipykernel)",
   "language": "python",
   "name": "python3"
  },
  "language_info": {
   "codemirror_mode": {
    "name": "ipython",
    "version": 3
   },
   "file_extension": ".py",
   "mimetype": "text/x-python",
   "name": "python",
   "nbconvert_exporter": "python",
   "pygments_lexer": "ipython3",
   "version": "3.9.10"
  }
 },
 "nbformat": 4,
 "nbformat_minor": 5
}
