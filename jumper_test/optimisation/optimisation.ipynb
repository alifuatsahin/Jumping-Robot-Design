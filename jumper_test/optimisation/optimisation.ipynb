{
 "cells": [
  {
   "cell_type": "markdown",
   "id": "a21db7bb-0655-4d9b-adca-e935803dd252",
   "metadata": {
    "tags": []
   },
   "source": [
    "# Data-Driven Optimisation\n",
    "\n",
    "In this notebook, we will run data driven algorithm to optimise the parameter of our problem"
   ]
  },
  {
   "cell_type": "markdown",
   "id": "36421f79-c88e-4553-82bc-1f20a134778d",
   "metadata": {},
   "source": [
    "## Example for one robot"
   ]
  },
  {
   "cell_type": "code",
   "execution_count": 1,
   "id": "9f525969-3c8f-4af3-98fa-902f89eb2782",
   "metadata": {},
   "outputs": [
    {
     "name": "stderr",
     "output_type": "stream",
     "text": [
      "pybullet build time: Mar  5 2024 15:57:27\n"
     ]
    }
   ],
   "source": [
    "import Model #import the simulation and the model\n",
    "import Algorithm #import data-driven algorithms \n",
    "import numpy as np\n",
    "import matplotlib.pyplot as plt"
   ]
  },
  {
   "cell_type": "markdown",
   "id": "c83f8257-24b5-4dd7-8062-86f9d65f6c45",
   "metadata": {},
   "source": [
    "How to use models "
   ]
  },
  {
   "cell_type": "code",
   "execution_count": 2,
   "id": "fa312103-9dd2-4c39-a4f3-e07473f6f44f",
   "metadata": {},
   "outputs": [],
   "source": [
    "#initial parameters\n",
    "\n",
    "l1=60\n",
    "l2=100\n",
    "l3=100\n",
    "l4=60\n",
    "l5=80\n",
    "compression=45\n",
    "rest=60\n",
    "stiffness=8\n",
    "\n",
    "\n",
    "parameters = Model.Parameters([l1,l2,l3,l4,l5,compression,rest,stiffness])\n",
    "\n",
    "\n",
    "robot = Model.model(parameters)"
   ]
  },
  {
   "cell_type": "code",
   "execution_count": 3,
   "id": "c97953da-5237-423b-b9e3-fdc36c402473",
   "metadata": {},
   "outputs": [
    {
     "name": "stdout",
     "output_type": "stream",
     "text": [
      "start simulation\n",
      "max high 0.13 [m] max distance 0.05 [m] energy  8100.0 J\n"
     ]
    }
   ],
   "source": [
    "robot.simulate()"
   ]
  },
  {
   "cell_type": "code",
   "execution_count": 4,
   "id": "7c32040c-d726-4eb5-aa06-0837f705bada",
   "metadata": {},
   "outputs": [
    {
     "data": {
      "image/png": "[encoded data removed]",
      "text/plain": [
       "<Figure size 432x288 with 1 Axes>"
      ]
     },
     "metadata": {
      "needs_background": "light"
     },
     "output_type": "display_data"
    }
   ],
   "source": [
    "robot.plot()\n",
    "\n",
    "#plt.plot(np.arange(len(length)), length)\n",
    "#plt.xlabel('Index')\n",
    "#plt.ylabel('Value')\n",
    "#plt.title('Random Curve')\n",
    "#plt.grid(True)\n",
    "#plt.show()"
   ]
  },
  {
   "cell_type": "code",
   "execution_count": null,
   "id": "f07b8a7e-b0e0-4580-ba5b-6aad8219a137",
   "metadata": {},
   "outputs": [],
   "source": []
  },
  {
   "cell_type": "markdown",
   "id": "0d82faf9-18c3-4f7f-9429-212c10176701",
   "metadata": {
    "tags": []
   },
   "source": [
    "## Genetic algorith "
   ]
  },
  {
   "cell_type": "code",
   "execution_count": null,
   "id": "8acc2320-f044-4890-9f87-f2e884bd6668",
   "metadata": {},
   "outputs": [
    {
     "name": "stdout",
     "output_type": "stream",
     "text": [
      "algo\n",
      "new model\n",
      "start simulation\n"
     ]
    },
    {
     "name": "stderr",
     "output_type": "stream",
     "text": [
      "/Users/djay/miniforge3/lib/python3.9/site-packages/pygad/pygad.py:1139: UserWarning: The 'delay_after_gen' parameter is deprecated starting from PyGAD 3.3.0. To delay or pause the evolution after each generation, assign a callback function/method to the 'on_generation' parameter to adds some time delay.\n",
      "  warnings.warn(\"The 'delay_after_gen' parameter is deprecated starting from PyGAD 3.3.0. To delay or pause the evolution after each generation, assign a callback function/method to the 'on_generation' parameter to adds some time delay.\")\n"
     ]
    },
    {
     "name": "stdout",
     "output_type": "stream",
     "text": [
      "max high 26.38 [m] max distance 3.65 [m] energy  6300.0 J\n",
      "new model\n",
      "start simulation\n",
      "max high 0.15 [m] max distance 0.0 [m] energy  18.75 J\n",
      "new model\n",
      "start simulation\n",
      "max high 0.47 [m] max distance 17.35 [m] energy  175.0 J\n",
      "new model\n",
      "start simulation\n",
      "max high 0.02 [m] max distance 0.0 [m] energy  18.75 J\n",
      "new model\n",
      "start simulation\n",
      "max high 7.43 [m] max distance 7.57 [m] energy  175.0 J\n",
      "new model\n",
      "start simulation\n",
      "max high 0.15 [m] max distance 0.28 [m] energy  18.75 J\n",
      "new model\n",
      "start simulation\n",
      "max high 0.15 [m] max distance 11.16 [m] energy  675.0 J\n",
      "new model\n",
      "start simulation\n",
      "max high 1.23 [m] max distance 1.87 [m] energy  6300.0 J\n",
      "new model\n",
      "start simulation\n",
      "max high 0.16 [m] max distance 0.13 [m] energy  175.0 J\n",
      "new model\n",
      "start simulation\n",
      "max high 0.15 [m] max distance 10.41 [m] energy  6300.0 J\n",
      "new model\n",
      "start simulation\n",
      "max high 0.55 [m] max distance 1.39 [m] energy  675.0 J\n",
      "new model\n",
      "start simulation\n",
      "max high 0.15 [m] max distance 0.25 [m] energy  18.75 J\n",
      "new model\n",
      "start simulation\n",
      "max high 0.15 [m] max distance 0.3 [m] energy  6300.0 J\n",
      "new model\n",
      "start simulation\n",
      "max high 0.22 [m] max distance 10.31 [m] energy  6300.0 J\n",
      "new model\n",
      "start simulation\n",
      "max high 0.55 [m] max distance 1.39 [m] energy  675.0 J\n",
      "new model\n",
      "start simulation\n",
      "max high 0.15 [m] max distance 0.0 [m] energy  18.75 J\n",
      "new model\n",
      "start simulation\n",
      "max high 5.46 [m] max distance 24.95 [m] energy  175.0 J\n",
      "new model\n",
      "start simulation\n",
      "max high 0.17 [m] max distance 3.84 [m] energy  6300.0 J\n",
      "new model\n",
      "start simulation\n",
      "max high 0.03 [m] max distance 0.0 [m] energy  175.0 J\n",
      "new model\n",
      "start simulation\n",
      "max high 0.3 [m] max distance 2.35 [m] energy  18.75 J\n",
      "new model\n",
      "start simulation\n",
      "max high 1.24 [m] max distance 1.84 [m] energy  18.75 J\n",
      "new model\n",
      "start simulation\n",
      "max high 1.75 [m] max distance 4.6 [m] energy  175.0 J\n",
      "new model\n",
      "start simulation\n",
      "max high 0.15 [m] max distance 1.51 [m] energy  175.0 J\n",
      "new model\n",
      "start simulation\n",
      "max high 0.03 [m] max distance 0.0 [m] energy  175.0 J\n",
      "new model\n",
      "start simulation\n",
      "max high 0.15 [m] max distance 0.17 [m] energy  18.75 J\n",
      "new model\n",
      "start simulation\n",
      "max high 0.61 [m] max distance 2.8 [m] energy  675.0 J\n",
      "new model\n",
      "start simulation\n",
      "max high 0.15 [m] max distance 0.0 [m] energy  18.75 J\n",
      "new model\n",
      "start simulation\n",
      "max high 22.26 [m] max distance 39.49 [m] energy  175.0 J\n",
      "new model\n",
      "start simulation\n",
      "max high 0.13 [m] max distance 0.19 [m] energy  18.75 J\n",
      "new model\n",
      "start simulation\n",
      "max high 0.15 [m] max distance 0.53 [m] energy  175.0 J\n",
      "new model\n",
      "start simulation\n",
      "max high 0.15 [m] max distance 0.04 [m] energy  18.75 J\n",
      "new model\n",
      "start simulation\n",
      "max high 0.15 [m] max distance 0.33 [m] energy  18.75 J\n",
      "new model\n",
      "start simulation\n",
      "max high 0.15 [m] max distance 0.04 [m] energy  175.0 J\n",
      "new model\n",
      "start simulation\n",
      "max high 0.13 [m] max distance 0.04 [m] energy  175.0 J\n",
      "new model\n",
      "start simulation\n",
      "max high 0.85 [m] max distance 9.64 [m] energy  175.0 J\n",
      "new model\n",
      "start simulation\n",
      "max high 0.15 [m] max distance 0.3 [m] energy  18.75 J\n",
      "new model\n",
      "start simulation\n",
      "max high 0.2 [m] max distance 1.58 [m] energy  675.0 J\n",
      "new model\n",
      "start simulation\n",
      "max high 0.22 [m] max distance 0.54 [m] energy  18.75 J\n",
      "new model\n",
      "start simulation\n",
      "max high 0.27 [m] max distance 0.71 [m] energy  175.0 J\n",
      "new model\n",
      "start simulation\n",
      "max high 0.17 [m] max distance 0.27 [m] energy  675.0 J\n",
      "new model\n",
      "start simulation\n",
      "max high 0.02 [m] max distance 0.0 [m] energy  18.75 J\n",
      "new model\n",
      "start simulation\n",
      "max high 0.47 [m] max distance 17.35 [m] energy  175.0 J\n",
      "new model\n",
      "start simulation\n",
      "max high 0.15 [m] max distance 0.01 [m] energy  175.0 J\n",
      "new model\n",
      "start simulation\n",
      "max high 0.33 [m] max distance 0.14 [m] energy  175.0 J\n",
      "new model\n",
      "start simulation\n",
      "max high 0.15 [m] max distance 0.0 [m] energy  18.75 J\n",
      "new model\n",
      "start simulation\n",
      "max high 157.2 [m] max distance 204.89 [m] energy  175.0 J\n",
      "new model\n",
      "start simulation\n",
      "max high 0.15 [m] max distance 0.0 [m] energy  18.75 J\n",
      "new model\n",
      "start simulation\n",
      "max high 0.15 [m] max distance 0.01 [m] energy  175.0 J\n",
      "new model\n",
      "start simulation\n",
      "max high 0.04 [m] max distance 0.01 [m] energy  18.75 J\n",
      "new model\n",
      "start simulation\n",
      "max high 0.15 [m] max distance 0.01 [m] energy  18.75 J\n",
      "new model\n",
      "start simulation\n"
     ]
    }
   ],
   "source": [
    "BS = Algorithm.genetic_algorith()"
   ]
  },
  {
   "cell_type": "code",
   "execution_count": null,
   "id": "455f4f2c-4052-442a-9d3d-28d020442156",
   "metadata": {},
   "outputs": [],
   "source": [
    "parameters = Model.Parameters([2.0e+01, 2.0e+01, 1.5e+02, 2.0e+01, 1.5e+02, 3.0e+01, 8.0e+01,\n",
    "       1.4e-02])#BS[0])\n",
    "\n",
    "\n",
    "robot = Model.model(parameters)"
   ]
  },
  {
   "cell_type": "code",
   "execution_count": null,
   "id": "1d2b4601-f4a5-4683-b513-bd152aba4514",
   "metadata": {},
   "outputs": [],
   "source": [
    "robot.simulate(True)"
   ]
  },
  {
   "cell_type": "code",
   "execution_count": null,
   "id": "b7a2648b-294b-4a74-92f7-29694a254772",
   "metadata": {},
   "outputs": [],
   "source": [
    "robot.plot()"
   ]
  },
  {
   "cell_type": "markdown",
   "id": "a0426cbf-ba4a-4d31-bf12-204be9234e04",
   "metadata": {
    "tags": []
   },
   "source": [
    "## Bayesian optimisation"
   ]
  }
 ],
 "metadata": {
  "kernelspec": {
   "display_name": "Python 3 (ipykernel)",
   "language": "python",
   "name": "python3"
  },
  "language_info": {
   "codemirror_mode": {
    "name": "ipython",
    "version": 3
   },
   "file_extension": ".py",
   "mimetype": "text/x-python",
   "name": "python",
   "nbconvert_exporter": "python",
   "pygments_lexer": "ipython3",
   "version": "3.9.10"
  }
 },
 "nbformat": 4,
 "nbformat_minor": 5
}
