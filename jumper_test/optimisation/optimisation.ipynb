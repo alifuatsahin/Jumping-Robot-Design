{
 "cells": [
  {
   "cell_type": "markdown",
   "id": "a21db7bb-0655-4d9b-adca-e935803dd252",
   "metadata": {
    "tags": []
   },
   "source": [
    "# Data-Driven Optimisation\n",
    "\n",
    "In this notebook, we will run data driven algorithm to optimise the parameter of our problem"
   ]
  },
  {
   "cell_type": "code",
   "execution_count": 1,
   "id": "9f525969-3c8f-4af3-98fa-902f89eb2782",
   "metadata": {},
   "outputs": [
    {
     "name": "stderr",
     "output_type": "stream",
     "text": [
      "pybullet build time: Mar  5 2024 15:57:27\n"
     ]
    }
   ],
   "source": [
    "import Model #import the simulation\n",
    "import numpy as np"
   ]
  },
  {
   "cell_type": "markdown",
   "id": "c83f8257-24b5-4dd7-8062-86f9d65f6c45",
   "metadata": {},
   "source": [
    "How to use models "
   ]
  },
  {
   "cell_type": "code",
   "execution_count": 2,
   "id": "fa312103-9dd2-4c39-a4f3-e07473f6f44f",
   "metadata": {},
   "outputs": [],
   "source": [
    "#initial data\n",
    "\n",
    "parameters = Model.Parameters(link3 = 70/1000,\n",
    "                              link1 = 30/1000,\n",
    "                              urdf_angle = 45*np.pi/180,\n",
    "                              stiffness = 1/1000,\n",
    "                              rest = 45*np.pi/180,\n",
    "                              friction = 1.3,\n",
    "                              compression = 40*np.pi/180)\n",
    "\n",
    "\n",
    "robot = Model.model(parameters)"
   ]
  },
  {
   "cell_type": "code",
   "execution_count": 3,
   "id": "c97953da-5237-423b-b9e3-fdc36c402473",
   "metadata": {},
   "outputs": [
    {
     "name": "stdout",
     "output_type": "stream",
     "text": [
      "40.00000000000001\n",
      "23.019995917537013\n",
      "19.481375861882828\n"
     ]
    },
    {
     "name": "stderr",
     "output_type": "stream",
     "text": [
      "ffmpeg version 4.2.2 Copyright (c) 2000-2019 the FFmpeg developers\n",
      "  built with clang version 12.0.0\n",
      "  configuration: --prefix=/Users/djay/miniforge3 --cc=arm64-apple-darwin20.0.0-clang --disable-doc --enable-avresample --enable-gmp --enable-hardcoded-tables --enable-libfreetype --enable-libvpx --enable-pthreads --enable-libopus --enable-postproc --enable-pic --enable-pthreads --enable-shared --enable-static --enable-version3 --enable-zlib --enable-libmp3lame --disable-nonfree --enable-gpl --enable-gnutls --disable-openssl --enable-libopenh264 --enable-libx264\n",
      "  libavutil      56. 31.100 / 56. 31.100\n",
      "  libavcodec     58. 54.100 / 58. 54.100\n",
      "  libavformat    58. 29.100 / 58. 29.100\n",
      "  libavdevice    58.  8.100 / 58.  8.100\n",
      "  libavfilter     7. 57.100 /  7. 57.100\n",
      "  libavresample   4.  0.  0 /  4.  0.  0\n",
      "  libswscale      5.  5.100 /  5.  5.100\n",
      "  libswresample   3.  5.100 /  3.  5.100\n",
      "  libpostproc    55.  5.100 / 55.  5.100\n",
      "Input #0, rawvideo, from 'pipe:':\n",
      "  Duration: N/A, start: 0.000000, bitrate: 6039797 kb/s\n",
      "    Stream #0:0: Video: rawvideo (RGBA / 0x41424752), rgba, 2048x1536, 6039797 kb/s, 60 tbr, 60 tbn, 60 tbc\n",
      "Stream mapping:\n",
      "  Stream #0:0 -> #0:0 (rawvideo (native) -> h264 (libx264))\n",
      "[libx264 @ 0x13600a000] using cpu capabilities: ARMv8 NEON\n",
      "[libx264 @ 0x13600a000] profile High, level 5.1\n",
      "[libx264 @ 0x13600a000] 264 - core 152 - H.264/MPEG-4 AVC codec - Copyleft 2003-2017 - http://www.videolan.org/x264.html - options: cabac=1 ref=5 deblock=1:0:0 analyse=0x3:0x113 me=hex subme=8 psy=1 psy_rd=1.00:0.00 mixed_ref=1 me_range=16 chroma_me=1 trellis=2 8x8dct=1 cqm=0 deadzone=21,11 fast_pskip=1 chroma_qp_offset=-2 threads=15 lookahead_threads=2 sliced_threads=0 nr=0 decimate=1 interlaced=0 bluray_compat=0 constrained_intra=0 bframes=3 b_pyramid=2 b_adapt=1 b_bias=0 direct=3 weightb=1 open_gop=0 weightp=2 keyint=250 keyint_min=25 scenecut=40 intra_refresh=0 rc_lookahead=50 rc=crf mbtree=1 crf=22.0 qcomp=0.60 qpmin=0 qpmax=69 qpstep=4 ip_ratio=1.40 aq=1:1.00\n",
      "Output #0, mp4, to 'record.mp4':\n",
      "  Metadata:\n",
      "    encoder         : Lavf58.29.100\n",
      "    Stream #0:0: Video: h264 (libx264) (avc1 / 0x31637661), yuv420p, 2048x1536, q=-1--1, 50000 kb/s, 60 fps, 15360 tbn, 60 tbc\n",
      "    Metadata:\n",
      "      encoder         : Lavc58.54.100 libx264\n",
      "    Side data:\n",
      "      cpb: bitrate max/min/avg: 0/0/50000000 buffer size: 0 vbv_delay: -1\n"
     ]
    },
    {
     "name": "stdout",
     "output_type": "stream",
     "text": [
      "14.042871372857299\n",
      "6.106580122752569\n",
      "-3.1609775614908453\n",
      "-3.1609775614908453\n",
      "-1.9718384711871042\n",
      "0.007319974392616628\n"
     ]
    },
    {
     "name": "stderr",
     "output_type": "stream",
     "text": [
      "frame=    8 fps=0.0 q=0.0 size=       0kB time=00:00:00.00 bitrate=N/A speed=   0x    \r"
     ]
    },
    {
     "name": "stdout",
     "output_type": "stream",
     "text": [
      "2.071800502597934\n",
      "3.51628424611443\n",
      "3.8636804377308462\n",
      "3.00539682171595\n",
      "1.219696103729676\n",
      "-0.9242416773008698\n"
     ]
    },
    {
     "name": "stderr",
     "output_type": "stream",
     "text": [
      "frame=   15 fps= 14 q=0.0 size=       0kB time=00:00:00.00 bitrate=N/A speed=   0x    \r"
     ]
    },
    {
     "name": "stdout",
     "output_type": "stream",
     "text": [
      "-0.7393933418406958\n",
      "-0.32819744131380674\n",
      "0.19974362174691712\n",
      "0.6668229267976871\n",
      "0.9226131996325349\n",
      "0.8846983368780774\n",
      "0.5637808681736529\n"
     ]
    },
    {
     "name": "stderr",
     "output_type": "stream",
     "text": [
      "frame=   22 fps= 13 q=0.0 size=       0kB time=00:00:00.00 bitrate=N/A speed=   0x    \r"
     ]
    },
    {
     "name": "stdout",
     "output_type": "stream",
     "text": [
      "0.06100249910906657\n",
      "-0.46563680209096714\n",
      "-0.3725094416727763\n",
      "-0.18243177950574366\n",
      "0.05741405584780481\n",
      "0.26742402652999986\n",
      "0.381799727473397\n"
     ]
    },
    {
     "name": "stderr",
     "output_type": "stream",
     "text": [
      "frame=   29 fps= 13 q=0.0 size=       0kB time=00:00:00.00 bitrate=N/A speed=   0x    \r"
     ]
    },
    {
     "name": "stdout",
     "output_type": "stream",
     "text": [
      "0.364513355959167\n",
      "0.2207995212036564\n",
      "-0.0040622450836134225\n",
      "-0.0032497960668869215\n",
      "-0.0035916041564385713\n",
      "-0.003774835592755272\n",
      "-0.003906122131448249\n"
     ]
    },
    {
     "name": "stderr",
     "output_type": "stream",
     "text": [
      "frame=   36 fps= 13 q=0.0 size=       0kB time=00:00:00.00 bitrate=N/A speed=   0x    \r"
     ]
    },
    {
     "name": "stdout",
     "output_type": "stream",
     "text": [
      "-0.004011188860066025\n",
      "-0.004096037661609752\n",
      "-0.0041623686010852385\n",
      "-0.004211314827335652\n",
      "-0.004136749995199674\n",
      "-0.0041493432249655885\n",
      "-0.0040662294970793\n"
     ]
    },
    {
     "name": "stderr",
     "output_type": "stream",
     "text": [
      "frame=   43 fps= 13 q=0.0 size=       0kB time=00:00:00.00 bitrate=N/A speed=   0x    \r"
     ]
    },
    {
     "name": "stdout",
     "output_type": "stream",
     "text": [
      "-0.004074182930030979\n",
      "-0.003988117238883489\n",
      "-0.0039926028712098695\n",
      "-0.004007248089834348\n",
      "-0.0040139377973836075\n",
      "-0.004010481261494212\n",
      "-0.003998408956809441\n"
     ]
    },
    {
     "name": "stderr",
     "output_type": "stream",
     "text": [
      "frame=   49 fps= 13 q=0.0 size=       0kB time=00:00:00.00 bitrate=N/A speed=   0x    \r"
     ]
    },
    {
     "name": "stdout",
     "output_type": "stream",
     "text": [
      "-0.00397984043002543\n",
      "-0.003956733606094735\n",
      "-0.003930745554814258\n",
      "-0.004024182766696268\n",
      "-0.004123947719934182\n",
      "-0.004205743816710698\n"
     ]
    },
    {
     "name": "stderr",
     "output_type": "stream",
     "text": [
      "frame=   56 fps= 13 q=0.0 size=       0kB time=00:00:00.00 bitrate=N/A speed=   0x    \r"
     ]
    },
    {
     "name": "stdout",
     "output_type": "stream",
     "text": [
      "-0.004268141086962667\n",
      "-0.00431474573112952\n",
      "-0.00450534927195883\n",
      "-0.004699132759506576\n",
      "-0.004865229965178393\n",
      "-0.0050022495022708615\n",
      "-0.0051154565312494064\n"
     ]
    },
    {
     "name": "stderr",
     "output_type": "stream",
     "text": [
      "frame=   63 fps= 13 q=0.0 size=       0kB time=00:00:00.00 bitrate=N/A speed=   0x    \r"
     ]
    },
    {
     "name": "stdout",
     "output_type": "stream",
     "text": [
      "-0.005421685660960778\n",
      "-0.005734052372776674\n",
      "-0.006008949579144581\n",
      "-0.006243160771286083\n",
      "-0.006732294061710598\n",
      "-0.00722885574957128\n",
      "-0.007669031197360992\n"
     ]
    },
    {
     "name": "stderr",
     "output_type": "stream",
     "text": [
      "frame=   70 fps= 13 q=30.0 size=       0kB time=-00:00:00.03 bitrate=N/A speed=N/A    \r"
     ]
    },
    {
     "name": "stdout",
     "output_type": "stream",
     "text": [
      "-0.008045741611338931\n",
      "-0.008367114645344342\n",
      "-0.008643588128257634\n",
      "-0.008884319471541465\n",
      "-0.009096485165417762\n",
      "-0.009285404465703053\n",
      "-0.009454849177200951\n"
     ]
    },
    {
     "name": "stderr",
     "output_type": "stream",
     "text": [
      "frame=   77 fps= 13 q=30.0 size=       0kB time=00:00:00.08 bitrate=   4.6kbits/s speed=0.0136x    \r"
     ]
    },
    {
     "name": "stdout",
     "output_type": "stream",
     "text": [
      "-0.009607356743643802\n",
      "-0.009744503540072407\n",
      "-0.009867135235240024\n",
      "-0.009975560592630658\n",
      "-0.010069715775897436\n",
      "-0.010149304716206032\n",
      "-0.010213919325497178\n"
     ]
    },
    {
     "name": "stderr",
     "output_type": "stream",
     "text": [
      "frame=   84 fps= 13 q=30.0 size=       0kB time=00:00:00.20 bitrate=   1.9kbits/s speed=0.0299x    \r"
     ]
    },
    {
     "name": "stdout",
     "output_type": "stream",
     "text": [
      "-0.01071134968437874\n",
      "-0.010768956030885563\n",
      "-0.011167477387010698\n",
      "-0.011114827129410407\n",
      "-0.011406984216678556\n",
      "-0.011726544922212066\n",
      "-0.011986199575050573\n"
     ]
    },
    {
     "name": "stderr",
     "output_type": "stream",
     "text": [
      "frame=   91 fps= 13 q=30.0 size=       0kB time=00:00:00.31 bitrate=   1.2kbits/s speed=0.0437x    \r"
     ]
    },
    {
     "name": "stdout",
     "output_type": "stream",
     "text": [
      "-0.012170838158107166\n",
      "-0.012286424435975838\n",
      "-0.012343804217285648\n",
      "-0.012353844366281154\n",
      "-0.01232617897014093\n",
      "-0.012269053576426374\n",
      "-0.01177801432782055\n"
     ]
    },
    {
     "name": "stderr",
     "output_type": "stream",
     "text": [
      "frame=   98 fps= 13 q=30.0 size=       0kB time=00:00:00.43 bitrate=   0.9kbits/s speed=0.0556x    \r"
     ]
    },
    {
     "name": "stdout",
     "output_type": "stream",
     "text": [
      "-0.011252016236904246\n",
      "-0.010783720600816797\n",
      "-0.010385520849417112\n",
      "-0.009756831748853627\n",
      "-0.009177159508979562\n",
      "-0.008692567175281557\n",
      "-0.00829802500876479\n"
     ]
    },
    {
     "name": "stderr",
     "output_type": "stream",
     "text": [
      "frame=  105 fps= 13 q=30.0 size=       0kB time=00:00:00.55 bitrate=   0.7kbits/s speed=0.0659x    \r"
     ]
    },
    {
     "name": "stdout",
     "output_type": "stream",
     "text": [
      "-0.007979615474592132\n",
      "-0.007510456571608791\n",
      "-0.007091744033299535\n",
      "-0.006751679250951754\n",
      "-0.006483721466164063\n",
      "-0.00627614059853222\n",
      "-0.005956358757123039\n"
     ]
    },
    {
     "name": "stderr",
     "output_type": "stream",
     "text": [
      "frame=  112 fps= 13 q=30.0 size=     256kB time=00:00:00.66 bitrate=3146.0kbits/s speed=0.075x    \r"
     ]
    },
    {
     "name": "stdout",
     "output_type": "stream",
     "text": [
      "-0.005675877626213061\n",
      "-0.0054551194229568575\n",
      "-0.0052887311597072245\n",
      "-0.0051676256446071215\n",
      "-0.005083437283016612\n",
      "-0.004901372768937241\n",
      "-0.004740640980297686\n"
     ]
    },
    {
     "name": "stderr",
     "output_type": "stream",
     "text": [
      "frame=  119 fps= 13 q=30.0 size=     256kB time=00:00:00.78 bitrate=2677.5kbits/s speed=0.083x    \r"
     ]
    },
    {
     "name": "stdout",
     "output_type": "stream",
     "text": [
      "-0.00461963508982637\n",
      "-0.004535682763216382\n",
      "0.0007124760612872794\n",
      "-1.883974285891809\n",
      "-1.5072485406057212\n",
      "-1.060487917839835\n",
      "-0.43987171099154626\n"
     ]
    },
    {
     "name": "stderr",
     "output_type": "stream",
     "text": [
      "frame=  126 fps= 13 q=30.0 size=     256kB time=00:00:00.90 bitrate=2330.4kbits/s speed=0.0901x    \r"
     ]
    },
    {
     "name": "stdout",
     "output_type": "stream",
     "text": [
      "0.18716508943371132\n",
      "0.6281417814332424\n",
      "0.7827450353740187\n",
      "0.6136130227802957\n",
      "0.1594672338071809\n",
      "-0.463701760489167\n",
      "-0.3724233086413857\n"
     ]
    },
    {
     "name": "stderr",
     "output_type": "stream",
     "text": [
      "frame=  133 fps= 13 q=30.0 size=     256kB time=00:00:01.01 bitrate=2063.0kbits/s speed=0.0964x    \r"
     ]
    },
    {
     "name": "stdout",
     "output_type": "stream",
     "text": [
      "-0.29809089088117663\n",
      "-0.23860436478298744\n",
      "-0.1910579012905172\n",
      "-0.153054085155286\n",
      "-0.1226767434240357\n",
      "-0.0983947513728369\n",
      "-0.07898374372310872\n"
     ]
    },
    {
     "name": "stderr",
     "output_type": "stream",
     "text": [
      "frame=  140 fps= 13 q=30.0 size=     256kB time=00:00:01.13 bitrate=1850.7kbits/s speed=0.102x    \r"
     ]
    },
    {
     "name": "stdout",
     "output_type": "stream",
     "text": [
      "-0.06346526827865016\n",
      "-0.05105745189424939\n",
      "-0.041135501185700765\n",
      "-0.033200111457766676\n",
      "-0.02685221294926113\n",
      "-0.021772793742497586\n",
      "-0.01770552746890227\n"
     ]
    },
    {
     "name": "stderr",
     "output_type": "stream",
     "text": [
      "frame=  147 fps= 13 q=30.0 size=     256kB time=00:00:01.25 bitrate=1677.9kbits/s speed=0.107x    \r"
     ]
    },
    {
     "name": "stdout",
     "output_type": "stream",
     "text": [
      "-0.014444816539886513\n",
      "-0.011828629230570648\n",
      "-0.009727310961191364\n",
      "-0.008037076880264206\n",
      "-0.006674882179940221\n",
      "-0.00557433102681173\n",
      "-0.004682412822914667\n"
     ]
    },
    {
     "name": "stderr",
     "output_type": "stream",
     "text": [
      "frame=  154 fps= 13 q=30.0 size=     256kB time=00:00:01.36 bitrate=1534.7kbits/s speed=0.112x    \r"
     ]
    },
    {
     "name": "stdout",
     "output_type": "stream",
     "text": [
      "-0.003956893131719199\n",
      "-0.00336421142050264\n",
      "-0.0028777527884863143\n",
      "-0.002476374808662859\n",
      "-0.0021430960185608488\n",
      "-0.001863898725793347\n",
      "-0.001626662522934773\n"
     ]
    },
    {
     "name": "stderr",
     "output_type": "stream",
     "text": [
      "frame=  161 fps= 13 q=30.0 size=     256kB time=00:00:01.48 bitrate=1414.0kbits/s speed=0.116x    \r"
     ]
    },
    {
     "name": "stdout",
     "output_type": "stream",
     "text": [
      "-0.0014152055308565704\n",
      "-0.0013038636066804781\n",
      "-0.0012150365025087504\n",
      "-0.0011511515379123297\n",
      "-0.001105339543937138\n",
      "-0.001071011997788386\n",
      "0.7316617723264811\n"
     ]
    },
    {
     "name": "stderr",
     "output_type": "stream",
     "text": [
      "frame=  168 fps= 13 q=30.0 size=     512kB time=00:00:01.60 bitrate=2621.6kbits/s speed=0.12x    \r"
     ]
    },
    {
     "name": "stdout",
     "output_type": "stream",
     "text": [
      "4.473099663344465\n",
      "7.924535298590953\n",
      "10.873228188091243\n",
      "13.14863460932745\n",
      "13.70672420835765\n",
      "14.106125881493384\n",
      "13.68632791383059\n"
     ]
    },
    {
     "name": "stderr",
     "output_type": "stream",
     "text": [
      "frame=  175 fps= 13 q=30.0 size=     512kB time=00:00:01.71 bitrate=2443.4kbits/s speed=0.124x    \r"
     ]
    },
    {
     "name": "stdout",
     "output_type": "stream",
     "text": [
      "12.335768936913427\n",
      "10.238640842850593\n",
      "7.568671502450174\n",
      "4.475257448373799\n",
      "1.144267929798465\n",
      "-2.1989627783254013\n",
      "-1.759170222660321\n"
     ]
    },
    {
     "name": "stderr",
     "output_type": "stream",
     "text": [
      "frame=  182 fps= 13 q=30.0 size=     512kB time=00:00:01.83 bitrate=2287.9kbits/s speed=0.127x    \r"
     ]
    },
    {
     "name": "stdout",
     "output_type": "stream",
     "text": [
      "-0.9944244275505937\n",
      "0.04416778837170171\n",
      "1.0299088019663083\n",
      "1.6564773345573747\n",
      "1.7378908947405483\n",
      "1.2534424100885855\n",
      "0.354087633239538\n"
     ]
    },
    {
     "name": "stderr",
     "output_type": "stream",
     "text": [
      "frame=  189 fps= 13 q=30.0 size=     512kB time=00:00:01.95 bitrate=2151.1kbits/s speed=0.13x    \r"
     ]
    },
    {
     "name": "stdout",
     "output_type": "stream",
     "text": [
      "-0.681398572655323\n",
      "-0.5476820830565964\n",
      "-0.40110158543813845\n",
      "-0.2472436091799065\n",
      "-0.13125177308701544\n",
      "-0.08581806774556427\n",
      "-0.06870546423959671\n"
     ]
    },
    {
     "name": "stderr",
     "output_type": "stream",
     "text": [
      "frame=  196 fps= 13 q=30.0 size=     512kB time=00:00:02.06 bitrate=2029.6kbits/s speed=0.133x    \r"
     ]
    },
    {
     "name": "stdout",
     "output_type": "stream",
     "text": [
      "-0.055038920965300726\n",
      "-0.04411175098199901\n",
      "-0.035375266286932945\n",
      "-0.02839243673994101\n",
      "-0.022813945848639067\n",
      "-0.018360404698239328\n",
      "-0.014808288174929839\n"
     ]
    },
    {
     "name": "stderr",
     "output_type": "stream",
     "text": [
      "frame=  203 fps= 13 q=30.0 size=     512kB time=00:00:02.18 bitrate=1921.2kbits/s speed=0.136x    \r"
     ]
    },
    {
     "name": "stdout",
     "output_type": "stream",
     "text": [
      "-0.01197873477974102\n",
      "-0.009728577447340693\n",
      "-0.007943167420551813\n",
      "-0.006530471899069738\n",
      "-0.005416710947597503\n",
      "-0.004542616973833057\n",
      "-0.003859784026122201\n"
     ]
    },
    {
     "name": "stderr",
     "output_type": "stream",
     "text": [
      "frame=  210 fps= 13 q=30.0 size=     512kB time=00:00:02.30 bitrate=1823.7kbits/s speed=0.138x    \r"
     ]
    },
    {
     "name": "stdout",
     "output_type": "stream",
     "text": [
      "-0.0033297445053420507\n",
      "-0.0041074600829648766\n",
      "1.6615791985933273\n",
      "3.5608051253121853\n",
      "5.227377424497084\n",
      "6.618338189233279\n",
      "7.728762713118017\n"
     ]
    },
    {
     "name": "stderr",
     "output_type": "stream",
     "text": [
      "frame=  217 fps= 13 q=30.0 size=     512kB time=00:00:02.41 bitrate=1735.7kbits/s speed=0.141x    \r"
     ]
    },
    {
     "name": "stdout",
     "output_type": "stream",
     "text": [
      "8.428184279347862\n",
      "8.6692514650477\n",
      "8.436819388772165\n",
      "7.743835899058887\n",
      "6.637334263229162\n",
      "5.191161752396563\n",
      "3.501486281946284\n"
     ]
    },
    {
     "name": "stderr",
     "output_type": "stream",
     "text": [
      "frame=  224 fps= 13 q=30.0 size=     512kB time=00:00:02.53 bitrate=1655.8kbits/s speed=0.143x    \r"
     ]
    },
    {
     "name": "stdout",
     "output_type": "stream",
     "text": [
      "1.682147191014478\n",
      "-0.14481727808957748\n",
      "-0.11949157916781472\n",
      "-0.09609750911991147\n",
      "-0.077075388887032\n",
      "-0.06183788606121424\n",
      "-0.04965532697076687\n"
     ]
    },
    {
     "name": "stderr",
     "output_type": "stream",
     "text": [
      "frame=  231 fps= 13 q=30.0 size=     512kB time=00:00:02.65 bitrate=1582.9kbits/s speed=0.145x    \r"
     ]
    },
    {
     "name": "stdout",
     "output_type": "stream",
     "text": [
      "-0.03991701969529872\n",
      "-0.032131643896223715\n",
      "-0.025907057114139837\n",
      "-0.02093065403467793\n",
      "-0.016952831308766403\n",
      "-0.013774216223329479\n",
      "-0.011235508236942481\n"
     ]
    },
    {
     "name": "stderr",
     "output_type": "stream",
     "text": [
      "frame=  238 fps= 13 q=30.0 size=     512kB time=00:00:02.76 bitrate=1516.1kbits/s speed=0.147x    \r"
     ]
    },
    {
     "name": "stdout",
     "output_type": "stream",
     "text": [
      "-0.00920936758327699\n",
      "-0.007593948919142721\n",
      "-0.006307739886083151\n",
      "-0.005285440499438798\n",
      "-0.0044745394485870464\n",
      "0.19026722583977043\n",
      "1.1552189544056917\n"
     ]
    },
    {
     "name": "stderr",
     "output_type": "stream",
     "text": [
      "frame=  245 fps= 13 q=30.0 size=     768kB time=00:00:02.88 bitrate=2182.1kbits/s speed=0.148x    \r"
     ]
    },
    {
     "name": "stdout",
     "output_type": "stream",
     "text": [
      "2.036600888412601\n",
      "2.881991277231455\n",
      "3.637877900861089\n",
      "4.254215289264441\n",
      "4.6891459482456535\n",
      "4.914805906547265\n",
      "4.915431959651983\n"
     ]
    },
    {
     "name": "stderr",
     "output_type": "stream",
     "text": [
      "frame=  252 fps= 13 q=30.0 size=     768kB time=00:00:03.00 bitrate=2097.2kbits/s speed=0.15x    \r"
     ]
    },
    {
     "name": "stdout",
     "output_type": "stream",
     "text": [
      "4.691262907973616\n",
      "4.257522791814889\n",
      "3.6426076893396235\n",
      "2.888856187686196\n",
      "2.045897938429259\n",
      "1.1706378435201263\n",
      "0.32210250946300745\n"
     ]
    },
    {
     "name": "stderr",
     "output_type": "stream",
     "text": [
      "frame=  259 fps= 13 q=30.0 size=     768kB time=00:00:03.11 bitrate=2018.7kbits/s speed=0.152x    \r"
     ]
    },
    {
     "name": "stdout",
     "output_type": "stream",
     "text": [
      "-0.4403545153557692\n",
      "-0.35228361228461663\n",
      "-0.28225437783682616\n",
      "-0.21330804334288275\n",
      "-0.15274987389701117\n",
      "-0.11840109024715073\n",
      "-0.0948301649374235\n"
     ]
    },
    {
     "name": "stderr",
     "output_type": "stream",
     "text": [
      "frame=  266 fps= 13 q=30.0 size=     768kB time=00:00:03.23 bitrate=1945.9kbits/s speed=0.153x    \r"
     ]
    },
    {
     "name": "stdout",
     "output_type": "stream",
     "text": [
      "0.052466891939681286\n",
      "0.2945871098812268\n",
      "0.73078349229536\n",
      "1.2089624480293437\n",
      "1.712069388271692\n",
      "2.205317659152843\n",
      "2.6556739540586243\n"
     ]
    },
    {
     "name": "stderr",
     "output_type": "stream",
     "text": [
      "frame=  273 fps= 13 q=30.0 size=     768kB time=00:00:03.35 bitrate=1878.1kbits/s speed=0.154x    \r"
     ]
    },
    {
     "name": "stdout",
     "output_type": "stream",
     "text": [
      "3.0329868243410822\n",
      "3.3121613533395933\n",
      "3.475602817897989\n",
      "3.5115702981574\n",
      "3.4176442499384323\n",
      "3.2001931667342607\n",
      "2.873826641774443\n"
     ]
    },
    {
     "name": "stderr",
     "output_type": "stream",
     "text": [
      "frame=  280 fps= 13 q=30.0 size=     768kB time=00:00:03.46 bitrate=1814.9kbits/s speed=0.156x    \r"
     ]
    },
    {
     "name": "stdout",
     "output_type": "stream",
     "text": [
      "2.4604250712277786\n",
      "1.985999290978672\n",
      "1.4829537465552591\n",
      "0.9861911577100791\n",
      "0.5272270449669311\n",
      "0.13827515685450806\n",
      "-0.1519251149810344\n"
     ]
    },
    {
     "name": "stderr",
     "output_type": "stream",
     "text": [
      "frame=  287 fps= 13 q=30.0 size=     768kB time=00:00:03.58 bitrate=1755.8kbits/s speed=0.157x    \r"
     ]
    },
    {
     "name": "stdout",
     "output_type": "stream",
     "text": [
      "-0.12286941078461729\n",
      "-0.09941220242203597\n",
      "0.04400868737616587\n",
      "0.26747339296624306\n",
      "0.5789379096586037\n",
      "0.9530693754546165\n",
      "1.3683675974383527\n"
     ]
    },
    {
     "name": "stderr",
     "output_type": "stream",
     "text": [
      "frame=  294 fps= 13 q=30.0 size=     768kB time=00:00:03.70 bitrate=1700.5kbits/s speed=0.158x    \r"
     ]
    },
    {
     "name": "stdout",
     "output_type": "stream",
     "text": [
      "1.79721839210389\n",
      "2.2112878538015037\n",
      "2.583019193616701\n",
      "2.886803585313499\n",
      "3.1033375642165075\n",
      "3.2173175694919904\n"
     ]
    },
    {
     "name": "stderr",
     "output_type": "stream",
     "text": [
      "frame=  300 fps= 12 q=-1.0 Lsize=    1074kB time=00:00:04.95 bitrate=1777.6kbits/s speed=0.205x    \n",
      "video:1070kB audio:0kB subtitle:0kB other streams:0kB global headers:0kB muxing overhead: 0.406047%\n",
      "[libx264 @ 0x13600a000] frame I:2     Avg QP:20.67  size: 56450\n",
      "[libx264 @ 0x13600a000] frame P:77    Avg QP:23.71  size:  5877\n",
      "[libx264 @ 0x13600a000] frame B:221   Avg QP:30.82  size:  2395\n",
      "[libx264 @ 0x13600a000] consecutive B-frames:  1.0%  2.0%  1.0% 96.0%\n",
      "[libx264 @ 0x13600a000] mb I  I16..4: 31.2% 56.6% 12.2%\n",
      "[libx264 @ 0x13600a000] mb P  I16..4:  0.6%  1.0%  0.3%  P16..4:  5.8%  1.8%  0.8%  0.0%  0.0%    skip:89.8%\n",
      "[libx264 @ 0x13600a000] mb B  I16..4:  0.1%  0.0%  0.0%  B16..8:  5.6%  1.3%  0.3%  direct: 0.1%  skip:92.5%  L0:50.1% L1:47.8% BI: 2.1%\n",
      "[libx264 @ 0x13600a000] 8x8 transform intra:53.0% inter:22.1%\n",
      "[libx264 @ 0x13600a000] direct mvs  spatial:96.4% temporal:3.6%\n",
      "[libx264 @ 0x13600a000] coded y,uvDC,uvAC intra: 13.1% 18.4% 12.3% inter: 0.5% 0.5% 0.2%\n",
      "[libx264 @ 0x13600a000] i16 v,h,dc,p: 43% 40%  2% 15%\n",
      "[libx264 @ 0x13600a000] i8 v,h,dc,ddl,ddr,vr,hd,vl,hu: 46% 11% 33%  1%  2%  1%  2%  1%  2%\n",
      "[libx264 @ 0x13600a000] i4 v,h,dc,ddl,ddr,vr,hd,vl,hu: 20% 42% 24%  1%  2%  2%  3%  1%  5%\n",
      "[libx264 @ 0x13600a000] i8c dc,h,v,p: 66% 23%  8%  3%\n",
      "[libx264 @ 0x13600a000] Weighted P-Frames: Y:0.0% UV:0.0%\n",
      "[libx264 @ 0x13600a000] ref P L0: 56.8%  2.8% 19.8% 11.2%  9.2%  0.2%\n",
      "[libx264 @ 0x13600a000] ref B L0: 65.9% 23.9%  8.0%  2.1%\n",
      "[libx264 @ 0x13600a000] ref B L1: 91.4%  8.6%\n",
      "[libx264 @ 0x13600a000] kb/s:1751.62\n"
     ]
    },
    {
     "ename": "error",
     "evalue": "Not connected to physics server.",
     "output_type": "error",
     "traceback": [
      "\u001b[0;31m---------------------------------------------------------------------------\u001b[0m",
      "\u001b[0;31merror\u001b[0m                                     Traceback (most recent call last)",
      "Input \u001b[0;32mIn [3]\u001b[0m, in \u001b[0;36m<cell line: 1>\u001b[0;34m()\u001b[0m\n\u001b[0;32m----> 1\u001b[0m \u001b[43mrobot\u001b[49m\u001b[38;5;241;43m.\u001b[39;49m\u001b[43msimulate\u001b[49m\u001b[43m(\u001b[49m\u001b[43m)\u001b[49m\n",
      "File \u001b[0;32m~/Desktop/Jumping-Robot-Design/jumper_test/optimisation/Model.py:87\u001b[0m, in \u001b[0;36mmodel.simulate\u001b[0;34m(self)\u001b[0m\n\u001b[1;32m     84\u001b[0m     time\u001b[38;5;241m.\u001b[39msleep(\u001b[38;5;241m0.01\u001b[39m)\n\u001b[1;32m     86\u001b[0m p\u001b[38;5;241m.\u001b[39mdisconnect()\n\u001b[0;32m---> 87\u001b[0m \u001b[43mp\u001b[49m\u001b[38;5;241;43m.\u001b[39;49m\u001b[43mstopStateLogging\u001b[49m\u001b[43m(\u001b[49m\u001b[43mlog\u001b[49m\u001b[43m)\u001b[49m\n",
      "\u001b[0;31merror\u001b[0m: Not connected to physics server."
     ]
    }
   ],
   "source": [
    "robot.simulate()"
   ]
  },
  {
   "cell_type": "code",
   "execution_count": null,
   "id": "7c32040c-d726-4eb5-aa06-0837f705bada",
   "metadata": {},
   "outputs": [],
   "source": []
  }
 ],
 "metadata": {
  "kernelspec": {
   "display_name": "Python 3 (ipykernel)",
   "language": "python",
   "name": "python3"
  },
  "language_info": {
   "codemirror_mode": {
    "name": "ipython",
    "version": 3
   },
   "file_extension": ".py",
   "mimetype": "text/x-python",
   "name": "python",
   "nbconvert_exporter": "python",
   "pygments_lexer": "ipython3",
   "version": "3.9.10"
  }
 },
 "nbformat": 4,
 "nbformat_minor": 5
}
