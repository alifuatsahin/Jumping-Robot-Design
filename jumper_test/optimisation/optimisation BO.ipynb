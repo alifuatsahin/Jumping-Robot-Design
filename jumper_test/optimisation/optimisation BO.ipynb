{
 "cells": [
  {
   "cell_type": "markdown",
   "id": "a21db7bb-0655-4d9b-adca-e935803dd252",
   "metadata": {
    "tags": []
   },
   "source": [
    "# Data-Driven Optimisation - bayesian optimisation\n",
    "\n",
    "In this notebook, we will run data driven algorithm to optimise the parameter of our problem"
   ]
  },
  {
   "cell_type": "code",
   "execution_count": 1,
   "id": "9f525969-3c8f-4af3-98fa-902f89eb2782",
   "metadata": {
    "tags": []
   },
   "outputs": [
    {
     "name": "stderr",
     "output_type": "stream",
     "text": [
      "pybullet build time: Mar  5 2024 15:57:27\n"
     ]
    }
   ],
   "source": [
    "import Model #import the simulation and the model\n",
    "import Algorithm #import data-driven algorithms \n",
    "import numpy as np\n",
    "import matplotlib.pyplot as plt"
   ]
  },
  {
   "cell_type": "markdown",
   "id": "c83f8257-24b5-4dd7-8062-86f9d65f6c45",
   "metadata": {},
   "source": [
    "How to use models "
   ]
  },
  {
   "cell_type": "markdown",
   "id": "a0426cbf-ba4a-4d31-bf12-204be9234e04",
   "metadata": {
    "tags": []
   },
   "source": [
    "## Bayesian optimisation"
   ]
  },
  {
   "cell_type": "code",
   "execution_count": 3,
   "id": "50354b82-f6e3-42db-99e4-7b5422334a42",
   "metadata": {},
   "outputs": [
    {
     "name": "stdout",
     "output_type": "stream",
     "text": [
      "max high 0.386 [m] max distance 0.891 [m] energy  0.73 J\n",
      "[0.008753137909847953]\n",
      "[[100.         111.75731727]\n",
      " [  0.95737254   1.03737254]\n",
      " [  0.792839     0.872839  ]\n",
      " [  0.8536645    1.0136645 ]\n",
      " [  0.72281927   0.8       ]\n",
      " [ 62.3686414   70.        ]\n",
      " [ 26.96853733  30.        ]\n",
      " [ 30.95181293  44.95181293]]\n"
     ]
    }
   ],
   "source": [
    "best_parameters = [101.75731727,   0.99737254,   0.832839  ,   0.9336645 ,\n",
    "         0.79281927,  67.3686414 ,  29.46853733,  37.95181293]\n",
    "result = [Algorithm.function_obj(best_parameters)]\n",
    "print(result)\n",
    "Range = 0.1\n",
    "bound = Algorithm.create_boundaries(best_parameters,Range)\n",
    "print(bound)"
   ]
  },
  {
   "cell_type": "code",
   "execution_count": null,
   "id": "077a38d4-0c4b-46ee-bc92-ea68d35fb686",
   "metadata": {},
   "outputs": [
    {
     "name": "stdout",
     "output_type": "stream",
     "text": [
      "optimising around parameter:\n",
      "l2\n",
      "l3_c\n",
      "l4\n",
      "l5_c\n",
      "compression_ratio\n",
      "rest_angle\n",
      "stiffness\n",
      "link_angle\n",
      "creating initial pool\n",
      "max high 0.283 [m] max distance 0.645 [m] energy  0.5251 J\n",
      "max high 0.351 [m] max distance 0.769 [m] energy  0.6531 J\n",
      "max high 0.305 [m] max distance 0.69 [m] energy  0.5714 J\n",
      "max high 0.302 [m] max distance 0.779 [m] energy  0.6133 J\n",
      "max high 0.265 [m] max distance 0.654 [m] energy  0.5582 J\n",
      "max high 0.366 [m] max distance 0.775 [m] energy  0.6288 J\n",
      "max high 0.419 [m] max distance 0.702 [m] energy  0.669 J\n",
      "max high 0.341 [m] max distance 0.83 [m] energy  0.6714 J\n",
      "max high 0.356 [m] max distance 0.781 [m] energy  0.7102 J\n",
      "max high 0.346 [m] max distance 0.767 [m] energy  0.6573 J\n",
      "max high 0.258 [m] max distance 0.637 [m] energy  0.495 J\n",
      "max high 0.328 [m] max distance 0.759 [m] energy  0.6573 J\n",
      "max high 0.317 [m] max distance 0.752 [m] energy  0.5922 J\n",
      "max high 0.268 [m] max distance 0.624 [m] energy  0.519 J\n",
      "max high 0.308 [m] max distance 0.711 [m] energy  0.6598 J\n",
      "max high 0.375 [m] max distance 0.838 [m] energy  0.7071 J\n",
      "max high 0.393 [m] max distance 0.866 [m] energy  0.7971 J\n",
      "max high 0.281 [m] max distance 0.652 [m] energy  0.5555 J\n",
      "max high 0.345 [m] max distance 0.708 [m] energy  0.6695 J\n",
      "max high 0.292 [m] max distance 0.683 [m] energy  0.5918 J\n",
      "max high 0.28 [m] max distance 0.639 [m] energy  0.5625 J\n",
      "max high 0.313 [m] max distance 0.69 [m] energy  0.6054 J\n",
      "max high 0.381 [m] max distance 0.87 [m] energy  0.7197 J\n",
      "max high 0.398 [m] max distance 0.72 [m] energy  0.6779 J\n",
      "max high 0.317 [m] max distance 0.666 [m] energy  0.6044 J\n",
      "max high 0.361 [m] max distance 0.844 [m] energy  0.6798 J\n",
      "max high 0.288 [m] max distance 0.719 [m] energy  0.5556 J\n",
      "max high 0.261 [m] max distance 0.623 [m] energy  0.5148 J\n",
      "max high 0.329 [m] max distance 0.7 [m] energy  0.6388 J\n",
      "max high 0.371 [m] max distance 0.647 [m] energy  0.6951 J\n",
      "running the algorithm\n"
     ]
    }
   ],
   "source": [
    "nb_generation = 10\n",
    "\n",
    "# this function optimise along one parameters\n",
    "BO = Algorithm.bayesian_optimisation(nb_generation,initial_sample_size = 30,\n",
    "                                     params = [0,1,2,3,4,5,6,7],special_boundaries=bound,\n",
    "                                     initial_best = best_parameters,\n",
    "                                     printer = 3)\n"
   ]
  },
  {
   "cell_type": "code",
   "execution_count": null,
   "id": "0197f44f-ea7f-4926-a0e0-5999829e4329",
   "metadata": {},
   "outputs": [],
   "source": []
  }
 ],
 "metadata": {
  "kernelspec": {
   "display_name": "Python 3 (ipykernel)",
   "language": "python",
   "name": "python3"
  },
  "language_info": {
   "codemirror_mode": {
    "name": "ipython",
    "version": 3
   },
   "file_extension": ".py",
   "mimetype": "text/x-python",
   "name": "python",
   "nbconvert_exporter": "python",
   "pygments_lexer": "ipython3",
   "version": "3.9.10"
  }
 },
 "nbformat": 4,
 "nbformat_minor": 5
}
