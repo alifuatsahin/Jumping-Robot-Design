{
 "cells": [
  {
   "cell_type": "markdown",
   "id": "a21db7bb-0655-4d9b-adca-e935803dd252",
   "metadata": {
    "tags": []
   },
   "source": [
    "# Data-Driven Optimisation - bayesian optimisation\n",
    "\n",
    "In this notebook, we will run data driven algorithm to optimise the parameter of our problem"
   ]
  },
  {
   "cell_type": "code",
   "execution_count": 1,
   "id": "9f525969-3c8f-4af3-98fa-902f89eb2782",
   "metadata": {
    "tags": []
   },
   "outputs": [
    {
     "name": "stderr",
     "output_type": "stream",
     "text": [
      "pybullet build time: Mar  5 2024 15:57:27\n"
     ]
    }
   ],
   "source": [
    "import Model #import the simulation and the model\n",
    "import Algorithm #import data-driven algorithms \n",
    "import numpy as np\n",
    "import matplotlib.pyplot as plt"
   ]
  },
  {
   "cell_type": "markdown",
   "id": "c83f8257-24b5-4dd7-8062-86f9d65f6c45",
   "metadata": {},
   "source": [
    "How to use models "
   ]
  },
  {
   "cell_type": "markdown",
   "id": "a0426cbf-ba4a-4d31-bf12-204be9234e04",
   "metadata": {
    "tags": []
   },
   "source": [
    "## Bayesian optimisation"
   ]
  },
  {
   "cell_type": "code",
   "execution_count": 2,
   "id": "50354b82-f6e3-42db-99e4-7b5422334a42",
   "metadata": {},
   "outputs": [
    {
     "name": "stdout",
     "output_type": "stream",
     "text": [
      "new model\n",
      "start simulation\n",
      "max high 0.233 [m] max distance 0.6 [m] energy  0.0053 J\n",
      "[0.008571163862116942]\n",
      "[[50. 60.]\n",
      " [70. 80.]\n",
      " [50. 60.]\n",
      " [30. 40.]\n",
      " [70. 80.]\n",
      " [ 4. 14.]\n",
      " [10. 20.]]\n"
     ]
    }
   ],
   "source": [
    "best_parameters = [60., 70., 50., 40., 80., 14., 10.]\n",
    "result = [Algorithm.function_obj(best_parameters)]\n",
    "print(result)\n",
    "Range = 10 \n",
    "bound = Algorithm.create_boundaries(best_parameters,Range)\n",
    "print(bound)"
   ]
  },
  {
   "cell_type": "code",
   "execution_count": null,
   "id": "077a38d4-0c4b-46ee-bc92-ea68d35fb686",
   "metadata": {},
   "outputs": [
    {
     "name": "stdout",
     "output_type": "stream",
     "text": [
      "optimising around parameter:\n",
      "l1\n",
      "l2\n",
      "l5\n",
      "creating initial pool\n",
      "new model\n",
      "start simulation\n",
      "max high 0.23 [m] max distance 0.55 [m] energy  0.0201 J\n",
      "new model\n",
      "start simulation\n",
      "max high 0.235 [m] max distance 0.492 [m] energy  0.0536 J\n",
      "new model\n",
      "start simulation\n",
      "max high 0.195 [m] max distance 0.53 [m] energy  0.0008 J\n",
      "new model\n",
      "start simulation\n",
      "max high 0.184 [m] max distance 0.507 [m] energy  0.0438 J\n",
      "new model\n",
      "start simulation\n",
      "max high 0.194 [m] max distance 0.49 [m] energy  0.0469 J\n",
      "new model\n",
      "start simulation\n",
      "max high 0.222 [m] max distance 0.546 [m] energy  0.0253 J\n",
      "new model\n",
      "start simulation\n",
      "max high 0.092 [m] max distance 0.085 [m] energy  0.0 J\n",
      "new model\n",
      "start simulation\n",
      "max high 0.185 [m] max distance 0.547 [m] energy  0.0035 J\n",
      "new model\n",
      "start simulation\n",
      "max high 0.192 [m] max distance 0.592 [m] energy  0.0111 J\n",
      "new model\n",
      "start simulation\n",
      "max high 0.105 [m] max distance 0.433 [m] energy  0.0242 J\n",
      "new model\n",
      "start simulation\n",
      "max high 0.19 [m] max distance 0.506 [m] energy  0.0033 J\n",
      "new model\n",
      "start simulation\n",
      "max high 0.164 [m] max distance 0.589 [m] energy  0.024 J\n",
      "new model\n",
      "start simulation\n",
      "max high 0.224 [m] max distance 0.486 [m] energy  0.0409 J\n",
      "new model\n",
      "start simulation\n",
      "max high 0.196 [m] max distance 0.505 [m] energy  0.0071 J\n",
      "new model\n",
      "start simulation\n",
      "max high 0.192 [m] max distance 0.489 [m] energy  0.0001 J\n",
      "new model\n",
      "start simulation\n",
      "max high 0.197 [m] max distance 0.563 [m] energy  0.0051 J\n",
      "new model\n",
      "start simulation\n",
      "max high 0.198 [m] max distance 0.482 [m] energy  0.0062 J\n",
      "new model\n",
      "start simulation\n",
      "max high 0.201 [m] max distance 0.498 [m] energy  0.0048 J\n",
      "new model\n",
      "start simulation\n",
      "max high 0.219 [m] max distance 0.479 [m] energy  0.0355 J\n",
      "new model\n",
      "start simulation\n",
      "max high 0.227 [m] max distance 0.556 [m] energy  0.0191 J\n",
      "running the algorithm\n"
     ]
    },
    {
     "name": "stderr",
     "output_type": "stream",
     "text": [
      "/Users/djay/miniforge3/lib/python3.9/site-packages/sklearn/gaussian_process/_gpr.py:610: ConvergenceWarning: lbfgs failed to converge (status=2):\n",
      "ABNORMAL_TERMINATION_IN_LNSRCH.\n",
      "\n",
      "Increase the number of iterations (max_iter) or scale the data as shown in:\n",
      "    https://scikit-learn.org/stable/modules/preprocessing.html\n",
      "  _check_optimize_result(\"lbfgs\", opt_res)\n",
      "/Users/djay/miniforge3/lib/python3.9/site-packages/sklearn/gaussian_process/_gpr.py:610: ConvergenceWarning: lbfgs failed to converge (status=2):\n",
      "ABNORMAL_TERMINATION_IN_LNSRCH.\n",
      "\n",
      "Increase the number of iterations (max_iter) or scale the data as shown in:\n",
      "    https://scikit-learn.org/stable/modules/preprocessing.html\n",
      "  _check_optimize_result(\"lbfgs\", opt_res)\n"
     ]
    },
    {
     "name": "stdout",
     "output_type": "stream",
     "text": [
      "iteration 0\n",
      "the best [50.         75.75757576 50.         40.         80.         14.\n",
      " 10.        ]\n",
      "new model\n",
      "start simulation\n",
      "max high 0.209 [m] max distance 0.605 [m] energy  0.0115 J\n",
      "iteration 1\n"
     ]
    },
    {
     "name": "stderr",
     "output_type": "stream",
     "text": [
      "/Users/djay/miniforge3/lib/python3.9/site-packages/sklearn/gaussian_process/_gpr.py:610: ConvergenceWarning: lbfgs failed to converge (status=2):\n",
      "ABNORMAL_TERMINATION_IN_LNSRCH.\n",
      "\n",
      "Increase the number of iterations (max_iter) or scale the data as shown in:\n",
      "    https://scikit-learn.org/stable/modules/preprocessing.html\n",
      "  _check_optimize_result(\"lbfgs\", opt_res)\n"
     ]
    }
   ],
   "source": [
    "nb_generation = 20\n",
    "\n",
    "# this function optimise along one parameters\n",
    "BO = Algorithm.bayesian_optimisation(nb_generation,initial_sample_size = 20,params = [0,1,2],special_boundaries=bound,initial_best = best_parameters,printer = 3)\n"
   ]
  },
  {
   "cell_type": "code",
   "execution_count": null,
   "id": "0197f44f-ea7f-4926-a0e0-5999829e4329",
   "metadata": {},
   "outputs": [],
   "source": []
  }
 ],
 "metadata": {
  "kernelspec": {
   "display_name": "Python 3 (ipykernel)",
   "language": "python",
   "name": "python3"
  },
  "language_info": {
   "codemirror_mode": {
    "name": "ipython",
    "version": 3
   },
   "file_extension": ".py",
   "mimetype": "text/x-python",
   "name": "python",
   "nbconvert_exporter": "python",
   "pygments_lexer": "ipython3",
   "version": "3.9.10"
  }
 },
 "nbformat": 4,
 "nbformat_minor": 5
}
