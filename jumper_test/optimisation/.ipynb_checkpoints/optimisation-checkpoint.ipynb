{
 "cells": [
  {
   "cell_type": "markdown",
   "id": "a21db7bb-0655-4d9b-adca-e935803dd252",
   "metadata": {
    "tags": []
   },
   "source": [
    "# Data-Driven Optimisation\n",
    "\n",
    "In this notebook, we will run data driven algorithm to optimise the parameter of our problem"
   ]
  },
  {
   "cell_type": "markdown",
   "id": "36421f79-c88e-4553-82bc-1f20a134778d",
   "metadata": {},
   "source": [
    "## Example for one robot"
   ]
  },
  {
   "cell_type": "code",
   "execution_count": 1,
   "id": "9f525969-3c8f-4af3-98fa-902f89eb2782",
   "metadata": {},
   "outputs": [
    {
     "name": "stderr",
     "output_type": "stream",
     "text": [
      "pybullet build time: Mar  5 2024 15:57:27\n"
     ]
    }
   ],
   "source": [
    "import Model #import the simulation and the model\n",
    "import Algorithm #import data-driven algorithms \n",
    "import numpy as np\n",
    "import matplotlib.pyplot as plt"
   ]
  },
  {
   "cell_type": "markdown",
   "id": "c83f8257-24b5-4dd7-8062-86f9d65f6c45",
   "metadata": {},
   "source": [
    "How to use models "
   ]
  },
  {
   "cell_type": "code",
   "execution_count": 5,
   "id": "fa312103-9dd2-4c39-a4f3-e07473f6f44f",
   "metadata": {},
   "outputs": [],
   "source": [
    "#initial parameters\n",
    "\n",
    "l1=60\n",
    "l2=100\n",
    "l3=100\n",
    "l4=60\n",
    "l5=80\n",
    "compression=40\n",
    "rest=60\n",
    "stiffness=8\n",
    "\n",
    "parameters = Model.Parameters([l1,l2,l3,l4,l5,compression,rest,stiffness])\n",
    "\n",
    "\n",
    "robot = Model.model(parameters)"
   ]
  },
  {
   "cell_type": "code",
   "execution_count": 3,
   "id": "c97953da-5237-423b-b9e3-fdc36c402473",
   "metadata": {},
   "outputs": [
    {
     "name": "stdout",
     "output_type": "stream",
     "text": [
      "start simulation\n"
     ]
    },
    {
     "ename": "error",
     "evalue": "Not connected to physics server.",
     "output_type": "error",
     "traceback": [
      "\u001b[0;31m---------------------------------------------------------------------------\u001b[0m",
      "\u001b[0;31merror\u001b[0m                                     Traceback (most recent call last)",
      "Input \u001b[0;32mIn [3]\u001b[0m, in \u001b[0;36m<cell line: 1>\u001b[0;34m()\u001b[0m\n\u001b[0;32m----> 1\u001b[0m length \u001b[38;5;241m=\u001b[39m \u001b[43mrobot\u001b[49m\u001b[38;5;241;43m.\u001b[39;49m\u001b[43msimulate\u001b[49m\u001b[43m(\u001b[49m\u001b[38;5;28;43;01mTrue\u001b[39;49;00m\u001b[43m)\u001b[49m\n",
      "File \u001b[0;32m~/Desktop/Jumping-Robot-Design/jumper_test/optimisation/Model.py:334\u001b[0m, in \u001b[0;36mmodel.simulate\u001b[0;34m(self, visualisation)\u001b[0m\n\u001b[1;32m    328\u001b[0m p\u001b[38;5;241m.\u001b[39mresetDebugVisualizerCamera(cameraDistance\u001b[38;5;241m=\u001b[39m\u001b[38;5;241m0.5\u001b[39m, \n\u001b[1;32m    329\u001b[0m                           cameraYaw\u001b[38;5;241m=\u001b[39m\u001b[38;5;241m75\u001b[39m, \n\u001b[1;32m    330\u001b[0m                           cameraPitch\u001b[38;5;241m=\u001b[39m\u001b[38;5;241m-\u001b[39m\u001b[38;5;241m20\u001b[39m, \n\u001b[1;32m    331\u001b[0m                           cameraTargetPosition\u001b[38;5;241m=\u001b[39mfocus)\n\u001b[1;32m    333\u001b[0m counter \u001b[38;5;241m+\u001b[39m\u001b[38;5;241m=\u001b[39m step \n\u001b[0;32m--> 334\u001b[0m motor_angle \u001b[38;5;241m=\u001b[39m (\u001b[43mp\u001b[49m\u001b[38;5;241;43m.\u001b[39;49m\u001b[43mgetJointState\u001b[49m\u001b[43m(\u001b[49m\u001b[43mjumper\u001b[49m\u001b[43m,\u001b[49m\u001b[43m \u001b[49m\u001b[38;5;241;43m0\u001b[39;49m\u001b[43m)\u001b[49m[\u001b[38;5;241m0\u001b[39m] \u001b[38;5;241m+\u001b[39m rest_angle)\u001b[38;5;241m*\u001b[39m\u001b[38;5;241m180\u001b[39m\u001b[38;5;241m/\u001b[39mnp\u001b[38;5;241m.\u001b[39mpi\n\u001b[1;32m    336\u001b[0m p\u001b[38;5;241m.\u001b[39msetJointMotorControl2(jumper,\n\u001b[1;32m    337\u001b[0m   jointIndex\u001b[38;5;241m=\u001b[39m\u001b[38;5;241m0\u001b[39m,\n\u001b[1;32m    338\u001b[0m   controlMode\u001b[38;5;241m=\u001b[39mp\u001b[38;5;241m.\u001b[39mTORQUE_CONTROL,\n\u001b[1;32m    339\u001b[0m   force\u001b[38;5;241m=\u001b[39m\u001b[38;5;241m-\u001b[39mmotor_angle\u001b[38;5;241m*\u001b[39mstiffness,\n\u001b[1;32m    340\u001b[0m   )\n\u001b[1;32m    342\u001b[0m p\u001b[38;5;241m.\u001b[39mstepSimulation()\n",
      "\u001b[0;31merror\u001b[0m: Not connected to physics server."
     ]
    }
   ],
   "source": [
    "length = robot.simulate(True)"
   ]
  },
  {
   "cell_type": "code",
   "execution_count": 4,
   "id": "7c32040c-d726-4eb5-aa06-0837f705bada",
   "metadata": {},
   "outputs": [
    {
     "data": {
      "image/png": "[encoded data removed]",
      "text/plain": [
       "<Figure size 432x288 with 1 Axes>"
      ]
     },
     "metadata": {
      "needs_background": "light"
     },
     "output_type": "display_data"
    }
   ],
   "source": [
    "robot.plot()\n",
    "\n",
    "#plt.plot(np.arange(len(length)), length)\n",
    "#plt.xlabel('Index')\n",
    "#plt.ylabel('Value')\n",
    "#plt.title('Random Curve')\n",
    "#plt.grid(True)\n",
    "#plt.show()"
   ]
  },
  {
   "cell_type": "markdown",
   "id": "0d82faf9-18c3-4f7f-9429-212c10176701",
   "metadata": {
    "tags": []
   },
   "source": [
    "## Genetic algorith "
   ]
  },
  {
   "cell_type": "code",
   "execution_count": 5,
   "id": "8acc2320-f044-4890-9f87-f2e884bd6668",
   "metadata": {},
   "outputs": [
    {
     "name": "stdout",
     "output_type": "stream",
     "text": [
      "algo\n",
      "new model\n",
      "start simulation\n"
     ]
    },
    {
     "name": "stderr",
     "output_type": "stream",
     "text": [
      "/Users/djay/miniforge3/lib/python3.9/site-packages/pygad/pygad.py:1139: UserWarning: The 'delay_after_gen' parameter is deprecated starting from PyGAD 3.3.0. To delay or pause the evolution after each generation, assign a callback function/method to the 'on_generation' parameter to adds some time delay.\n",
      "  warnings.warn(\"The 'delay_after_gen' parameter is deprecated starting from PyGAD 3.3.0. To delay or pause the evolution after each generation, assign a callback function/method to the 'on_generation' parameter to adds some time delay.\")\n"
     ]
    },
    {
     "name": "stdout",
     "output_type": "stream",
     "text": [
      "max high 0.23 [unit] max distance 0.77 [unit]\n",
      "new model\n",
      "start simulation\n",
      "max high 0.05 [unit] max distance 0.0 [unit]\n",
      "new model\n",
      "start simulation\n",
      "max high 1.15 [unit] max distance 0.0 [unit]\n",
      "new model\n",
      "start simulation\n",
      "max high 0.36 [unit] max distance 0.39 [unit]\n",
      "new model\n",
      "start simulation\n",
      "max high 4.84 [unit] max distance 0.29 [unit]\n",
      "new model\n",
      "start simulation\n",
      "max high 0.14 [unit] max distance 8.19 [unit]\n",
      "new model\n",
      "start simulation\n",
      "max high 3.84 [unit] max distance 0.0 [unit]\n",
      "new model\n",
      "start simulation\n",
      "max high 1.2 [unit] max distance 82.09 [unit]\n",
      "new model\n",
      "start simulation\n",
      "max high 0.76 [unit] max distance 0.01 [unit]\n",
      "new model\n",
      "start simulation\n",
      "max high 38.69 [unit] max distance 0.11 [unit]\n",
      "new model\n",
      "start simulation\n",
      "max high 32.01 [unit] max distance 2.9 [unit]\n",
      "new model\n",
      "start simulation\n",
      "max high 0.15 [unit] max distance 0.01 [unit]\n",
      "new model\n",
      "start simulation\n",
      "max high 33.64 [unit] max distance 63.04 [unit]\n",
      "new model\n",
      "start simulation\n",
      "max high 0.1 [unit] max distance 0.07 [unit]\n",
      "new model\n",
      "start simulation\n",
      "max high 5.85 [unit] max distance 3.74 [unit]\n",
      "new model\n",
      "start simulation\n",
      "max high 0.02 [unit] max distance 0.0 [unit]\n",
      "new model\n",
      "start simulation\n",
      "max high 0.03 [unit] max distance 0.01 [unit]\n",
      "new model\n",
      "start simulation\n",
      "max high 17.26 [unit] max distance 18.31 [unit]\n",
      "new model\n",
      "start simulation\n",
      "max high 2.59 [unit] max distance 0.42 [unit]\n",
      "new model\n",
      "start simulation\n",
      "max high 0.61 [unit] max distance 18.1 [unit]\n",
      "new model\n",
      "start simulation\n",
      "max high 0.15 [unit] max distance 119.68 [unit]\n",
      "new model\n",
      "start simulation\n",
      "max high 23.9 [unit] max distance 31.86 [unit]\n",
      "new model\n",
      "start simulation\n",
      "max high 14.67 [unit] max distance 2.19 [unit]\n",
      "new model\n",
      "start simulation\n",
      "max high 51.52 [unit] max distance 177.16 [unit]\n",
      "new model\n",
      "start simulation\n",
      "max high 27.75 [unit] max distance 0.0 [unit]\n",
      "new model\n",
      "start simulation\n",
      "max high 0.15 [unit] max distance 0.02 [unit]\n",
      "new model\n",
      "start simulation\n",
      "max high 11.4 [unit] max distance 11.6 [unit]\n",
      "new model\n",
      "start simulation\n",
      "max high 0.05 [unit] max distance 0.0 [unit]\n",
      "new model\n",
      "start simulation\n",
      "max high 25.79 [unit] max distance 18.84 [unit]\n",
      "new model\n",
      "start simulation\n",
      "max high 0.55 [unit] max distance 0.0 [unit]\n",
      "new model\n",
      "start simulation\n",
      "max high 0.37 [unit] max distance 4.84 [unit]\n",
      "new model\n",
      "start simulation\n",
      "max high 203.42 [unit] max distance 201.52 [unit]\n",
      "new model\n",
      "start simulation\n",
      "max high 192.39 [unit] max distance 0.0 [unit]\n",
      "new model\n",
      "start simulation\n",
      "max high 52.72 [unit] max distance 7.99 [unit]\n",
      "new model\n",
      "start simulation\n",
      "max high 203.38 [unit] max distance 202.76 [unit]\n",
      "new model\n",
      "start simulation\n",
      "max high 204.56 [unit] max distance 203.85 [unit]\n",
      "new model\n",
      "start simulation\n",
      "max high 197.54 [unit] max distance 0.0 [unit]\n",
      "new model\n",
      "start simulation\n",
      "max high 27.62 [unit] max distance 6.37 [unit]\n",
      "new model\n",
      "start simulation\n",
      "max high 0.23 [unit] max distance 8.29 [unit]\n",
      "new model\n",
      "start simulation\n",
      "max high 0.15 [unit] max distance 6.53 [unit]\n",
      "new model\n",
      "start simulation\n",
      "max high 1.28 [unit] max distance 25.47 [unit]\n",
      "new model\n",
      "start simulation\n",
      "max high 14.51 [unit] max distance 0.42 [unit]\n",
      "new model\n",
      "start simulation\n",
      "max high 205.85 [unit] max distance 195.59 [unit]\n",
      "new model\n",
      "start simulation\n",
      "max high 17.71 [unit] max distance 13.63 [unit]\n",
      "new model\n",
      "start simulation\n",
      "max high 186.63 [unit] max distance 1.46 [unit]\n",
      "new model\n",
      "start simulation\n",
      "max high 0.61 [unit] max distance 18.26 [unit]\n",
      "new model\n",
      "start simulation\n",
      "max high 205.85 [unit] max distance 195.62 [unit]\n",
      "new model\n",
      "start simulation\n",
      "max high 0.15 [unit] max distance 0.01 [unit]\n",
      "new model\n",
      "start simulation\n",
      "max high 0.61 [unit] max distance 18.33 [unit]\n",
      "new model\n",
      "start simulation\n",
      "max high 108.16 [unit] max distance 2.41 [unit]\n",
      "new model\n",
      "start simulation\n",
      "max high 202.37 [unit] max distance 185.1 [unit]\n",
      "new model\n",
      "start simulation\n",
      "max high 0.61 [unit] max distance 18.33 [unit]\n",
      "new model\n",
      "start simulation\n",
      "max high 0.15 [unit] max distance 0.01 [unit]\n",
      "new model\n",
      "start simulation\n",
      "max high 0.61 [unit] max distance 18.34 [unit]\n",
      "Best solution: (array([2.0e+01, 2.0e+01, 1.5e+02, 2.0e+01, 1.5e+02, 3.0e+01, 8.0e+01,\n",
      "       1.4e-02]), 203.84689597150748, 0)\n"
     ]
    }
   ],
   "source": [
    "BS = Algorithm.genetic_algorith()"
   ]
  },
  {
   "cell_type": "code",
   "execution_count": 3,
   "id": "455f4f2c-4052-442a-9d3d-28d020442156",
   "metadata": {},
   "outputs": [],
   "source": [
    "parameters = Model.Parameters([2.0e+01, 2.0e+01, 1.5e+02, 2.0e+01, 1.5e+02, 3.0e+01, 8.0e+01,\n",
    "       1.4e-02])#BS[0])\n",
    "\n",
    "\n",
    "robot = Model.model(parameters)"
   ]
  },
  {
   "cell_type": "code",
   "execution_count": 4,
   "id": "1d2b4601-f4a5-4683-b513-bd152aba4514",
   "metadata": {},
   "outputs": [
    {
     "name": "stdout",
     "output_type": "stream",
     "text": [
      "start simulation\n"
     ]
    },
    {
     "ename": "error",
     "evalue": "Not connected to physics server.",
     "output_type": "error",
     "traceback": [
      "\u001b[0;31m---------------------------------------------------------------------------\u001b[0m",
      "\u001b[0;31merror\u001b[0m                                     Traceback (most recent call last)",
      "Input \u001b[0;32mIn [4]\u001b[0m, in \u001b[0;36m<cell line: 1>\u001b[0;34m()\u001b[0m\n\u001b[0;32m----> 1\u001b[0m \u001b[43mrobot\u001b[49m\u001b[38;5;241;43m.\u001b[39;49m\u001b[43msimulate\u001b[49m\u001b[43m(\u001b[49m\u001b[38;5;28;43;01mTrue\u001b[39;49;00m\u001b[43m)\u001b[49m\n",
      "File \u001b[0;32m~/Desktop/Jumping-Robot-Design/jumper_test/optimisation/Model.py:334\u001b[0m, in \u001b[0;36mmodel.simulate\u001b[0;34m(self, visualisation)\u001b[0m\n\u001b[1;32m    328\u001b[0m p\u001b[38;5;241m.\u001b[39mresetDebugVisualizerCamera(cameraDistance\u001b[38;5;241m=\u001b[39m\u001b[38;5;241m0.5\u001b[39m, \n\u001b[1;32m    329\u001b[0m                           cameraYaw\u001b[38;5;241m=\u001b[39m\u001b[38;5;241m75\u001b[39m, \n\u001b[1;32m    330\u001b[0m                           cameraPitch\u001b[38;5;241m=\u001b[39m\u001b[38;5;241m-\u001b[39m\u001b[38;5;241m20\u001b[39m, \n\u001b[1;32m    331\u001b[0m                           cameraTargetPosition\u001b[38;5;241m=\u001b[39mfocus)\n\u001b[1;32m    333\u001b[0m counter \u001b[38;5;241m+\u001b[39m\u001b[38;5;241m=\u001b[39m step \n\u001b[0;32m--> 334\u001b[0m motor_angle \u001b[38;5;241m=\u001b[39m (\u001b[43mp\u001b[49m\u001b[38;5;241;43m.\u001b[39;49m\u001b[43mgetJointState\u001b[49m\u001b[43m(\u001b[49m\u001b[43mjumper\u001b[49m\u001b[43m,\u001b[49m\u001b[43m \u001b[49m\u001b[38;5;241;43m0\u001b[39;49m\u001b[43m)\u001b[49m[\u001b[38;5;241m0\u001b[39m] \u001b[38;5;241m+\u001b[39m rest_angle)\u001b[38;5;241m*\u001b[39m\u001b[38;5;241m180\u001b[39m\u001b[38;5;241m/\u001b[39mnp\u001b[38;5;241m.\u001b[39mpi\n\u001b[1;32m    336\u001b[0m p\u001b[38;5;241m.\u001b[39msetJointMotorControl2(jumper,\n\u001b[1;32m    337\u001b[0m   jointIndex\u001b[38;5;241m=\u001b[39m\u001b[38;5;241m0\u001b[39m,\n\u001b[1;32m    338\u001b[0m   controlMode\u001b[38;5;241m=\u001b[39mp\u001b[38;5;241m.\u001b[39mTORQUE_CONTROL,\n\u001b[1;32m    339\u001b[0m   force\u001b[38;5;241m=\u001b[39m\u001b[38;5;241m-\u001b[39mmotor_angle\u001b[38;5;241m*\u001b[39mstiffness,\n\u001b[1;32m    340\u001b[0m   )\n\u001b[1;32m    342\u001b[0m p\u001b[38;5;241m.\u001b[39mstepSimulation()\n",
      "\u001b[0;31merror\u001b[0m: Not connected to physics server."
     ]
    }
   ],
   "source": [
    "robot.simulate(True)"
   ]
  },
  {
   "cell_type": "code",
   "execution_count": 8,
   "id": "b7a2648b-294b-4a74-92f7-29694a254772",
   "metadata": {},
   "outputs": [
    {
     "data": {
      "image/png": "[encoded data removed]",
      "text/plain": [
       "<Figure size 432x288 with 1 Axes>"
      ]
     },
     "metadata": {
      "needs_background": "light"
     },
     "output_type": "display_data"
    }
   ],
   "source": [
    "robot.plot()"
   ]
  },
  {
   "cell_type": "markdown",
   "id": "a0426cbf-ba4a-4d31-bf12-204be9234e04",
   "metadata": {
    "tags": []
   },
   "source": [
    "## Bayesian optimisation"
   ]
  }
 ],
 "metadata": {
  "kernelspec": {
   "display_name": "Python 3 (ipykernel)",
   "language": "python",
   "name": "python3"
  },
  "language_info": {
   "codemirror_mode": {
    "name": "ipython",
    "version": 3
   },
   "file_extension": ".py",
   "mimetype": "text/x-python",
   "name": "python",
   "nbconvert_exporter": "python",
   "pygments_lexer": "ipython3",
   "version": "3.9.10"
  }
 },
 "nbformat": 4,
 "nbformat_minor": 5
}
