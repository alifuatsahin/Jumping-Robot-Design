{
 "cells": [
  {
   "cell_type": "markdown",
   "id": "a21db7bb-0655-4d9b-adca-e935803dd252",
   "metadata": {
    "tags": []
   },
   "source": [
    "# Data-Driven Optimisation\n",
    "\n",
    "In this notebook, we will run data driven algorithm to optimise the parameter of our problem"
   ]
  },
  {
   "cell_type": "markdown",
   "id": "36421f79-c88e-4553-82bc-1f20a134778d",
   "metadata": {},
   "source": [
    "## Example for one robot"
   ]
  },
  {
   "cell_type": "code",
   "execution_count": 1,
   "id": "9f525969-3c8f-4af3-98fa-902f89eb2782",
   "metadata": {
    "tags": []
   },
   "outputs": [
    {
     "name": "stderr",
     "output_type": "stream",
     "text": [
      "pybullet build time: Mar  5 2024 15:57:27\n"
     ]
    }
   ],
   "source": [
    "import Model #import the simulation and the model\n",
    "import Algorithm #import data-driven algorithms \n",
    "import numpy as np\n",
    "import matplotlib.pyplot as plt"
   ]
  },
  {
   "cell_type": "markdown",
   "id": "c83f8257-24b5-4dd7-8062-86f9d65f6c45",
   "metadata": {},
   "source": [
    "How to use models "
   ]
  },
  {
   "cell_type": "code",
   "execution_count": null,
   "id": "fa312103-9dd2-4c39-a4f3-e07473f6f44f",
   "metadata": {},
   "outputs": [],
   "source": [
    "#initial parameters\n",
    "\n",
    "l1=60\n",
    "l2=100\n",
    "l3=100\n",
    "l4=60\n",
    "l5=80\n",
    "compression=45\n",
    "rest=60\n",
    "stiffness=8\n",
    "\n",
    "\n",
    "parameters = Model.Parameters([l1,l2,l3,l4,l5,compression,rest,stiffness])\n",
    "\n",
    "\n",
    "robot = Model.model(parameters)"
   ]
  },
  {
   "cell_type": "code",
   "execution_count": null,
   "id": "c97953da-5237-423b-b9e3-fdc36c402473",
   "metadata": {},
   "outputs": [],
   "source": [
    "robot.simulate()"
   ]
  },
  {
   "cell_type": "code",
   "execution_count": null,
   "id": "7c32040c-d726-4eb5-aa06-0837f705bada",
   "metadata": {},
   "outputs": [],
   "source": [
    "robot.plot()\n",
    "\n",
    "#plt.plot(np.arange(len(length)), length)\n",
    "#plt.xlabel('Index')\n",
    "#plt.ylabel('Value')\n",
    "#plt.title('Random Curve')\n",
    "#plt.grid(True)\n",
    "#plt.show()"
   ]
  },
  {
   "cell_type": "markdown",
   "id": "2d746d17-3780-4634-bcec-49d8db0117cd",
   "metadata": {
    "tags": []
   },
   "source": [
    "## PCA"
   ]
  },
  {
   "cell_type": "code",
   "execution_count": 2,
   "id": "b0da30a0-0464-46bf-b9f5-65e67f7d90fa",
   "metadata": {},
   "outputs": [
    {
     "name": "stdout",
     "output_type": "stream",
     "text": [
      "Create pool\n",
      "start simulation\n"
     ]
    },
    {
     "name": "stderr",
     "output_type": "stream",
     "text": [
      "/Users/djay/Desktop/Jumping-Robot-Design/jumper_test/optimisation/Algorithm.py:76: FutureWarning: The frame.append method is deprecated and will be removed from pandas in a future version. Use pandas.concat instead.\n",
      "  df = df.append(pd.Series(param, index=df.columns), ignore_index=True)\n"
     ]
    },
    {
     "name": "stdout",
     "output_type": "stream",
     "text": [
      "max high 4.11 [m] max distance 202.72 [m] energy  1102.13 J\n",
      "start simulation\n"
     ]
    },
    {
     "name": "stderr",
     "output_type": "stream",
     "text": [
      "/Users/djay/Desktop/Jumping-Robot-Design/jumper_test/optimisation/Algorithm.py:79: FutureWarning: The frame.append method is deprecated and will be removed from pandas in a future version. Use pandas.concat instead.\n",
      "  result = result.append([robot.max_length])\n",
      "/Users/djay/Desktop/Jumping-Robot-Design/jumper_test/optimisation/Algorithm.py:76: FutureWarning: The frame.append method is deprecated and will be removed from pandas in a future version. Use pandas.concat instead.\n",
      "  df = df.append(pd.Series(param, index=df.columns), ignore_index=True)\n"
     ]
    },
    {
     "name": "stdout",
     "output_type": "stream",
     "text": [
      "max high 0.11 [m] max distance 0.07 [m] energy  5488.77 J\n",
      "start simulation\n"
     ]
    },
    {
     "name": "stderr",
     "output_type": "stream",
     "text": [
      "/Users/djay/Desktop/Jumping-Robot-Design/jumper_test/optimisation/Algorithm.py:79: FutureWarning: The frame.append method is deprecated and will be removed from pandas in a future version. Use pandas.concat instead.\n",
      "  result = result.append([robot.max_length])\n",
      "/Users/djay/Desktop/Jumping-Robot-Design/jumper_test/optimisation/Algorithm.py:76: FutureWarning: The frame.append method is deprecated and will be removed from pandas in a future version. Use pandas.concat instead.\n",
      "  df = df.append(pd.Series(param, index=df.columns), ignore_index=True)\n"
     ]
    },
    {
     "name": "stdout",
     "output_type": "stream",
     "text": [
      "max high 0.11 [m] max distance 0.02 [m] energy  269.55 J\n",
      "start simulation\n"
     ]
    },
    {
     "name": "stderr",
     "output_type": "stream",
     "text": [
      "/Users/djay/Desktop/Jumping-Robot-Design/jumper_test/optimisation/Algorithm.py:79: FutureWarning: The frame.append method is deprecated and will be removed from pandas in a future version. Use pandas.concat instead.\n",
      "  result = result.append([robot.max_length])\n",
      "/Users/djay/Desktop/Jumping-Robot-Design/jumper_test/optimisation/Algorithm.py:76: FutureWarning: The frame.append method is deprecated and will be removed from pandas in a future version. Use pandas.concat instead.\n",
      "  df = df.append(pd.Series(param, index=df.columns), ignore_index=True)\n"
     ]
    },
    {
     "name": "stdout",
     "output_type": "stream",
     "text": [
      "max high 2.67 [m] max distance 12.9 [m] energy  275.85 J\n",
      "start simulation\n"
     ]
    },
    {
     "name": "stderr",
     "output_type": "stream",
     "text": [
      "/Users/djay/Desktop/Jumping-Robot-Design/jumper_test/optimisation/Algorithm.py:79: FutureWarning: The frame.append method is deprecated and will be removed from pandas in a future version. Use pandas.concat instead.\n",
      "  result = result.append([robot.max_length])\n",
      "/Users/djay/Desktop/Jumping-Robot-Design/jumper_test/optimisation/Algorithm.py:76: FutureWarning: The frame.append method is deprecated and will be removed from pandas in a future version. Use pandas.concat instead.\n",
      "  df = df.append(pd.Series(param, index=df.columns), ignore_index=True)\n"
     ]
    },
    {
     "name": "stdout",
     "output_type": "stream",
     "text": [
      "max high 0.07 [m] max distance 0.01 [m] energy  328.29 J\n",
      "start simulation\n"
     ]
    },
    {
     "name": "stderr",
     "output_type": "stream",
     "text": [
      "/Users/djay/Desktop/Jumping-Robot-Design/jumper_test/optimisation/Algorithm.py:79: FutureWarning: The frame.append method is deprecated and will be removed from pandas in a future version. Use pandas.concat instead.\n",
      "  result = result.append([robot.max_length])\n",
      "/Users/djay/Desktop/Jumping-Robot-Design/jumper_test/optimisation/Algorithm.py:76: FutureWarning: The frame.append method is deprecated and will be removed from pandas in a future version. Use pandas.concat instead.\n",
      "  df = df.append(pd.Series(param, index=df.columns), ignore_index=True)\n"
     ]
    },
    {
     "name": "stdout",
     "output_type": "stream",
     "text": [
      "max high 9.5 [m] max distance 11.48 [m] energy  3964.4 J\n",
      "start simulation\n"
     ]
    },
    {
     "name": "stderr",
     "output_type": "stream",
     "text": [
      "/Users/djay/Desktop/Jumping-Robot-Design/jumper_test/optimisation/Algorithm.py:79: FutureWarning: The frame.append method is deprecated and will be removed from pandas in a future version. Use pandas.concat instead.\n",
      "  result = result.append([robot.max_length])\n",
      "/Users/djay/Desktop/Jumping-Robot-Design/jumper_test/optimisation/Algorithm.py:76: FutureWarning: The frame.append method is deprecated and will be removed from pandas in a future version. Use pandas.concat instead.\n",
      "  df = df.append(pd.Series(param, index=df.columns), ignore_index=True)\n"
     ]
    },
    {
     "name": "stdout",
     "output_type": "stream",
     "text": [
      "max high 0.12 [m] max distance 0.07 [m] energy  1183.88 J\n",
      "start simulation\n"
     ]
    },
    {
     "name": "stderr",
     "output_type": "stream",
     "text": [
      "/Users/djay/Desktop/Jumping-Robot-Design/jumper_test/optimisation/Algorithm.py:79: FutureWarning: The frame.append method is deprecated and will be removed from pandas in a future version. Use pandas.concat instead.\n",
      "  result = result.append([robot.max_length])\n",
      "/Users/djay/Desktop/Jumping-Robot-Design/jumper_test/optimisation/Algorithm.py:76: FutureWarning: The frame.append method is deprecated and will be removed from pandas in a future version. Use pandas.concat instead.\n",
      "  df = df.append(pd.Series(param, index=df.columns), ignore_index=True)\n"
     ]
    },
    {
     "name": "stdout",
     "output_type": "stream",
     "text": [
      "max high 4.3 [m] max distance 203.5 [m] energy  1387.06 J\n",
      "start simulation\n"
     ]
    },
    {
     "name": "stderr",
     "output_type": "stream",
     "text": [
      "/Users/djay/Desktop/Jumping-Robot-Design/jumper_test/optimisation/Algorithm.py:79: FutureWarning: The frame.append method is deprecated and will be removed from pandas in a future version. Use pandas.concat instead.\n",
      "  result = result.append([robot.max_length])\n",
      "/Users/djay/Desktop/Jumping-Robot-Design/jumper_test/optimisation/Algorithm.py:76: FutureWarning: The frame.append method is deprecated and will be removed from pandas in a future version. Use pandas.concat instead.\n",
      "  df = df.append(pd.Series(param, index=df.columns), ignore_index=True)\n"
     ]
    },
    {
     "name": "stdout",
     "output_type": "stream",
     "text": [
      "max high 5.5 [m] max distance 14.51 [m] energy  420.61 J\n",
      "start simulation\n"
     ]
    },
    {
     "name": "stderr",
     "output_type": "stream",
     "text": [
      "/Users/djay/Desktop/Jumping-Robot-Design/jumper_test/optimisation/Algorithm.py:79: FutureWarning: The frame.append method is deprecated and will be removed from pandas in a future version. Use pandas.concat instead.\n",
      "  result = result.append([robot.max_length])\n",
      "/Users/djay/Desktop/Jumping-Robot-Design/jumper_test/optimisation/Algorithm.py:76: FutureWarning: The frame.append method is deprecated and will be removed from pandas in a future version. Use pandas.concat instead.\n",
      "  df = df.append(pd.Series(param, index=df.columns), ignore_index=True)\n"
     ]
    },
    {
     "name": "stdout",
     "output_type": "stream",
     "text": [
      "max high 0.17 [m] max distance 0.04 [m] energy  108.05 J\n",
      "start simulation\n"
     ]
    },
    {
     "name": "stderr",
     "output_type": "stream",
     "text": [
      "/Users/djay/Desktop/Jumping-Robot-Design/jumper_test/optimisation/Algorithm.py:79: FutureWarning: The frame.append method is deprecated and will be removed from pandas in a future version. Use pandas.concat instead.\n",
      "  result = result.append([robot.max_length])\n",
      "/Users/djay/Desktop/Jumping-Robot-Design/jumper_test/optimisation/Algorithm.py:76: FutureWarning: The frame.append method is deprecated and will be removed from pandas in a future version. Use pandas.concat instead.\n",
      "  df = df.append(pd.Series(param, index=df.columns), ignore_index=True)\n"
     ]
    },
    {
     "name": "stdout",
     "output_type": "stream",
     "text": [
      "max high 21.93 [m] max distance 24.57 [m] energy  730.31 J\n",
      "start simulation\n"
     ]
    },
    {
     "name": "stderr",
     "output_type": "stream",
     "text": [
      "/Users/djay/Desktop/Jumping-Robot-Design/jumper_test/optimisation/Algorithm.py:79: FutureWarning: The frame.append method is deprecated and will be removed from pandas in a future version. Use pandas.concat instead.\n",
      "  result = result.append([robot.max_length])\n",
      "/Users/djay/Desktop/Jumping-Robot-Design/jumper_test/optimisation/Algorithm.py:76: FutureWarning: The frame.append method is deprecated and will be removed from pandas in a future version. Use pandas.concat instead.\n",
      "  df = df.append(pd.Series(param, index=df.columns), ignore_index=True)\n"
     ]
    },
    {
     "name": "stdout",
     "output_type": "stream",
     "text": [
      "max high 0.32 [m] max distance 0.17 [m] energy  197.24 J\n",
      "start simulation\n"
     ]
    },
    {
     "name": "stderr",
     "output_type": "stream",
     "text": [
      "/Users/djay/Desktop/Jumping-Robot-Design/jumper_test/optimisation/Algorithm.py:79: FutureWarning: The frame.append method is deprecated and will be removed from pandas in a future version. Use pandas.concat instead.\n",
      "  result = result.append([robot.max_length])\n",
      "/Users/djay/Desktop/Jumping-Robot-Design/jumper_test/optimisation/Algorithm.py:76: FutureWarning: The frame.append method is deprecated and will be removed from pandas in a future version. Use pandas.concat instead.\n",
      "  df = df.append(pd.Series(param, index=df.columns), ignore_index=True)\n"
     ]
    },
    {
     "name": "stdout",
     "output_type": "stream",
     "text": [
      "max high 0.78 [m] max distance 1.0 [m] energy  2444.08 J\n",
      "start simulation\n"
     ]
    },
    {
     "name": "stderr",
     "output_type": "stream",
     "text": [
      "/Users/djay/Desktop/Jumping-Robot-Design/jumper_test/optimisation/Algorithm.py:79: FutureWarning: The frame.append method is deprecated and will be removed from pandas in a future version. Use pandas.concat instead.\n",
      "  result = result.append([robot.max_length])\n",
      "/Users/djay/Desktop/Jumping-Robot-Design/jumper_test/optimisation/Algorithm.py:76: FutureWarning: The frame.append method is deprecated and will be removed from pandas in a future version. Use pandas.concat instead.\n",
      "  df = df.append(pd.Series(param, index=df.columns), ignore_index=True)\n"
     ]
    },
    {
     "name": "stdout",
     "output_type": "stream",
     "text": [
      "max high 0.12 [m] max distance 0.07 [m] energy  3742.88 J\n",
      "start simulation\n"
     ]
    },
    {
     "name": "stderr",
     "output_type": "stream",
     "text": [
      "/Users/djay/Desktop/Jumping-Robot-Design/jumper_test/optimisation/Algorithm.py:79: FutureWarning: The frame.append method is deprecated and will be removed from pandas in a future version. Use pandas.concat instead.\n",
      "  result = result.append([robot.max_length])\n",
      "/Users/djay/Desktop/Jumping-Robot-Design/jumper_test/optimisation/Algorithm.py:76: FutureWarning: The frame.append method is deprecated and will be removed from pandas in a future version. Use pandas.concat instead.\n",
      "  df = df.append(pd.Series(param, index=df.columns), ignore_index=True)\n"
     ]
    },
    {
     "name": "stdout",
     "output_type": "stream",
     "text": [
      "max high 0.21 [m] max distance 0.2 [m] energy  2073.26 J\n",
      "start simulation\n"
     ]
    },
    {
     "name": "stderr",
     "output_type": "stream",
     "text": [
      "/Users/djay/Desktop/Jumping-Robot-Design/jumper_test/optimisation/Algorithm.py:79: FutureWarning: The frame.append method is deprecated and will be removed from pandas in a future version. Use pandas.concat instead.\n",
      "  result = result.append([robot.max_length])\n",
      "/Users/djay/Desktop/Jumping-Robot-Design/jumper_test/optimisation/Algorithm.py:76: FutureWarning: The frame.append method is deprecated and will be removed from pandas in a future version. Use pandas.concat instead.\n",
      "  df = df.append(pd.Series(param, index=df.columns), ignore_index=True)\n"
     ]
    },
    {
     "name": "stdout",
     "output_type": "stream",
     "text": [
      "max high 1.27 [m] max distance 18.25 [m] energy  256.24 J\n",
      "start simulation\n"
     ]
    },
    {
     "name": "stderr",
     "output_type": "stream",
     "text": [
      "/Users/djay/Desktop/Jumping-Robot-Design/jumper_test/optimisation/Algorithm.py:79: FutureWarning: The frame.append method is deprecated and will be removed from pandas in a future version. Use pandas.concat instead.\n",
      "  result = result.append([robot.max_length])\n",
      "/Users/djay/Desktop/Jumping-Robot-Design/jumper_test/optimisation/Algorithm.py:76: FutureWarning: The frame.append method is deprecated and will be removed from pandas in a future version. Use pandas.concat instead.\n",
      "  df = df.append(pd.Series(param, index=df.columns), ignore_index=True)\n"
     ]
    },
    {
     "name": "stdout",
     "output_type": "stream",
     "text": [
      "max high 0.13 [m] max distance 0.09 [m] energy  1990.72 J\n",
      "start simulation\n"
     ]
    },
    {
     "name": "stderr",
     "output_type": "stream",
     "text": [
      "/Users/djay/Desktop/Jumping-Robot-Design/jumper_test/optimisation/Algorithm.py:79: FutureWarning: The frame.append method is deprecated and will be removed from pandas in a future version. Use pandas.concat instead.\n",
      "  result = result.append([robot.max_length])\n",
      "/Users/djay/Desktop/Jumping-Robot-Design/jumper_test/optimisation/Algorithm.py:76: FutureWarning: The frame.append method is deprecated and will be removed from pandas in a future version. Use pandas.concat instead.\n",
      "  df = df.append(pd.Series(param, index=df.columns), ignore_index=True)\n"
     ]
    },
    {
     "name": "stdout",
     "output_type": "stream",
     "text": [
      "max high 0.08 [m] max distance 0.02 [m] energy  435.11 J\n",
      "start simulation\n"
     ]
    },
    {
     "name": "stderr",
     "output_type": "stream",
     "text": [
      "/Users/djay/Desktop/Jumping-Robot-Design/jumper_test/optimisation/Algorithm.py:79: FutureWarning: The frame.append method is deprecated and will be removed from pandas in a future version. Use pandas.concat instead.\n",
      "  result = result.append([robot.max_length])\n",
      "/Users/djay/Desktop/Jumping-Robot-Design/jumper_test/optimisation/Algorithm.py:76: FutureWarning: The frame.append method is deprecated and will be removed from pandas in a future version. Use pandas.concat instead.\n",
      "  df = df.append(pd.Series(param, index=df.columns), ignore_index=True)\n"
     ]
    },
    {
     "name": "stdout",
     "output_type": "stream",
     "text": [
      "max high 23.26 [m] max distance 30.56 [m] energy  1239.12 J\n",
      "start simulation\n"
     ]
    },
    {
     "name": "stderr",
     "output_type": "stream",
     "text": [
      "/Users/djay/Desktop/Jumping-Robot-Design/jumper_test/optimisation/Algorithm.py:79: FutureWarning: The frame.append method is deprecated and will be removed from pandas in a future version. Use pandas.concat instead.\n",
      "  result = result.append([robot.max_length])\n",
      "/Users/djay/Desktop/Jumping-Robot-Design/jumper_test/optimisation/Algorithm.py:76: FutureWarning: The frame.append method is deprecated and will be removed from pandas in a future version. Use pandas.concat instead.\n",
      "  df = df.append(pd.Series(param, index=df.columns), ignore_index=True)\n"
     ]
    },
    {
     "name": "stdout",
     "output_type": "stream",
     "text": [
      "max high 0.13 [m] max distance 0.05 [m] energy  72.86 J\n",
      "start simulation\n"
     ]
    },
    {
     "name": "stderr",
     "output_type": "stream",
     "text": [
      "/Users/djay/Desktop/Jumping-Robot-Design/jumper_test/optimisation/Algorithm.py:79: FutureWarning: The frame.append method is deprecated and will be removed from pandas in a future version. Use pandas.concat instead.\n",
      "  result = result.append([robot.max_length])\n",
      "/Users/djay/Desktop/Jumping-Robot-Design/jumper_test/optimisation/Algorithm.py:76: FutureWarning: The frame.append method is deprecated and will be removed from pandas in a future version. Use pandas.concat instead.\n",
      "  df = df.append(pd.Series(param, index=df.columns), ignore_index=True)\n"
     ]
    },
    {
     "name": "stdout",
     "output_type": "stream",
     "text": [
      "max high 0.14 [m] max distance 0.23 [m] energy  1892.66 J\n",
      "start simulation\n"
     ]
    },
    {
     "name": "stderr",
     "output_type": "stream",
     "text": [
      "/Users/djay/Desktop/Jumping-Robot-Design/jumper_test/optimisation/Algorithm.py:79: FutureWarning: The frame.append method is deprecated and will be removed from pandas in a future version. Use pandas.concat instead.\n",
      "  result = result.append([robot.max_length])\n",
      "/Users/djay/Desktop/Jumping-Robot-Design/jumper_test/optimisation/Algorithm.py:76: FutureWarning: The frame.append method is deprecated and will be removed from pandas in a future version. Use pandas.concat instead.\n",
      "  df = df.append(pd.Series(param, index=df.columns), ignore_index=True)\n"
     ]
    },
    {
     "name": "stdout",
     "output_type": "stream",
     "text": [
      "max high 0.39 [m] max distance 0.17 [m] energy  402.35 J\n",
      "start simulation\n"
     ]
    },
    {
     "name": "stderr",
     "output_type": "stream",
     "text": [
      "/Users/djay/Desktop/Jumping-Robot-Design/jumper_test/optimisation/Algorithm.py:79: FutureWarning: The frame.append method is deprecated and will be removed from pandas in a future version. Use pandas.concat instead.\n",
      "  result = result.append([robot.max_length])\n",
      "/Users/djay/Desktop/Jumping-Robot-Design/jumper_test/optimisation/Algorithm.py:76: FutureWarning: The frame.append method is deprecated and will be removed from pandas in a future version. Use pandas.concat instead.\n",
      "  df = df.append(pd.Series(param, index=df.columns), ignore_index=True)\n"
     ]
    },
    {
     "name": "stdout",
     "output_type": "stream",
     "text": [
      "max high 0.2 [m] max distance 0.05 [m] energy  378.59 J\n",
      "start simulation\n"
     ]
    },
    {
     "name": "stderr",
     "output_type": "stream",
     "text": [
      "/Users/djay/Desktop/Jumping-Robot-Design/jumper_test/optimisation/Algorithm.py:79: FutureWarning: The frame.append method is deprecated and will be removed from pandas in a future version. Use pandas.concat instead.\n",
      "  result = result.append([robot.max_length])\n",
      "/Users/djay/Desktop/Jumping-Robot-Design/jumper_test/optimisation/Algorithm.py:76: FutureWarning: The frame.append method is deprecated and will be removed from pandas in a future version. Use pandas.concat instead.\n",
      "  df = df.append(pd.Series(param, index=df.columns), ignore_index=True)\n"
     ]
    },
    {
     "name": "stdout",
     "output_type": "stream",
     "text": [
      "max high 0.13 [m] max distance 0.02 [m] energy  875.66 J\n",
      "start simulation\n"
     ]
    },
    {
     "name": "stderr",
     "output_type": "stream",
     "text": [
      "/Users/djay/Desktop/Jumping-Robot-Design/jumper_test/optimisation/Algorithm.py:79: FutureWarning: The frame.append method is deprecated and will be removed from pandas in a future version. Use pandas.concat instead.\n",
      "  result = result.append([robot.max_length])\n",
      "/Users/djay/Desktop/Jumping-Robot-Design/jumper_test/optimisation/Algorithm.py:76: FutureWarning: The frame.append method is deprecated and will be removed from pandas in a future version. Use pandas.concat instead.\n",
      "  df = df.append(pd.Series(param, index=df.columns), ignore_index=True)\n"
     ]
    },
    {
     "name": "stdout",
     "output_type": "stream",
     "text": [
      "max high 0.13 [m] max distance 0.19 [m] energy  601.66 J\n",
      "apply PCA\n"
     ]
    },
    {
     "name": "stderr",
     "output_type": "stream",
     "text": [
      "/Users/djay/Desktop/Jumping-Robot-Design/jumper_test/optimisation/Algorithm.py:79: FutureWarning: The frame.append method is deprecated and will be removed from pandas in a future version. Use pandas.concat instead.\n",
      "  result = result.append([robot.max_length])\n"
     ]
    },
    {
     "ename": "NameError",
     "evalue": "name 'labels' is not defined",
     "output_type": "error",
     "traceback": [
      "\u001b[0;31m---------------------------------------------------------------------------\u001b[0m",
      "\u001b[0;31mNameError\u001b[0m                                 Traceback (most recent call last)",
      "Input \u001b[0;32mIn [2]\u001b[0m, in \u001b[0;36m<cell line: 1>\u001b[0;34m()\u001b[0m\n\u001b[0;32m----> 1\u001b[0m principal_components,result,pca,labels,df \u001b[38;5;241m=\u001b[39m \u001b[43mAlgorithm\u001b[49m\u001b[38;5;241;43m.\u001b[39;49m\u001b[43mpca\u001b[49m\u001b[43m(\u001b[49m\u001b[38;5;241;43m25\u001b[39;49m\u001b[43m,\u001b[49m\u001b[38;5;241;43m2\u001b[39;49m\u001b[43m)\u001b[49m\n",
      "File \u001b[0;32m~/Desktop/Jumping-Robot-Design/jumper_test/optimisation/Algorithm.py:91\u001b[0m, in \u001b[0;36mpca\u001b[0;34m(sample, nb_component)\u001b[0m\n\u001b[1;32m     88\u001b[0m pca \u001b[38;5;241m=\u001b[39m PCA(n_components\u001b[38;5;241m=\u001b[39mnb_component)  \u001b[38;5;66;03m# Keep 10 components\u001b[39;00m\n\u001b[1;32m     89\u001b[0m principal_components \u001b[38;5;241m=\u001b[39m pca\u001b[38;5;241m.\u001b[39mfit_transform(scaled_df)\n\u001b[0;32m---> 91\u001b[0m \u001b[38;5;28;01mreturn\u001b[39;00m principal_components,result,pca,\u001b[43mlabels\u001b[49m,df\n",
      "\u001b[0;31mNameError\u001b[0m: name 'labels' is not defined"
     ]
    }
   ],
   "source": [
    "principal_components,result,pca,labels,df = Algorithm.pca(25,2)"
   ]
  },
  {
   "cell_type": "code",
   "execution_count": 3,
   "id": "fb4a71ae-98b1-4ca1-bb51-986a5eae0da5",
   "metadata": {},
   "outputs": [
    {
     "ename": "NameError",
     "evalue": "name 'principal_components' is not defined",
     "output_type": "error",
     "traceback": [
      "\u001b[0;31m---------------------------------------------------------------------------\u001b[0m",
      "\u001b[0;31mNameError\u001b[0m                                 Traceback (most recent call last)",
      "Input \u001b[0;32mIn [3]\u001b[0m, in \u001b[0;36m<cell line: 1>\u001b[0;34m()\u001b[0m\n\u001b[0;32m----> 1\u001b[0m Algorithm\u001b[38;5;241m.\u001b[39mbiplot(\u001b[43mprincipal_components\u001b[49m,result, pca, labels\u001b[38;5;241m=\u001b[39mlabels, label_size\u001b[38;5;241m=\u001b[39m\u001b[38;5;241m8\u001b[39m, arrow_length\u001b[38;5;241m=\u001b[39m\u001b[38;5;241m15\u001b[39m, arrow_width\u001b[38;5;241m=\u001b[39m\u001b[38;5;241m0.01\u001b[39m)\n",
      "\u001b[0;31mNameError\u001b[0m: name 'principal_components' is not defined"
     ]
    }
   ],
   "source": [
    "Algorithm.biplot(principal_components,result, pca, labels=labels, label_size=8, arrow_length=15, arrow_width=0.01)"
   ]
  },
  {
   "cell_type": "code",
   "execution_count": 4,
   "id": "64c02738-082f-4ccf-ac29-6424ee22db17",
   "metadata": {},
   "outputs": [
    {
     "ename": "NameError",
     "evalue": "name 'principal_components' is not defined",
     "output_type": "error",
     "traceback": [
      "\u001b[0;31m---------------------------------------------------------------------------\u001b[0m",
      "\u001b[0;31mNameError\u001b[0m                                 Traceback (most recent call last)",
      "Input \u001b[0;32mIn [4]\u001b[0m, in \u001b[0;36m<cell line: 1>\u001b[0;34m()\u001b[0m\n\u001b[0;32m----> 1\u001b[0m Algorithm\u001b[38;5;241m.\u001b[39mpca_plot(\u001b[43mprincipal_components\u001b[49m,result)\n",
      "\u001b[0;31mNameError\u001b[0m: name 'principal_components' is not defined"
     ]
    }
   ],
   "source": [
    "Algorithm.pca_plot(principal_components,result)"
   ]
  },
  {
   "cell_type": "markdown",
   "id": "0d82faf9-18c3-4f7f-9429-212c10176701",
   "metadata": {
    "tags": []
   },
   "source": [
    "## Genetic algorith "
   ]
  },
  {
   "cell_type": "code",
   "execution_count": null,
   "id": "8acc2320-f044-4890-9f87-f2e884bd6668",
   "metadata": {},
   "outputs": [
    {
     "name": "stdout",
     "output_type": "stream",
     "text": [
      "algo\n",
      "new model\n",
      "start simulation\n"
     ]
    },
    {
     "name": "stderr",
     "output_type": "stream",
     "text": [
      "/Users/djay/miniforge3/lib/python3.9/site-packages/pygad/pygad.py:1139: UserWarning: The 'delay_after_gen' parameter is deprecated starting from PyGAD 3.3.0. To delay or pause the evolution after each generation, assign a callback function/method to the 'on_generation' parameter to adds some time delay.\n",
      "  warnings.warn(\"The 'delay_after_gen' parameter is deprecated starting from PyGAD 3.3.0. To delay or pause the evolution after each generation, assign a callback function/method to the 'on_generation' parameter to adds some time delay.\")\n"
     ]
    },
    {
     "name": "stdout",
     "output_type": "stream",
     "text": [
      "max high 26.38 [m] max distance 3.65 [m] energy  6300.0 J\n",
      "new model\n",
      "start simulation\n",
      "max high 0.15 [m] max distance 0.0 [m] energy  18.75 J\n",
      "new model\n",
      "start simulation\n",
      "max high 0.47 [m] max distance 17.35 [m] energy  175.0 J\n",
      "new model\n",
      "start simulation\n",
      "max high 0.02 [m] max distance 0.0 [m] energy  18.75 J\n",
      "new model\n",
      "start simulation\n",
      "max high 7.43 [m] max distance 7.57 [m] energy  175.0 J\n",
      "new model\n",
      "start simulation\n",
      "max high 0.15 [m] max distance 0.28 [m] energy  18.75 J\n",
      "new model\n",
      "start simulation\n",
      "max high 0.15 [m] max distance 11.16 [m] energy  675.0 J\n",
      "new model\n",
      "start simulation\n",
      "max high 1.23 [m] max distance 1.87 [m] energy  6300.0 J\n",
      "new model\n",
      "start simulation\n",
      "max high 0.16 [m] max distance 0.13 [m] energy  175.0 J\n",
      "new model\n",
      "start simulation\n",
      "max high 0.15 [m] max distance 10.41 [m] energy  6300.0 J\n",
      "new model\n",
      "start simulation\n",
      "max high 0.55 [m] max distance 1.39 [m] energy  675.0 J\n",
      "new model\n",
      "start simulation\n",
      "max high 0.15 [m] max distance 0.25 [m] energy  18.75 J\n",
      "new model\n",
      "start simulation\n",
      "max high 0.15 [m] max distance 0.3 [m] energy  6300.0 J\n",
      "new model\n",
      "start simulation\n",
      "max high 0.22 [m] max distance 10.31 [m] energy  6300.0 J\n",
      "new model\n",
      "start simulation\n",
      "max high 0.55 [m] max distance 1.39 [m] energy  675.0 J\n",
      "new model\n",
      "start simulation\n",
      "max high 0.15 [m] max distance 0.0 [m] energy  18.75 J\n",
      "new model\n",
      "start simulation\n",
      "max high 5.46 [m] max distance 24.95 [m] energy  175.0 J\n",
      "new model\n",
      "start simulation\n",
      "max high 0.17 [m] max distance 3.84 [m] energy  6300.0 J\n",
      "new model\n",
      "start simulation\n",
      "max high 0.03 [m] max distance 0.0 [m] energy  175.0 J\n",
      "new model\n",
      "start simulation\n",
      "max high 0.3 [m] max distance 2.35 [m] energy  18.75 J\n",
      "new model\n",
      "start simulation\n",
      "max high 1.24 [m] max distance 1.84 [m] energy  18.75 J\n",
      "new model\n",
      "start simulation\n",
      "max high 1.75 [m] max distance 4.6 [m] energy  175.0 J\n",
      "new model\n",
      "start simulation\n",
      "max high 0.15 [m] max distance 1.51 [m] energy  175.0 J\n",
      "new model\n",
      "start simulation\n",
      "max high 0.03 [m] max distance 0.0 [m] energy  175.0 J\n",
      "new model\n",
      "start simulation\n",
      "max high 0.15 [m] max distance 0.17 [m] energy  18.75 J\n",
      "new model\n",
      "start simulation\n",
      "max high 0.61 [m] max distance 2.8 [m] energy  675.0 J\n",
      "new model\n",
      "start simulation\n",
      "max high 0.15 [m] max distance 0.0 [m] energy  18.75 J\n",
      "new model\n",
      "start simulation\n",
      "max high 22.26 [m] max distance 39.49 [m] energy  175.0 J\n",
      "new model\n",
      "start simulation\n",
      "max high 0.13 [m] max distance 0.19 [m] energy  18.75 J\n",
      "new model\n",
      "start simulation\n",
      "max high 0.15 [m] max distance 0.53 [m] energy  175.0 J\n",
      "new model\n",
      "start simulation\n",
      "max high 0.15 [m] max distance 0.04 [m] energy  18.75 J\n",
      "new model\n",
      "start simulation\n",
      "max high 0.15 [m] max distance 0.33 [m] energy  18.75 J\n",
      "new model\n",
      "start simulation\n",
      "max high 0.15 [m] max distance 0.04 [m] energy  175.0 J\n",
      "new model\n",
      "start simulation\n",
      "max high 0.13 [m] max distance 0.04 [m] energy  175.0 J\n",
      "new model\n",
      "start simulation\n",
      "max high 0.85 [m] max distance 9.64 [m] energy  175.0 J\n",
      "new model\n",
      "start simulation\n",
      "max high 0.15 [m] max distance 0.3 [m] energy  18.75 J\n",
      "new model\n",
      "start simulation\n",
      "max high 0.2 [m] max distance 1.58 [m] energy  675.0 J\n",
      "new model\n",
      "start simulation\n",
      "max high 0.22 [m] max distance 0.54 [m] energy  18.75 J\n",
      "new model\n",
      "start simulation\n",
      "max high 0.27 [m] max distance 0.71 [m] energy  175.0 J\n",
      "new model\n",
      "start simulation\n",
      "max high 0.17 [m] max distance 0.27 [m] energy  675.0 J\n",
      "new model\n",
      "start simulation\n",
      "max high 0.02 [m] max distance 0.0 [m] energy  18.75 J\n",
      "new model\n",
      "start simulation\n",
      "max high 0.47 [m] max distance 17.35 [m] energy  175.0 J\n",
      "new model\n",
      "start simulation\n",
      "max high 0.15 [m] max distance 0.01 [m] energy  175.0 J\n",
      "new model\n",
      "start simulation\n",
      "max high 0.33 [m] max distance 0.14 [m] energy  175.0 J\n",
      "new model\n",
      "start simulation\n",
      "max high 0.15 [m] max distance 0.0 [m] energy  18.75 J\n",
      "new model\n",
      "start simulation\n",
      "max high 157.2 [m] max distance 204.89 [m] energy  175.0 J\n",
      "new model\n",
      "start simulation\n",
      "max high 0.15 [m] max distance 0.0 [m] energy  18.75 J\n",
      "new model\n",
      "start simulation\n",
      "max high 0.15 [m] max distance 0.01 [m] energy  175.0 J\n",
      "new model\n",
      "start simulation\n",
      "max high 0.04 [m] max distance 0.01 [m] energy  18.75 J\n",
      "new model\n",
      "start simulation\n",
      "max high 0.15 [m] max distance 0.01 [m] energy  18.75 J\n",
      "new model\n",
      "start simulation\n"
     ]
    }
   ],
   "source": [
    "BS = Algorithm.genetic_algorith()"
   ]
  },
  {
   "cell_type": "code",
   "execution_count": 4,
   "id": "455f4f2c-4052-442a-9d3d-28d020442156",
   "metadata": {},
   "outputs": [],
   "source": [
    "parameters = Model.Parameters([2.0e+01, 2.0e+01, 1.5e+02, 2.0e+01, 1.5e+02, 3.0e+01, 8.0e+01,\n",
    "       1.4e-02])#BS[0])\n",
    "\n",
    "\n",
    "robot = Model.model(parameters)"
   ]
  },
  {
   "cell_type": "code",
   "execution_count": 5,
   "id": "1d2b4601-f4a5-4683-b513-bd152aba4514",
   "metadata": {},
   "outputs": [
    {
     "name": "stdout",
     "output_type": "stream",
     "text": [
      "start simulation\n"
     ]
    },
    {
     "ename": "error",
     "evalue": "Not connected to physics server.",
     "output_type": "error",
     "traceback": [
      "\u001b[0;31m---------------------------------------------------------------------------\u001b[0m",
      "\u001b[0;31merror\u001b[0m                                     Traceback (most recent call last)",
      "Input \u001b[0;32mIn [5]\u001b[0m, in \u001b[0;36m<cell line: 1>\u001b[0;34m()\u001b[0m\n\u001b[0;32m----> 1\u001b[0m \u001b[43mrobot\u001b[49m\u001b[38;5;241;43m.\u001b[39;49m\u001b[43msimulate\u001b[49m\u001b[43m(\u001b[49m\u001b[38;5;28;43;01mTrue\u001b[39;49;00m\u001b[43m)\u001b[49m\n",
      "File \u001b[0;32m~/Desktop/Jumping-Robot-Design/jumper_test/optimisation/Model.py:334\u001b[0m, in \u001b[0;36mmodel.simulate\u001b[0;34m(self, visualisation)\u001b[0m\n\u001b[1;32m    328\u001b[0m p\u001b[38;5;241m.\u001b[39mresetDebugVisualizerCamera(cameraDistance\u001b[38;5;241m=\u001b[39m\u001b[38;5;241m0.5\u001b[39m, \n\u001b[1;32m    329\u001b[0m                           cameraYaw\u001b[38;5;241m=\u001b[39m\u001b[38;5;241m75\u001b[39m, \n\u001b[1;32m    330\u001b[0m                           cameraPitch\u001b[38;5;241m=\u001b[39m\u001b[38;5;241m-\u001b[39m\u001b[38;5;241m20\u001b[39m, \n\u001b[1;32m    331\u001b[0m                           cameraTargetPosition\u001b[38;5;241m=\u001b[39mfocus)\n\u001b[1;32m    333\u001b[0m counter \u001b[38;5;241m+\u001b[39m\u001b[38;5;241m=\u001b[39m step \n\u001b[0;32m--> 334\u001b[0m motor_angle \u001b[38;5;241m=\u001b[39m (\u001b[43mp\u001b[49m\u001b[38;5;241;43m.\u001b[39;49m\u001b[43mgetJointState\u001b[49m\u001b[43m(\u001b[49m\u001b[43mjumper\u001b[49m\u001b[43m,\u001b[49m\u001b[43m \u001b[49m\u001b[38;5;241;43m0\u001b[39;49m\u001b[43m)\u001b[49m[\u001b[38;5;241m0\u001b[39m] \u001b[38;5;241m+\u001b[39m rest_angle)\u001b[38;5;241m*\u001b[39m\u001b[38;5;241m180\u001b[39m\u001b[38;5;241m/\u001b[39mnp\u001b[38;5;241m.\u001b[39mpi\n\u001b[1;32m    336\u001b[0m p\u001b[38;5;241m.\u001b[39msetJointMotorControl2(jumper,\n\u001b[1;32m    337\u001b[0m   jointIndex\u001b[38;5;241m=\u001b[39m\u001b[38;5;241m0\u001b[39m,\n\u001b[1;32m    338\u001b[0m   controlMode\u001b[38;5;241m=\u001b[39mp\u001b[38;5;241m.\u001b[39mTORQUE_CONTROL,\n\u001b[1;32m    339\u001b[0m   force\u001b[38;5;241m=\u001b[39m\u001b[38;5;241m-\u001b[39mmotor_angle\u001b[38;5;241m*\u001b[39mstiffness,\n\u001b[1;32m    340\u001b[0m   )\n\u001b[1;32m    342\u001b[0m p\u001b[38;5;241m.\u001b[39mstepSimulation()\n",
      "\u001b[0;31merror\u001b[0m: Not connected to physics server."
     ]
    }
   ],
   "source": [
    "robot.simulate(True)"
   ]
  },
  {
   "cell_type": "code",
   "execution_count": null,
   "id": "b7a2648b-294b-4a74-92f7-29694a254772",
   "metadata": {},
   "outputs": [],
   "source": [
    "robot.plot()"
   ]
  },
  {
   "cell_type": "markdown",
   "id": "a0426cbf-ba4a-4d31-bf12-204be9234e04",
   "metadata": {
    "tags": []
   },
   "source": [
    "## Bayesian optimisation"
   ]
  }
 ],
 "metadata": {
  "kernelspec": {
   "display_name": "Python 3 (ipykernel)",
   "language": "python",
   "name": "python3"
  },
  "language_info": {
   "codemirror_mode": {
    "name": "ipython",
    "version": 3
   },
   "file_extension": ".py",
   "mimetype": "text/x-python",
   "name": "python",
   "nbconvert_exporter": "python",
   "pygments_lexer": "ipython3",
   "version": "3.9.10"
  }
 },
 "nbformat": 4,
 "nbformat_minor": 5
}
