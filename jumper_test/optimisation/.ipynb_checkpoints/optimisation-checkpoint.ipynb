{
 "cells": [
  {
   "cell_type": "markdown",
   "id": "a21db7bb-0655-4d9b-adca-e935803dd252",
   "metadata": {
    "tags": []
   },
   "source": [
    "# Data-Driven Optimisation - specific behaviour\n",
    "\n",
    "In this notebook, we will run data driven algorithm to optimise the parameter of our problem"
   ]
  },
  {
   "cell_type": "markdown",
   "id": "36421f79-c88e-4553-82bc-1f20a134778d",
   "metadata": {
    "tags": []
   },
   "source": [
    "## Example for one robot"
   ]
  },
  {
   "cell_type": "code",
   "execution_count": 1,
   "id": "9f525969-3c8f-4af3-98fa-902f89eb2782",
   "metadata": {
    "tags": []
   },
   "outputs": [
    {
     "name": "stderr",
     "output_type": "stream",
     "text": [
      "pybullet build time: Mar  5 2024 15:57:27\n"
     ]
    }
   ],
   "source": [
    "import Model #import the simulation and the model\n",
    "import Algorithm #import data-driven algorithms \n",
    "import numpy as np\n",
    "import matplotlib.pyplot as plt"
   ]
  },
  {
   "cell_type": "markdown",
   "id": "c83f8257-24b5-4dd7-8062-86f9d65f6c45",
   "metadata": {},
   "source": [
    "How to use models "
   ]
  },
  {
   "cell_type": "code",
   "execution_count": null,
   "id": "fa312103-9dd2-4c39-a4f3-e07473f6f44f",
   "metadata": {},
   "outputs": [],
   "source": [
    "#initial parameters\n",
    "\n",
    "l1=60\n",
    "l2=100\n",
    "l3=100\n",
    "l4=60\n",
    "l5=80\n",
    "compression=40\n",
    "rest=60\n",
    "stiffness=8\n",
    "\n",
    "\n",
    "parameters = Model.Parameters([l1,l2,l3,l4,l5,compression,rest,stiffness])\n",
    "\n",
    "\n",
    "robot = Model.model(parameters)"
   ]
  },
  {
   "cell_type": "code",
   "execution_count": null,
   "id": "c97953da-5237-423b-b9e3-fdc36c402473",
   "metadata": {},
   "outputs": [],
   "source": [
    "robot.simulate()"
   ]
  },
  {
   "cell_type": "code",
   "execution_count": null,
   "id": "7c32040c-d726-4eb5-aa06-0837f705bada",
   "metadata": {},
   "outputs": [],
   "source": [
    "robot.plot()\n",
    "\n",
    "#plt.plot(np.arange(len(length)), length)\n",
    "#plt.xlabel('Index')\n",
    "#plt.ylabel('Value')\n",
    "#plt.title('Random Curve')\n",
    "#plt.grid(True)\n",
    "#plt.show()"
   ]
  },
  {
   "cell_type": "code",
   "execution_count": null,
   "id": "3837914f-e388-4bb6-a301-169674e58436",
   "metadata": {},
   "outputs": [],
   "source": [
    "robot = Model.model(parameters)"
   ]
  },
  {
   "cell_type": "code",
   "execution_count": null,
   "id": "8453aecf-eeb6-4b64-932e-c5a90858b9bd",
   "metadata": {},
   "outputs": [],
   "source": [
    "robot.simulate()"
   ]
  },
  {
   "cell_type": "code",
   "execution_count": null,
   "id": "ec62b357-3dbc-49f1-8860-6850297170ac",
   "metadata": {},
   "outputs": [],
   "source": [
    "robot.plot()"
   ]
  },
  {
   "cell_type": "code",
   "execution_count": null,
   "id": "50516610-4569-4ff3-9135-6b87bbaedf41",
   "metadata": {},
   "outputs": [],
   "source": [
    "robot = Model.model(parameters)"
   ]
  },
  {
   "cell_type": "code",
   "execution_count": null,
   "id": "8707c6ae-1e9b-4617-bac5-10691eb27a2f",
   "metadata": {},
   "outputs": [],
   "source": [
    "robot.simulate()"
   ]
  },
  {
   "cell_type": "code",
   "execution_count": null,
   "id": "c512ae69-14b6-48f1-801b-e85a46c8d34f",
   "metadata": {},
   "outputs": [],
   "source": [
    "robot.plot()"
   ]
  },
  {
   "cell_type": "markdown",
   "id": "19ac9b9a-1cc9-4f68-9b98-5ee5265b6d69",
   "metadata": {},
   "source": [
    "# strange ???"
   ]
  },
  {
   "cell_type": "markdown",
   "id": "d19ed4f6-bc53-4fb1-91fc-1b336cedb2ea",
   "metadata": {
    "tags": []
   },
   "source": [
    "## strange flying behaviour !"
   ]
  },
  {
   "cell_type": "code",
   "execution_count": null,
   "id": "defce262-068c-475b-90e7-195b5c09aee4",
   "metadata": {},
   "outputs": [],
   "source": [
    "\n",
    "parameters = Model.Parameters([2.0e+01, 2.0e+01, 1.5e+02, 2.0e+01, 1.5e+02, 3.0e+01, 8.0e+01,\n",
    "       1.4e-02])#BS[0])\n",
    "\n",
    "\n",
    "robot = Model.model(parameters)"
   ]
  },
  {
   "cell_type": "code",
   "execution_count": null,
   "id": "db76e743-87e3-4d08-af60-9995d0c300ca",
   "metadata": {},
   "outputs": [],
   "source": [
    "robot.simulate()"
   ]
  },
  {
   "cell_type": "code",
   "execution_count": null,
   "id": "8a988898-3080-482a-b806-79e002b621b6",
   "metadata": {},
   "outputs": [],
   "source": [
    "robot.plot()"
   ]
  },
  {
   "cell_type": "markdown",
   "id": "737b1c16-a09d-4d82-b19e-0a77134ead8e",
   "metadata": {
    "tags": []
   },
   "source": [
    "## example flying \"nice\" behaviour !\n",
    "find with GA"
   ]
  },
  {
   "cell_type": "code",
   "execution_count": null,
   "id": "77e46b24-319b-4f4f-bd73-d7da979596b0",
   "metadata": {},
   "outputs": [],
   "source": [
    "\n",
    "parameters = Model.Parameters([ 20., 150.,  20.,  20., 150.,  30.,  10.,  14.])\n",
    "\n",
    "\n",
    "robot = Model.model(parameters)"
   ]
  },
  {
   "cell_type": "code",
   "execution_count": null,
   "id": "6009624e-b869-46d6-97a0-8391ac6a5674",
   "metadata": {},
   "outputs": [],
   "source": [
    "robot.simulate()"
   ]
  },
  {
   "cell_type": "code",
   "execution_count": null,
   "id": "4fb0bf2c-3603-4f2e-81c0-ade17fa51be5",
   "metadata": {},
   "outputs": [],
   "source": [
    "robot.plot()"
   ]
  },
  {
   "cell_type": "code",
   "execution_count": null,
   "id": "2a4f62e1-801f-4a36-a57d-c2558120cb5b",
   "metadata": {},
   "outputs": [
    {
     "name": "stdout",
     "output_type": "stream",
     "text": [
      "start simulation\n"
     ]
    }
   ],
   "source": [
    "parameters = Model.Parameters([ 20. ,  50. , 150. ,  20. , 150. ,  40. ,  80. ,   1.5])\n",
    "\n",
    "\n",
    "robot = Model.model(parameters)\n",
    "robot.simulate()\n",
    "robot.plot()"
   ]
  }
 ],
 "metadata": {
  "kernelspec": {
   "display_name": "Python 3 (ipykernel)",
   "language": "python",
   "name": "python3"
  },
  "language_info": {
   "codemirror_mode": {
    "name": "ipython",
    "version": 3
   },
   "file_extension": ".py",
   "mimetype": "text/x-python",
   "name": "python",
   "nbconvert_exporter": "python",
   "pygments_lexer": "ipython3",
   "version": "3.9.10"
  }
 },
 "nbformat": 4,
 "nbformat_minor": 5
}
