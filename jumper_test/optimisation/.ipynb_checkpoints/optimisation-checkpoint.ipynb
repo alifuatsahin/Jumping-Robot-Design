{
 "cells": [
  {
   "cell_type": "markdown",
   "id": "a21db7bb-0655-4d9b-adca-e935803dd252",
   "metadata": {
    "tags": []
   },
   "source": [
    "# Data-Driven Optimisation\n",
    "\n",
    "In this notebook, we will run data driven algorithm to optimise the parameter of our problem"
   ]
  },
  {
   "cell_type": "markdown",
   "id": "36421f79-c88e-4553-82bc-1f20a134778d",
   "metadata": {},
   "source": [
    "## Example for one robot"
   ]
  },
  {
   "cell_type": "code",
   "execution_count": 1,
   "id": "9f525969-3c8f-4af3-98fa-902f89eb2782",
   "metadata": {},
   "outputs": [
    {
     "name": "stderr",
     "output_type": "stream",
     "text": [
      "pybullet build time: Mar  5 2024 15:57:27\n"
     ]
    }
   ],
   "source": [
    "import Model #import the simulation and the model\n",
    "import Algorithm #import data-driven algorithms \n",
    "import numpy as np\n",
    "import matplotlib.pyplot as plt"
   ]
  },
  {
   "cell_type": "markdown",
   "id": "c83f8257-24b5-4dd7-8062-86f9d65f6c45",
   "metadata": {},
   "source": [
    "How to use models "
   ]
  },
  {
   "cell_type": "code",
   "execution_count": 2,
   "id": "fa312103-9dd2-4c39-a4f3-e07473f6f44f",
   "metadata": {},
   "outputs": [],
   "source": [
    "#initial parameters\n",
    "\n",
    "link3 = 70/1000\n",
    "link1 = 30/1000\n",
    "urdf_angle = 45*np.pi/180\n",
    "stiffness = 1/1000\n",
    "rest = 45*np.pi/180\n",
    "friction = 1.3\n",
    "compression = 40*np.pi/180\n",
    "\n",
    "parameters = Model.Parameters([link3,\n",
    "                              link1,\n",
    "                              stiffness,\n",
    "                              rest,\n",
    "                            compression])\n",
    "\n",
    "\n",
    "robot = Model.model(parameters)"
   ]
  },
  {
   "cell_type": "code",
   "execution_count": 3,
   "id": "c97953da-5237-423b-b9e3-fdc36c402473",
   "metadata": {},
   "outputs": [
    {
     "name": "stdout",
     "output_type": "stream",
     "text": [
      "start simulation\n",
      "end simulation\n",
      "max high 0.39 [unit] max distance 0.62 [unit]\n"
     ]
    }
   ],
   "source": [
    "length = robot.simulate()"
   ]
  },
  {
   "cell_type": "code",
   "execution_count": 4,
   "id": "7c32040c-d726-4eb5-aa06-0837f705bada",
   "metadata": {},
   "outputs": [
    {
     "data": {
      "image/png": "[encoded data removed]",
      "text/plain": [
       "<Figure size 432x288 with 1 Axes>"
      ]
     },
     "metadata": {
      "needs_background": "light"
     },
     "output_type": "display_data"
    }
   ],
   "source": [
    "robot.plot()\n",
    "\n",
    "#plt.plot(np.arange(len(length)), length)\n",
    "#plt.xlabel('Index')\n",
    "#plt.ylabel('Value')\n",
    "#plt.title('Random Curve')\n",
    "#plt.grid(True)\n",
    "#plt.show()"
   ]
  },
  {
   "cell_type": "markdown",
   "id": "0d82faf9-18c3-4f7f-9429-212c10176701",
   "metadata": {
    "tags": []
   },
   "source": [
    "## Genetic algorith "
   ]
  },
  {
   "cell_type": "code",
   "execution_count": 5,
   "id": "8acc2320-f044-4890-9f87-f2e884bd6668",
   "metadata": {},
   "outputs": [
    {
     "name": "stdout",
     "output_type": "stream",
     "text": [
      "algo\n",
      "new model\n",
      "start simulation\n"
     ]
    },
    {
     "name": "stderr",
     "output_type": "stream",
     "text": [
      "/Users/djay/miniforge3/lib/python3.9/site-packages/pygad/pygad.py:748: UserWarning: The percentage of genes to mutate (mutation_percent_genes=10) resulted in selecting (0) genes. The number of genes to mutate is set to 1 (mutation_num_genes=1).\n",
      "If you do not want to mutate any gene, please set mutation_type=None.\n",
      "  warnings.warn(f\"The percentage of genes to mutate (mutation_percent_genes={mutation_percent_genes}) resulted in selecting ({mutation_num_genes}) genes. The number of genes to mutate is set to 1 (mutation_num_genes=1).\\nIf you do not want to mutate any gene, please set mutation_type=None.\")\n",
      "/Users/djay/miniforge3/lib/python3.9/site-packages/pygad/pygad.py:1139: UserWarning: The 'delay_after_gen' parameter is deprecated starting from PyGAD 3.3.0. To delay or pause the evolution after each generation, assign a callback function/method to the 'on_generation' parameter to adds some time delay.\n",
      "  warnings.warn(\"The 'delay_after_gen' parameter is deprecated starting from PyGAD 3.3.0. To delay or pause the evolution after each generation, assign a callback function/method to the 'on_generation' parameter to adds some time delay.\")\n"
     ]
    },
    {
     "name": "stdout",
     "output_type": "stream",
     "text": [
      "end simulation\n",
      "max high 1.16 [unit] max distance 3.76 [unit]\n",
      "new model\n",
      "start simulation\n",
      "end simulation\n",
      "max high 1.39 [unit] max distance 45.48 [unit]\n",
      "new model\n",
      "start simulation\n",
      "end simulation\n",
      "max high 15.5 [unit] max distance 78.26 [unit]\n",
      "new model\n",
      "start simulation\n",
      "end simulation\n",
      "max high 0.12 [unit] max distance 0.31 [unit]\n",
      "new model\n",
      "start simulation\n",
      "end simulation\n",
      "max high 0.12 [unit] max distance 0.31 [unit]\n",
      "new model\n",
      "start simulation\n",
      "end simulation\n",
      "max high 95.81 [unit] max distance 122.53 [unit]\n",
      "new model\n",
      "start simulation\n",
      "end simulation\n",
      "max high 0.08 [unit] max distance 15.62 [unit]\n",
      "new model\n",
      "start simulation\n",
      "end simulation\n",
      "max high 15.5 [unit] max distance 78.26 [unit]\n",
      "new model\n",
      "start simulation\n",
      "end simulation\n",
      "max high 2.84 [unit] max distance 40.98 [unit]\n",
      "new model\n",
      "start simulation\n",
      "end simulation\n",
      "max high 15.5 [unit] max distance 78.26 [unit]\n",
      "new model\n",
      "start simulation\n",
      "end simulation\n",
      "max high 2.84 [unit] max distance 40.98 [unit]\n",
      "new model\n",
      "start simulation\n",
      "end simulation\n",
      "max high 6.09 [unit] max distance 77.45 [unit]\n",
      "new model\n",
      "start simulation\n",
      "end simulation\n",
      "max high 15.48 [unit] max distance 16.1 [unit]\n",
      "new model\n",
      "start simulation\n",
      "end simulation\n",
      "max high 15.48 [unit] max distance 16.1 [unit]\n",
      "new model\n",
      "start simulation\n",
      "end simulation\n",
      "max high 2.67 [unit] max distance 24.47 [unit]\n",
      "new model\n",
      "start simulation\n",
      "end simulation\n",
      "max high 2.84 [unit] max distance 40.98 [unit]\n",
      "new model\n",
      "start simulation\n",
      "end simulation\n",
      "max high 6.09 [unit] max distance 77.45 [unit]\n",
      "new model\n",
      "start simulation\n",
      "end simulation\n",
      "max high 0.08 [unit] max distance 100.45 [unit]\n",
      "new model\n",
      "start simulation\n",
      "end simulation\n",
      "max high 9.68 [unit] max distance 36.59 [unit]\n",
      "new model\n",
      "start simulation\n",
      "end simulation\n",
      "max high 1.39 [unit] max distance 45.48 [unit]\n",
      "new model\n",
      "start simulation\n",
      "end simulation\n",
      "max high 1.39 [unit] max distance 45.48 [unit]\n",
      "new model\n",
      "start simulation\n",
      "end simulation\n",
      "max high 15.5 [unit] max distance 78.26 [unit]\n",
      "new model\n",
      "start simulation\n",
      "end simulation\n",
      "max high 0.08 [unit] max distance 100.45 [unit]\n",
      "new model\n",
      "start simulation\n",
      "end simulation\n",
      "max high 15.48 [unit] max distance 16.1 [unit]\n",
      "new model\n",
      "start simulation\n",
      "end simulation\n",
      "max high 0.08 [unit] max distance 100.45 [unit]\n",
      "new model\n",
      "start simulation\n",
      "end simulation\n",
      "max high 35.06 [unit] max distance 75.84 [unit]\n",
      "new model\n",
      "start simulation\n",
      "end simulation\n",
      "max high 2.84 [unit] max distance 40.98 [unit]\n",
      "new model\n",
      "start simulation\n",
      "end simulation\n",
      "max high 1.39 [unit] max distance 45.48 [unit]\n",
      "new model\n",
      "start simulation\n",
      "end simulation\n",
      "max high 35.06 [unit] max distance 75.84 [unit]\n",
      "new model\n",
      "start simulation\n",
      "end simulation\n",
      "max high 24.68 [unit] max distance 92.22 [unit]\n",
      "new model\n",
      "start simulation\n",
      "end simulation\n",
      "max high 9.68 [unit] max distance 36.59 [unit]\n",
      "new model\n",
      "start simulation\n",
      "end simulation\n",
      "max high 0.08 [unit] max distance 100.45 [unit]\n",
      "new model\n",
      "start simulation\n",
      "end simulation\n",
      "max high 9.68 [unit] max distance 36.59 [unit]\n",
      "new model\n",
      "start simulation\n",
      "end simulation\n",
      "max high 15.5 [unit] max distance 78.26 [unit]\n",
      "new model\n",
      "start simulation\n",
      "end simulation\n",
      "max high 1.39 [unit] max distance 45.48 [unit]\n",
      "new model\n",
      "start simulation\n",
      "end simulation\n",
      "max high 0.08 [unit] max distance 100.45 [unit]\n",
      "new model\n",
      "start simulation\n",
      "end simulation\n",
      "max high 15.48 [unit] max distance 16.1 [unit]\n",
      "new model\n",
      "start simulation\n",
      "end simulation\n",
      "max high 15.5 [unit] max distance 78.26 [unit]\n",
      "new model\n",
      "start simulation\n",
      "end simulation\n",
      "max high 30.57 [unit] max distance 22.08 [unit]\n",
      "new model\n",
      "start simulation\n",
      "end simulation\n",
      "max high 2.84 [unit] max distance 40.98 [unit]\n",
      "new model\n",
      "start simulation\n",
      "end simulation\n",
      "max high 2.67 [unit] max distance 24.47 [unit]\n",
      "new model\n",
      "start simulation\n",
      "end simulation\n",
      "max high 15.48 [unit] max distance 16.1 [unit]\n",
      "new model\n",
      "start simulation\n",
      "end simulation\n",
      "max high 28.78 [unit] max distance 65.38 [unit]\n",
      "new model\n",
      "start simulation\n",
      "end simulation\n",
      "max high 35.06 [unit] max distance 75.84 [unit]\n",
      "new model\n",
      "start simulation\n",
      "end simulation\n",
      "max high 30.57 [unit] max distance 22.08 [unit]\n",
      "new model\n",
      "start simulation\n",
      "end simulation\n",
      "max high 2.84 [unit] max distance 40.98 [unit]\n",
      "new model\n",
      "start simulation\n",
      "end simulation\n",
      "max high 2.67 [unit] max distance 24.47 [unit]\n",
      "new model\n",
      "start simulation\n",
      "end simulation\n",
      "max high 15.48 [unit] max distance 16.1 [unit]\n",
      "new model\n",
      "start simulation\n",
      "end simulation\n",
      "max high 28.78 [unit] max distance 65.38 [unit]\n",
      "new model\n",
      "start simulation\n",
      "end simulation\n",
      "max high 30.57 [unit] max distance 22.08 [unit]\n",
      "Best solution: (array([0.15      , 0.02      , 0.014     , 0.17453293, 0.52359878]), 122.53452697066005, 0)\n"
     ]
    },
    {
     "data": {
      "text/plain": [
       "(array([0.15      , 0.02      , 0.014     , 0.17453293, 0.52359878]),\n",
       " 122.53452697066005,\n",
       " 0)"
      ]
     },
     "execution_count": 5,
     "metadata": {},
     "output_type": "execute_result"
    }
   ],
   "source": [
    "BS = Algorithm.genetic_algorith()"
   ]
  },
  {
   "cell_type": "markdown",
   "id": "a0426cbf-ba4a-4d31-bf12-204be9234e04",
   "metadata": {
    "tags": []
   },
   "source": [
    "## Bayesian optimisation"
   ]
  },
  {
   "cell_type": "code",
   "execution_count": null,
   "id": "455f4f2c-4052-442a-9d3d-28d020442156",
   "metadata": {},
   "outputs": [],
   "source": [
    "link3 = 0.15\n",
    "link1 = 0.02\n",
    "stiffness = 0.014\n",
    "rest = 0.17453293\n",
    "compression = 0.52359878 "
   ]
  }
 ],
 "metadata": {
  "kernelspec": {
   "display_name": "Python 3 (ipykernel)",
   "language": "python",
   "name": "python3"
  },
  "language_info": {
   "codemirror_mode": {
    "name": "ipython",
    "version": 3
   },
   "file_extension": ".py",
   "mimetype": "text/x-python",
   "name": "python",
   "nbconvert_exporter": "python",
   "pygments_lexer": "ipython3",
   "version": "3.9.10"
  }
 },
 "nbformat": 4,
 "nbformat_minor": 5
}
