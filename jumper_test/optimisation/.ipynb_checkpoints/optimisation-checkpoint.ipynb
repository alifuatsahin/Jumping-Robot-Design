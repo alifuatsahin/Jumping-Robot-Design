{
 "cells": [
  {
   "cell_type": "markdown",
   "id": "a21db7bb-0655-4d9b-adca-e935803dd252",
   "metadata": {
    "tags": []
   },
   "source": [
    "# Data-Driven Optimisation\n",
    "\n",
    "In this notebook, we will run data driven algorithm to optimise the parameter of our problem"
   ]
  },
  {
   "cell_type": "markdown",
   "id": "36421f79-c88e-4553-82bc-1f20a134778d",
   "metadata": {},
   "source": [
    "## Example for one robot"
   ]
  },
  {
   "cell_type": "code",
   "execution_count": 1,
   "id": "9f525969-3c8f-4af3-98fa-902f89eb2782",
   "metadata": {},
   "outputs": [
    {
     "name": "stderr",
     "output_type": "stream",
     "text": [
      "pybullet build time: Mar  5 2024 15:57:27\n"
     ]
    }
   ],
   "source": [
    "import Model #import the simulation and the model\n",
    "import Algorithm #import data-driven algorithms \n",
    "import numpy as np\n",
    "import matplotlib.pyplot as plt"
   ]
  },
  {
   "cell_type": "markdown",
   "id": "c83f8257-24b5-4dd7-8062-86f9d65f6c45",
   "metadata": {},
   "source": [
    "How to use models "
   ]
  },
  {
   "cell_type": "code",
   "execution_count": 2,
   "id": "fa312103-9dd2-4c39-a4f3-e07473f6f44f",
   "metadata": {},
   "outputs": [],
   "source": [
    "#initial parameters\n",
    "\n",
    "l1=60\n",
    "l2=100\n",
    "l3=100\n",
    "l4=60\n",
    "l5=80\n",
    "compression=40\n",
    "rest=60\n",
    "stiffness=8/1000\n",
    "\n",
    "parameters = Model.Parameters([l1,l2,l3,l4,l5,compression,rest,stiffness])\n",
    "\n",
    "\n",
    "robot = Model.model(parameters)"
   ]
  },
  {
   "cell_type": "code",
   "execution_count": 3,
   "id": "c97953da-5237-423b-b9e3-fdc36c402473",
   "metadata": {},
   "outputs": [
    {
     "name": "stdout",
     "output_type": "stream",
     "text": [
      "start simulation\n",
      "max high 0.15 [unit] max distance 0.48 [unit]\n"
     ]
    }
   ],
   "source": [
    "length = robot.simulate()"
   ]
  },
  {
   "cell_type": "code",
   "execution_count": 4,
   "id": "7c32040c-d726-4eb5-aa06-0837f705bada",
   "metadata": {},
   "outputs": [
    {
     "data": {
      "image/png": "[encoded data removed]",
      "text/plain": [
       "<Figure size 432x288 with 1 Axes>"
      ]
     },
     "metadata": {
      "needs_background": "light"
     },
     "output_type": "display_data"
    }
   ],
   "source": [
    "robot.plot()\n",
    "\n",
    "#plt.plot(np.arange(len(length)), length)\n",
    "#plt.xlabel('Index')\n",
    "#plt.ylabel('Value')\n",
    "#plt.title('Random Curve')\n",
    "#plt.grid(True)\n",
    "#plt.show()"
   ]
  },
  {
   "cell_type": "markdown",
   "id": "0d82faf9-18c3-4f7f-9429-212c10176701",
   "metadata": {
    "tags": []
   },
   "source": [
    "## Genetic algorith "
   ]
  },
  {
   "cell_type": "code",
   "execution_count": 5,
   "id": "8acc2320-f044-4890-9f87-f2e884bd6668",
   "metadata": {},
   "outputs": [
    {
     "name": "stdout",
     "output_type": "stream",
     "text": [
      "algo\n",
      "new model\n",
      "start simulation\n"
     ]
    },
    {
     "name": "stderr",
     "output_type": "stream",
     "text": [
      "/Users/djay/miniforge3/lib/python3.9/site-packages/pygad/pygad.py:748: UserWarning: The percentage of genes to mutate (mutation_percent_genes=10) resulted in selecting (0) genes. The number of genes to mutate is set to 1 (mutation_num_genes=1).\n",
      "If you do not want to mutate any gene, please set mutation_type=None.\n",
      "  warnings.warn(f\"The percentage of genes to mutate (mutation_percent_genes={mutation_percent_genes}) resulted in selecting ({mutation_num_genes}) genes. The number of genes to mutate is set to 1 (mutation_num_genes=1).\\nIf you do not want to mutate any gene, please set mutation_type=None.\")\n",
      "/Users/djay/miniforge3/lib/python3.9/site-packages/pygad/pygad.py:1139: UserWarning: The 'delay_after_gen' parameter is deprecated starting from PyGAD 3.3.0. To delay or pause the evolution after each generation, assign a callback function/method to the 'on_generation' parameter to adds some time delay.\n",
      "  warnings.warn(\"The 'delay_after_gen' parameter is deprecated starting from PyGAD 3.3.0. To delay or pause the evolution after each generation, assign a callback function/method to the 'on_generation' parameter to adds some time delay.\")\n"
     ]
    },
    {
     "name": "stdout",
     "output_type": "stream",
     "text": [
      "max high 17.58 [unit] max distance 32.54 [unit]\n",
      "new model\n",
      "start simulation\n",
      "max high 19.53 [unit] max distance 6.95 [unit]\n",
      "new model\n",
      "start simulation\n",
      "max high 39.3 [unit] max distance 7.86 [unit]\n",
      "new model\n",
      "start simulation\n",
      "max high 0.15 [unit] max distance 0.0 [unit]\n",
      "new model\n",
      "start simulation\n",
      "max high 39.37 [unit] max distance 0.11 [unit]\n",
      "new model\n",
      "start simulation\n",
      "max high 41.21 [unit] max distance 26.28 [unit]\n",
      "new model\n",
      "start simulation\n",
      "max high 15.5 [unit] max distance 6.83 [unit]\n",
      "new model\n",
      "start simulation\n",
      "max high 0.35 [unit] max distance 0.74 [unit]\n",
      "new model\n",
      "start simulation\n",
      "max high 51.17 [unit] max distance 0.0 [unit]\n",
      "new model\n",
      "start simulation\n",
      "max high 0.07 [unit] max distance 0.04 [unit]\n",
      "new model\n",
      "start simulation\n",
      "max high 0.37 [unit] max distance 1.14 [unit]\n",
      "new model\n",
      "start simulation\n",
      "max high 1.97 [unit] max distance 2.93 [unit]\n",
      "new model\n",
      "start simulation\n",
      "max high 0.16 [unit] max distance 0.0 [unit]\n",
      "new model\n",
      "start simulation\n",
      "max high 0.15 [unit] max distance 0.01 [unit]\n",
      "new model\n",
      "start simulation\n",
      "max high 3.74 [unit] max distance 8.63 [unit]\n",
      "new model\n",
      "start simulation\n",
      "max high 0.07 [unit] max distance 0.0 [unit]\n",
      "new model\n",
      "start simulation\n",
      "max high 0.21 [unit] max distance 0.09 [unit]\n",
      "new model\n",
      "start simulation\n",
      "max high 26.6 [unit] max distance 0.0 [unit]\n",
      "new model\n",
      "start simulation\n",
      "max high 0.13 [unit] max distance 0.01 [unit]\n",
      "new model\n",
      "start simulation\n",
      "max high 21.74 [unit] max distance 26.32 [unit]\n",
      "new model\n",
      "start simulation\n",
      "max high 0.15 [unit] max distance 0.05 [unit]\n",
      "new model\n",
      "start simulation\n",
      "max high 184.44 [unit] max distance 72.14 [unit]\n",
      "new model\n",
      "start simulation\n",
      "max high 3.12 [unit] max distance 0.0 [unit]\n",
      "new model\n",
      "start simulation\n",
      "max high 28.72 [unit] max distance 0.25 [unit]\n",
      "new model\n",
      "start simulation\n",
      "max high 14.13 [unit] max distance 0.0 [unit]\n",
      "new model\n",
      "start simulation\n",
      "max high 86.04 [unit] max distance 3.75 [unit]\n",
      "new model\n",
      "start simulation\n",
      "max high 10.11 [unit] max distance 14.23 [unit]\n",
      "new model\n",
      "start simulation\n",
      "max high 174.13 [unit] max distance 0.01 [unit]\n",
      "new model\n",
      "start simulation\n",
      "max high 202.16 [unit] max distance 0.0 [unit]\n",
      "new model\n",
      "start simulation\n",
      "max high 2.01 [unit] max distance 7.21 [unit]\n",
      "new model\n",
      "start simulation\n",
      "max high 10.11 [unit] max distance 14.23 [unit]\n",
      "new model\n",
      "start simulation\n",
      "max high 127.1 [unit] max distance 1.79 [unit]\n",
      "new model\n",
      "start simulation\n",
      "max high 200.34 [unit] max distance 200.64 [unit]\n",
      "new model\n",
      "start simulation\n",
      "max high 203.42 [unit] max distance 201.53 [unit]\n",
      "new model\n",
      "start simulation\n",
      "max high 22.19 [unit] max distance 7.82 [unit]\n",
      "new model\n",
      "start simulation\n",
      "max high 0.16 [unit] max distance 0.01 [unit]\n",
      "new model\n",
      "start simulation\n",
      "max high 205.85 [unit] max distance 195.19 [unit]\n",
      "new model\n",
      "start simulation\n",
      "max high 51.42 [unit] max distance 179.36 [unit]\n",
      "new model\n",
      "start simulation\n",
      "max high 11.01 [unit] max distance 13.93 [unit]\n",
      "new model\n",
      "start simulation\n",
      "max high 2.58 [unit] max distance 0.42 [unit]\n",
      "new model\n",
      "start simulation\n",
      "max high 2.33 [unit] max distance 4.65 [unit]\n",
      "new model\n",
      "start simulation\n",
      "max high 0.21 [unit] max distance 198.61 [unit]\n",
      "new model\n",
      "start simulation\n",
      "max high 12.98 [unit] max distance 103.84 [unit]\n",
      "new model\n",
      "start simulation\n",
      "max high 0.1 [unit] max distance 0.06 [unit]\n",
      "new model\n",
      "start simulation\n",
      "max high 0.07 [unit] max distance 0.0 [unit]\n",
      "new model\n",
      "start simulation\n",
      "max high 197.48 [unit] max distance 0.0 [unit]\n",
      "new model\n",
      "start simulation\n",
      "max high 204.49 [unit] max distance 205.35 [unit]\n",
      "new model\n",
      "start simulation\n",
      "max high 2.36 [unit] max distance 10.57 [unit]\n",
      "new model\n",
      "start simulation\n",
      "max high 9.1 [unit] max distance 10.76 [unit]\n",
      "new model\n",
      "start simulation\n",
      "max high 0.1 [unit] max distance 0.06 [unit]\n",
      "new model\n",
      "start simulation\n",
      "max high 0.12 [unit] max distance 0.0 [unit]\n",
      "new model\n",
      "start simulation\n",
      "max high 197.24 [unit] max distance 0.0 [unit]\n",
      "new model\n",
      "start simulation\n",
      "max high 1.39 [unit] max distance 13.96 [unit]\n",
      "Best solution: (array([2.0e+01, 2.0e+01, 1.5e+02, 1.5e+02, 1.5e+02, 3.0e+01, 8.0e+01,\n",
      "       1.4e-02]), 201.5261834518271, 0)\n"
     ]
    }
   ],
   "source": [
    "BS = Algorithm.genetic_algorith()"
   ]
  },
  {
   "cell_type": "code",
   "execution_count": 13,
   "id": "455f4f2c-4052-442a-9d3d-28d020442156",
   "metadata": {},
   "outputs": [],
   "source": [
    "parameters = Model.Parameters(BS[0])\n",
    "\n",
    "\n",
    "robot = Model.model(parameters)"
   ]
  },
  {
   "cell_type": "code",
   "execution_count": 14,
   "id": "1d2b4601-f4a5-4683-b513-bd152aba4514",
   "metadata": {},
   "outputs": [
    {
     "name": "stdout",
     "output_type": "stream",
     "text": [
      "start simulation\n",
      "max high 203.42 [unit] max distance 201.53 [unit]\n"
     ]
    },
    {
     "data": {
      "text/plain": [
       "201.5260473575647"
      ]
     },
     "execution_count": 14,
     "metadata": {},
     "output_type": "execute_result"
    }
   ],
   "source": [
    "robot.simulate()"
   ]
  },
  {
   "cell_type": "code",
   "execution_count": 15,
   "id": "b7a2648b-294b-4a74-92f7-29694a254772",
   "metadata": {},
   "outputs": [
    {
     "data": {
      "image/png": "[encoded data removed]",
      "text/plain": [
       "<Figure size 432x288 with 1 Axes>"
      ]
     },
     "metadata": {
      "needs_background": "light"
     },
     "output_type": "display_data"
    }
   ],
   "source": [
    "robot.plot()"
   ]
  },
  {
   "cell_type": "markdown",
   "id": "a0426cbf-ba4a-4d31-bf12-204be9234e04",
   "metadata": {
    "tags": []
   },
   "source": [
    "## Bayesian optimisation"
   ]
  }
 ],
 "metadata": {
  "kernelspec": {
   "display_name": "Python 3 (ipykernel)",
   "language": "python",
   "name": "python3"
  },
  "language_info": {
   "codemirror_mode": {
    "name": "ipython",
    "version": 3
   },
   "file_extension": ".py",
   "mimetype": "text/x-python",
   "name": "python",
   "nbconvert_exporter": "python",
   "pygments_lexer": "ipython3",
   "version": "3.9.10"
  }
 },
 "nbformat": 4,
 "nbformat_minor": 5
}
