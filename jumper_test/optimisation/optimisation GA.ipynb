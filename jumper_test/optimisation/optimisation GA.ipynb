{
 "cells": [
  {
   "cell_type": "markdown",
   "id": "a21db7bb-0655-4d9b-adca-e935803dd252",
   "metadata": {
    "tags": []
   },
   "source": [
    "# Data-Driven Optimisation - genetic algorithm\n",
    "\n",
    "In this notebook, we will run data driven algorithm to optimise the parameter of our problem"
   ]
  },
  {
   "cell_type": "code",
   "execution_count": 1,
   "id": "9f525969-3c8f-4af3-98fa-902f89eb2782",
   "metadata": {
    "tags": []
   },
   "outputs": [
    {
     "name": "stderr",
     "output_type": "stream",
     "text": [
      "pybullet build time: Mar  5 2024 15:57:27\n"
     ]
    }
   ],
   "source": [
    "import Model #import the simulation and the model\n",
    "import Algorithm #import data-driven algorithms \n",
    "import numpy as np\n",
    "import matplotlib.pyplot as plt"
   ]
  },
  {
   "cell_type": "markdown",
   "id": "c83f8257-24b5-4dd7-8062-86f9d65f6c45",
   "metadata": {},
   "source": [
    "How to use models "
   ]
  },
  {
   "cell_type": "markdown",
   "id": "0d82faf9-18c3-4f7f-9429-212c10176701",
   "metadata": {
    "tags": []
   },
   "source": [
    "## Genetic algorith "
   ]
  },
  {
   "cell_type": "code",
   "execution_count": 2,
   "id": "8acc2320-f044-4890-9f87-f2e884bd6668",
   "metadata": {},
   "outputs": [
    {
     "name": "stdout",
     "output_type": "stream",
     "text": [
      "algo\n",
      "new model\n",
      "start simulation\n",
      "max high 0.17 [m] max distance 0.57 [m] energy  0.0 J\n",
      "new model\n",
      "start simulation\n",
      "max high 0 [m] max distance 0 [m] energy  0.0 J\n",
      "new model\n",
      "start simulation\n"
     ]
    },
    {
     "name": "stderr",
     "output_type": "stream",
     "text": [
      "/Users/djay/miniforge3/lib/python3.9/site-packages/pygad/pygad.py:1139: UserWarning: The 'delay_after_gen' parameter is deprecated starting from PyGAD 3.3.0. To delay or pause the evolution after each generation, assign a callback function/method to the 'on_generation' parameter to adds some time delay.\n",
      "  warnings.warn(\"The 'delay_after_gen' parameter is deprecated starting from PyGAD 3.3.0. To delay or pause the evolution after each generation, assign a callback function/method to the 'on_generation' parameter to adds some time delay.\")\n"
     ]
    },
    {
     "name": "stdout",
     "output_type": "stream",
     "text": [
      "max high 0 [m] max distance 0 [m] energy  0.0 J\n",
      "new model\n",
      "start simulation\n",
      "max high 0 [m] max distance 0 [m] energy  0.0 J\n",
      "new model\n",
      "start simulation\n",
      "max high 0 [m] max distance 0 [m] energy  0.0 J\n",
      "new model\n",
      "start simulation\n",
      "max high 0 [m] max distance 0 [m] energy  0.0 J\n",
      "new model\n",
      "start simulation\n",
      "max high 0 [m] max distance 0 [m] energy  0.0 J\n",
      "new model\n",
      "start simulation\n",
      "max high 0 [m] max distance 0 [m] energy  0.0 J\n",
      "new model\n",
      "start simulation\n",
      "max high 0 [m] max distance 0 [m] energy  0.0 J\n",
      "new model\n",
      "start simulation\n",
      "max high 0 [m] max distance 0 [m] energy  0.0 J\n",
      "new model\n",
      "start simulation\n",
      "max high 0 [m] max distance 0 [m] energy  0.0 J\n",
      "new model\n",
      "start simulation\n",
      "max high 0 [m] max distance 0 [m] energy  0.88 J\n",
      "new model\n",
      "start simulation\n",
      "max high 0 [m] max distance 0 [m] energy  0.02 J\n",
      "new model\n",
      "start simulation\n",
      "max high 0 [m] max distance 0 [m] energy  0.0 J\n",
      "new model\n",
      "start simulation\n",
      "max high 0 [m] max distance 0 [m] energy  0.58 J\n",
      "new model\n",
      "start simulation\n",
      "max high 0 [m] max distance 0 [m] energy  0.13 J\n",
      "new model\n",
      "start simulation\n",
      "max high 0 [m] max distance 0 [m] energy  0.24 J\n",
      "new model\n",
      "start simulation\n",
      "max high 0 [m] max distance 0 [m] energy  0.0 J\n",
      "new model\n",
      "start simulation\n",
      "max high 0 [m] max distance 0 [m] energy  0.0 J\n",
      "new model\n",
      "start simulation\n",
      "max high 0 [m] max distance 0 [m] energy  0.35 J\n",
      "new model\n",
      "start simulation\n",
      "max high 0 [m] max distance 0 [m] energy  0.01 J\n",
      "new model\n",
      "start simulation\n",
      "max high 0 [m] max distance 0 [m] energy  0.01 J\n",
      "new model\n",
      "start simulation\n",
      "max high 0 [m] max distance 0 [m] energy  0.0 J\n",
      "new model\n",
      "start simulation\n",
      "max high 0 [m] max distance 0 [m] energy  0.13 J\n",
      "new model\n",
      "start simulation\n",
      "max high 0 [m] max distance 0 [m] energy  0.22 J\n",
      "new model\n",
      "start simulation\n",
      "max high 0 [m] max distance 0 [m] energy  0.0 J\n",
      "new model\n",
      "start simulation\n",
      "max high 0 [m] max distance 0 [m] energy  0.0 J\n",
      "new model\n",
      "start simulation\n",
      "max high 0 [m] max distance 0 [m] energy  0.0 J\n",
      "Best solution: (array([ 20., 150.,  20., 150., 150.,   5.,  10.,  14.]), 392.3903836035033, 0)\n"
     ]
    }
   ],
   "source": [
    "nb_generation = 2\n",
    "BS = Algorithm.genetic_algorith(nb_generation)"
   ]
  },
  {
   "cell_type": "code",
   "execution_count": 3,
   "id": "e34d0f91-5e99-4971-ade9-2ca62edf17d0",
   "metadata": {},
   "outputs": [
    {
     "data": {
      "text/plain": [
       "array([ 20., 150.,  20., 150., 150.,   5.,  10.,  14.])"
      ]
     },
     "execution_count": 3,
     "metadata": {},
     "output_type": "execute_result"
    }
   ],
   "source": [
    "BS[0]"
   ]
  },
  {
   "cell_type": "code",
   "execution_count": 4,
   "id": "7710cc8c-8e18-4a3c-913e-16e6cf773807",
   "metadata": {},
   "outputs": [],
   "source": [
    "parameters = Model.Parameters(BS[0])\n",
    "\n",
    "\n",
    "robot = Model.model(parameters)"
   ]
  },
  {
   "cell_type": "code",
   "execution_count": 5,
   "id": "5f166f59-3b48-42ce-a645-794882e0bd9a",
   "metadata": {},
   "outputs": [
    {
     "name": "stdout",
     "output_type": "stream",
     "text": [
      "start simulation\n",
      "max high 0 [m] max distance 0 [m] energy  0.17 J\n"
     ]
    }
   ],
   "source": [
    "robot.simulate()"
   ]
  },
  {
   "cell_type": "code",
   "execution_count": 6,
   "id": "0d3027b1-42ec-4c69-9490-d7ed98b2c431",
   "metadata": {},
   "outputs": [
    {
     "data": {
      "image/png": "[encoded data removed]",
      "text/plain": [
       "<Figure size 432x288 with 1 Axes>"
      ]
     },
     "metadata": {
      "needs_background": "light"
     },
     "output_type": "display_data"
    }
   ],
   "source": [
    "robot.plot()"
   ]
  }
 ],
 "metadata": {
  "kernelspec": {
   "display_name": "Python 3 (ipykernel)",
   "language": "python",
   "name": "python3"
  },
  "language_info": {
   "codemirror_mode": {
    "name": "ipython",
    "version": 3
   },
   "file_extension": ".py",
   "mimetype": "text/x-python",
   "name": "python",
   "nbconvert_exporter": "python",
   "pygments_lexer": "ipython3",
   "version": "3.9.10"
  }
 },
 "nbformat": 4,
 "nbformat_minor": 5
}
