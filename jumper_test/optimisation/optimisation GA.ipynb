{
 "cells": [
  {
   "cell_type": "markdown",
   "id": "a21db7bb-0655-4d9b-adca-e935803dd252",
   "metadata": {
    "tags": []
   },
   "source": [
    "# Data-Driven Optimisation - genetic algorithm\n",
    "\n",
    "In this notebook, we will run data driven algorithm to optimise the parameter of our problem"
   ]
  },
  {
   "cell_type": "code",
   "execution_count": 1,
   "id": "9f525969-3c8f-4af3-98fa-902f89eb2782",
   "metadata": {
    "tags": []
   },
   "outputs": [
    {
     "name": "stderr",
     "output_type": "stream",
     "text": [
      "pybullet build time: Mar  5 2024 15:57:27\n"
     ]
    }
   ],
   "source": [
    "import Model #import the simulation and the model\n",
    "import Algorithm #import data-driven algorithms \n",
    "import numpy as np\n",
    "import matplotlib.pyplot as plt"
   ]
  },
  {
   "cell_type": "markdown",
   "id": "c83f8257-24b5-4dd7-8062-86f9d65f6c45",
   "metadata": {},
   "source": [
    "How to use models "
   ]
  },
  {
   "cell_type": "markdown",
   "id": "0d82faf9-18c3-4f7f-9429-212c10176701",
   "metadata": {
    "tags": []
   },
   "source": [
    "## Genetic algorith "
   ]
  },
  {
   "cell_type": "code",
   "execution_count": null,
   "id": "8acc2320-f044-4890-9f87-f2e884bd6668",
   "metadata": {},
   "outputs": [
    {
     "name": "stdout",
     "output_type": "stream",
     "text": [
      "algo\n",
      "new model\n",
      "start simulation\n"
     ]
    },
    {
     "name": "stderr",
     "output_type": "stream",
     "text": [
      "/Users/djay/miniforge3/lib/python3.9/site-packages/pygad/pygad.py:1139: UserWarning: The 'delay_after_gen' parameter is deprecated starting from PyGAD 3.3.0. To delay or pause the evolution after each generation, assign a callback function/method to the 'on_generation' parameter to adds some time delay.\n",
      "  warnings.warn(\"The 'delay_after_gen' parameter is deprecated starting from PyGAD 3.3.0. To delay or pause the evolution after each generation, assign a callback function/method to the 'on_generation' parameter to adds some time delay.\")\n"
     ]
    },
    {
     "name": "stdout",
     "output_type": "stream",
     "text": [
      "max high 26.38 [m] max distance 3.65 [m] energy  6300.0 J\n",
      "new model\n",
      "start simulation\n",
      "max high 0.15 [m] max distance 0.0 [m] energy  18.75 J\n",
      "new model\n",
      "start simulation\n",
      "max high 0.47 [m] max distance 17.35 [m] energy  175.0 J\n",
      "new model\n",
      "start simulation\n",
      "max high 0.02 [m] max distance 0.0 [m] energy  18.75 J\n",
      "new model\n",
      "start simulation\n",
      "max high 7.43 [m] max distance 7.57 [m] energy  175.0 J\n",
      "new model\n",
      "start simulation\n",
      "max high 0.15 [m] max distance 0.28 [m] energy  18.75 J\n",
      "new model\n",
      "start simulation\n",
      "max high 0.15 [m] max distance 11.16 [m] energy  675.0 J\n",
      "new model\n",
      "start simulation\n",
      "max high 1.23 [m] max distance 1.87 [m] energy  6300.0 J\n",
      "new model\n",
      "start simulation\n",
      "max high 0.16 [m] max distance 0.13 [m] energy  175.0 J\n",
      "new model\n",
      "start simulation\n",
      "max high 0.15 [m] max distance 10.41 [m] energy  6300.0 J\n",
      "new model\n",
      "start simulation\n",
      "max high 0.55 [m] max distance 1.39 [m] energy  675.0 J\n",
      "new model\n",
      "start simulation\n",
      "max high 0.15 [m] max distance 0.25 [m] energy  18.75 J\n",
      "new model\n",
      "start simulation\n",
      "max high 0.15 [m] max distance 0.3 [m] energy  6300.0 J\n",
      "new model\n",
      "start simulation\n",
      "max high 0.22 [m] max distance 10.31 [m] energy  6300.0 J\n",
      "new model\n",
      "start simulation\n",
      "max high 0.55 [m] max distance 1.39 [m] energy  675.0 J\n",
      "new model\n",
      "start simulation\n",
      "max high 0.15 [m] max distance 0.0 [m] energy  18.75 J\n",
      "new model\n",
      "start simulation\n",
      "max high 5.46 [m] max distance 24.95 [m] energy  175.0 J\n",
      "new model\n",
      "start simulation\n",
      "max high 0.17 [m] max distance 3.84 [m] energy  6300.0 J\n",
      "new model\n",
      "start simulation\n",
      "max high 0.03 [m] max distance 0.0 [m] energy  175.0 J\n",
      "new model\n",
      "start simulation\n",
      "max high 0.3 [m] max distance 2.35 [m] energy  18.75 J\n",
      "new model\n",
      "start simulation\n",
      "max high 1.24 [m] max distance 1.84 [m] energy  18.75 J\n",
      "new model\n",
      "start simulation\n",
      "max high 1.75 [m] max distance 4.6 [m] energy  175.0 J\n",
      "new model\n",
      "start simulation\n",
      "max high 0.15 [m] max distance 1.51 [m] energy  175.0 J\n",
      "new model\n",
      "start simulation\n",
      "max high 0.03 [m] max distance 0.0 [m] energy  175.0 J\n",
      "new model\n",
      "start simulation\n",
      "max high 0.15 [m] max distance 0.17 [m] energy  18.75 J\n",
      "new model\n",
      "start simulation\n",
      "max high 0.61 [m] max distance 2.8 [m] energy  675.0 J\n",
      "new model\n",
      "start simulation\n",
      "max high 0.15 [m] max distance 0.0 [m] energy  18.75 J\n",
      "new model\n",
      "start simulation\n",
      "max high 22.26 [m] max distance 39.49 [m] energy  175.0 J\n",
      "new model\n",
      "start simulation\n",
      "max high 0.13 [m] max distance 0.19 [m] energy  18.75 J\n",
      "new model\n",
      "start simulation\n",
      "max high 0.15 [m] max distance 0.53 [m] energy  175.0 J\n",
      "new model\n",
      "start simulation\n",
      "max high 0.15 [m] max distance 0.04 [m] energy  18.75 J\n",
      "new model\n",
      "start simulation\n",
      "max high 0.15 [m] max distance 0.33 [m] energy  18.75 J\n",
      "new model\n",
      "start simulation\n",
      "max high 0.15 [m] max distance 0.04 [m] energy  175.0 J\n",
      "new model\n",
      "start simulation\n",
      "max high 0.13 [m] max distance 0.04 [m] energy  175.0 J\n",
      "new model\n",
      "start simulation\n",
      "max high 0.85 [m] max distance 9.64 [m] energy  175.0 J\n",
      "new model\n",
      "start simulation\n",
      "max high 0.15 [m] max distance 0.3 [m] energy  18.75 J\n",
      "new model\n",
      "start simulation\n",
      "max high 0.2 [m] max distance 1.58 [m] energy  675.0 J\n",
      "new model\n",
      "start simulation\n",
      "max high 0.22 [m] max distance 0.54 [m] energy  18.75 J\n",
      "new model\n",
      "start simulation\n",
      "max high 0.27 [m] max distance 0.71 [m] energy  175.0 J\n",
      "new model\n",
      "start simulation\n",
      "max high 0.17 [m] max distance 0.27 [m] energy  675.0 J\n",
      "new model\n",
      "start simulation\n",
      "max high 0.02 [m] max distance 0.0 [m] energy  18.75 J\n",
      "new model\n",
      "start simulation\n",
      "max high 0.47 [m] max distance 17.35 [m] energy  175.0 J\n",
      "new model\n",
      "start simulation\n",
      "max high 0.15 [m] max distance 0.01 [m] energy  175.0 J\n",
      "new model\n",
      "start simulation\n",
      "max high 0.33 [m] max distance 0.14 [m] energy  175.0 J\n",
      "new model\n",
      "start simulation\n",
      "max high 0.15 [m] max distance 0.0 [m] energy  18.75 J\n",
      "new model\n",
      "start simulation\n",
      "max high 157.2 [m] max distance 204.89 [m] energy  175.0 J\n",
      "new model\n",
      "start simulation\n",
      "max high 0.15 [m] max distance 0.0 [m] energy  18.75 J\n",
      "new model\n",
      "start simulation\n",
      "max high 0.15 [m] max distance 0.01 [m] energy  175.0 J\n",
      "new model\n",
      "start simulation\n",
      "max high 0.04 [m] max distance 0.01 [m] energy  18.75 J\n",
      "new model\n",
      "start simulation\n",
      "max high 0.15 [m] max distance 0.01 [m] energy  18.75 J\n",
      "new model\n",
      "start simulation\n"
     ]
    }
   ],
   "source": [
    "nb_generation = 5\n",
    "BS = Algorithm.genetic_algorith(nb_generation)"
   ]
  }
 ],
 "metadata": {
  "kernelspec": {
   "display_name": "Python 3 (ipykernel)",
   "language": "python",
   "name": "python3"
  },
  "language_info": {
   "codemirror_mode": {
    "name": "ipython",
    "version": 3
   },
   "file_extension": ".py",
   "mimetype": "text/x-python",
   "name": "python",
   "nbconvert_exporter": "python",
   "pygments_lexer": "ipython3",
   "version": "3.9.10"
  }
 },
 "nbformat": 4,
 "nbformat_minor": 5
}
