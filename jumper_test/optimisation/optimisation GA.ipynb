{
 "cells": [
  {
   "cell_type": "markdown",
   "id": "a21db7bb-0655-4d9b-adca-e935803dd252",
   "metadata": {
    "tags": []
   },
   "source": [
    "# Data-Driven Optimisation - genetic algorithm\n",
    "\n",
    "In this notebook, we will run data driven algorithm to optimise the parameter of our problem"
   ]
  },
  {
   "cell_type": "code",
   "execution_count": 1,
   "id": "9f525969-3c8f-4af3-98fa-902f89eb2782",
   "metadata": {
    "tags": []
   },
   "outputs": [
    {
     "name": "stderr",
     "output_type": "stream",
     "text": [
      "pybullet build time: Mar  5 2024 15:57:27\n"
     ]
    }
   ],
   "source": [
    "import Model #import the simulation and the model\n",
    "import Algorithm #import data-driven algorithms \n",
    "import numpy as np\n",
    "import matplotlib.pyplot as plt"
   ]
  },
  {
   "cell_type": "markdown",
   "id": "c83f8257-24b5-4dd7-8062-86f9d65f6c45",
   "metadata": {},
   "source": [
    "How to use models "
   ]
  },
  {
   "cell_type": "markdown",
   "id": "0d82faf9-18c3-4f7f-9429-212c10176701",
   "metadata": {
    "tags": []
   },
   "source": [
    "## Genetic algorith "
   ]
  },
  {
   "cell_type": "code",
   "execution_count": 2,
   "id": "8bc2b83a-fbd1-445f-9efd-8abd72b732a6",
   "metadata": {},
   "outputs": [],
   "source": [
    "#best_parameters = [60., 70., 50., 40., 80., 14., 10.]\n",
    "#Range = 10\n",
    "#bound = Algorithm.create_boundaries(best_parameters,10)"
   ]
  },
  {
   "cell_type": "code",
   "execution_count": 3,
   "id": "8acc2320-f044-4890-9f87-f2e884bd6668",
   "metadata": {},
   "outputs": [
    {
     "name": "stdout",
     "output_type": "stream",
     "text": [
      "algo\n",
      "new model\n",
      "start simulation\n",
      "max high 0.17 [m] max distance 0.0 [m] energy  0.0004 J\n",
      "new model\n",
      "start simulation\n",
      "max high 0.17 [m] max distance 0.0 [m] energy  0.0014 J\n",
      "new model\n",
      "start simulation\n",
      "max high 0.174 [m] max distance 0.009 [m] energy  0.0 J\n",
      "new model\n",
      "start simulation\n",
      "max high 0.075 [m] max distance 0.009 [m] energy  0.0001 J\n",
      "new model\n",
      "start simulation\n",
      "max high 0.072 [m] max distance 0.0 [m] energy  0.0003 J\n",
      "new model\n",
      "start simulation\n",
      "max high 0.07 [m] max distance 0.0 [m] energy  0.0003 J\n",
      "new model\n",
      "start simulation\n",
      "max high 0.17 [m] max distance 0.0 [m] energy  0.0004 J\n",
      "new model\n",
      "start simulation\n",
      "max high 0.071 [m] max distance 0.0 [m] energy  0.0005 J\n",
      "new model\n",
      "start simulation\n",
      "max high 0.07 [m] max distance 0.001 [m] energy  0.0001 J\n",
      "new model\n",
      "start simulation\n",
      "max high 0.17 [m] max distance 0.0 [m] energy  0.0012 J\n",
      "new model\n",
      "start simulation\n",
      "max high 0.174 [m] max distance 0.01 [m] energy  0.0001 J\n",
      "new model\n",
      "start simulation\n",
      "max high 0.17 [m] max distance 0.01 [m] energy  0.0105 J\n",
      "new model\n",
      "start simulation\n",
      "max high 0.177 [m] max distance 0.009 [m] energy  0.0033 J\n",
      "new model\n",
      "start simulation\n",
      "max high 0.171 [m] max distance 0.004 [m] energy  0.0013 J\n",
      "new model\n",
      "start simulation\n",
      "max high 0.075 [m] max distance 0.001 [m] energy  0.0005 J\n",
      "new model\n",
      "start simulation\n",
      "max high 0.07 [m] max distance 0.0 [m] energy  0.0002 J\n",
      "new model\n",
      "start simulation\n",
      "max high 0.072 [m] max distance 0.0 [m] energy  0.0003 J\n",
      "new model\n",
      "start simulation\n",
      "max high 0.17 [m] max distance 0.0 [m] energy  0.0004 J\n",
      "new model\n",
      "start simulation\n",
      "max high 0.17 [m] max distance 0.0 [m] energy  0.0 J\n",
      "new model\n",
      "start simulation\n",
      "max high 0.072 [m] max distance 0.0 [m] energy  0.0003 J\n",
      "new model\n",
      "start simulation\n",
      "max high 0.17 [m] max distance 0.005 [m] energy  0.0004 J\n",
      "new model\n",
      "start simulation\n",
      "max high 0.17 [m] max distance 0.019 [m] energy  0.0091 J\n",
      "new model\n",
      "start simulation\n",
      "max high 0.07 [m] max distance 0.0 [m] energy  0.0 J\n",
      "new model\n",
      "start simulation\n",
      "max high 0.081 [m] max distance 0.011 [m] energy  0.0001 J\n",
      "new model\n",
      "start simulation\n",
      "max high 0.173 [m] max distance 0.001 [m] energy  0.0002 J\n",
      "new model\n",
      "start simulation\n",
      "max high 0.072 [m] max distance 0.0 [m] energy  0.0003 J\n",
      "new model\n",
      "start simulation\n",
      "max high 0.174 [m] max distance 0.001 [m] energy  0.0001 J\n",
      "new model\n",
      "start simulation\n",
      "max high 0.076 [m] max distance 0.005 [m] energy  0.0 J\n",
      "new model\n",
      "start simulation\n"
     ]
    },
    {
     "name": "stderr",
     "output_type": "stream",
     "text": [
      "/Users/djay/miniforge3/lib/python3.9/site-packages/pygad/pygad.py:1139: UserWarning: The 'delay_after_gen' parameter is deprecated starting from PyGAD 3.3.0. To delay or pause the evolution after each generation, assign a callback function/method to the 'on_generation' parameter to adds some time delay.\n",
      "  warnings.warn(\"The 'delay_after_gen' parameter is deprecated starting from PyGAD 3.3.0. To delay or pause the evolution after each generation, assign a callback function/method to the 'on_generation' parameter to adds some time delay.\")\n",
      "/Users/djay/miniforge3/lib/python3.9/site-packages/pygad/pygad.py:1162: UserWarning: Use the 'save_solutions' parameter with caution as it may cause memory overflow when either the number of generations, number of genes, or number of solutions in population is large.\n",
      "  warnings.warn(\"Use the 'save_solutions' parameter with caution as it may cause memory overflow when either the number of generations, number of genes, or number of solutions in population is large.\")\n"
     ]
    },
    {
     "name": "stdout",
     "output_type": "stream",
     "text": [
      "max high 0.074 [m] max distance 0.0 [m] energy  0.0007 J\n",
      "new model\n",
      "start simulation\n",
      "max high 0.204 [m] max distance 0.033 [m] energy  0.0017 J\n",
      "new model\n",
      "start simulation\n",
      "max high 0.17 [m] max distance 0.0 [m] energy  0.0297 J\n",
      "new model\n",
      "start simulation\n",
      "max high 0.076 [m] max distance 0.008 [m] energy  0.0003 J\n",
      "new model\n",
      "start simulation\n",
      "max high 0.17 [m] max distance 0.0 [m] energy  0.0011 J\n",
      "new model\n",
      "start simulation\n",
      "max high 0.072 [m] max distance 0.001 [m] energy  0.0015 J\n",
      "new model\n",
      "start simulation\n",
      "max high 0.172 [m] max distance 0.079 [m] energy  0.0383 J\n",
      "new model\n",
      "start simulation\n",
      "max high 0.079 [m] max distance 0.0 [m] energy  0.0002 J\n",
      "new model\n",
      "start simulation\n",
      "max high 0.17 [m] max distance 0.0 [m] energy  0.0004 J\n",
      "new model\n",
      "start simulation\n",
      "max high 0.072 [m] max distance 0.0 [m] energy  0.0003 J\n",
      "new model\n",
      "start simulation\n",
      "max high 0.17 [m] max distance 0.0 [m] energy  0.0059 J\n",
      "new model\n",
      "start simulation\n",
      "max high 0.083 [m] max distance 0.0 [m] energy  0.0013 J\n",
      "new model\n",
      "start simulation\n",
      "max high 0.072 [m] max distance 0.001 [m] energy  0.0016 J\n",
      "new model\n",
      "start simulation\n",
      "max high 0.075 [m] max distance 0.005 [m] energy  0.0 J\n",
      "new model\n",
      "start simulation\n",
      "max high 0.07 [m] max distance 0.165 [m] energy  0.0 J\n",
      "new model\n",
      "start simulation\n",
      "max high 0.07 [m] max distance 0.0 [m] energy  0.0001 J\n",
      "new model\n",
      "start simulation\n",
      "max high 0.075 [m] max distance 0.002 [m] energy  0.0007 J\n",
      "new model\n",
      "start simulation\n",
      "max high 0.17 [m] max distance 0.0 [m] energy  0.0022 J\n",
      "new model\n",
      "start simulation\n",
      "max high 0.17 [m] max distance 0.0 [m] energy  0.0004 J\n",
      "new model\n",
      "start simulation\n",
      "max high 0.173 [m] max distance 0.003 [m] energy  0.0006 J\n",
      "new model\n",
      "start simulation\n",
      "max high 0.081 [m] max distance 0.012 [m] energy  0.0006 J\n",
      "new model\n",
      "start simulation\n",
      "max high 0.077 [m] max distance 0.0 [m] energy  0.0003 J\n",
      "new model\n",
      "start simulation\n",
      "max high 0.17 [m] max distance 0.047 [m] energy  0.0019 J\n",
      "new model\n",
      "start simulation\n",
      "max high 0.071 [m] max distance 0.0 [m] energy  0.0001 J\n",
      "new model\n",
      "start simulation\n",
      "max high 0.076 [m] max distance 0.034 [m] energy  0.0001 J\n",
      "new model\n",
      "start simulation\n",
      "max high 0.17 [m] max distance 0.054 [m] energy  0.0005 J\n",
      "new model\n",
      "start simulation\n",
      "max high 0.113 [m] max distance 0.0 [m] energy  0.0002 J\n",
      "new model\n",
      "start simulation\n",
      "max high 0.17 [m] max distance 0.0 [m] energy  0.0002 J\n",
      "new model\n",
      "start simulation\n",
      "max high 0.081 [m] max distance 0.348 [m] energy  0.0027 J\n",
      "new model\n",
      "start simulation\n",
      "max high 0.17 [m] max distance 0.0 [m] energy  0.0003 J\n",
      "new model\n",
      "start simulation\n",
      "max high 0.17 [m] max distance 0.0 [m] energy  0.0011 J\n",
      "new model\n",
      "start simulation\n",
      "max high 0.17 [m] max distance 0.0 [m] energy  0.0012 J\n",
      "new model\n",
      "start simulation\n",
      "max high 0.17 [m] max distance 0.0 [m] energy  0.0004 J\n",
      "new model\n",
      "start simulation\n",
      "max high 0.077 [m] max distance 0.0 [m] energy  0.0 J\n",
      "new model\n",
      "start simulation\n",
      "max high 0.07 [m] max distance 0.001 [m] energy  0.0005 J\n",
      "new model\n",
      "start simulation\n",
      "max high 0.17 [m] max distance 0.0 [m] energy  0.001 J\n",
      "new model\n",
      "start simulation\n",
      "max high 0.17 [m] max distance 0.003 [m] energy  0.0004 J\n",
      "new model\n",
      "start simulation\n",
      "max high 0.17 [m] max distance 0.0 [m] energy  0.0002 J\n",
      "new model\n",
      "start simulation\n",
      "max high 0.17 [m] max distance 0.009 [m] energy  0.01 J\n",
      "new model\n",
      "start simulation\n",
      "max high 0.174 [m] max distance 0.004 [m] energy  0.0006 J\n",
      "new model\n",
      "start simulation\n",
      "max high 0.071 [m] max distance 0.0 [m] energy  0.0003 J\n",
      "new model\n",
      "start simulation\n",
      "max high 0.072 [m] max distance 0.0 [m] energy  0.0003 J\n",
      "new model\n",
      "start simulation\n",
      "max high 0.17 [m] max distance 0.0 [m] energy  0.0004 J\n",
      "new model\n",
      "start simulation\n",
      "max high 0.07 [m] max distance 0.561 [m] energy  0.2764 J\n",
      "new model\n",
      "start simulation\n",
      "max high 0.17 [m] max distance 0.0 [m] energy  0.0004 J\n",
      "new model\n",
      "start simulation\n",
      "max high 0.07 [m] max distance 0.0 [m] energy  0.0001 J\n",
      "new model\n",
      "start simulation\n",
      "max high 0.07 [m] max distance 0.0 [m] energy  0.0001 J\n",
      "new model\n",
      "start simulation\n",
      "max high 0.071 [m] max distance 0.001 [m] energy  0.0009 J\n",
      "new model\n",
      "start simulation\n",
      "max high 0.17 [m] max distance 0.004 [m] energy  0.0005 J\n",
      "new model\n",
      "start simulation\n",
      "max high 0.17 [m] max distance 0.0 [m] energy  0.0013 J\n",
      "new model\n",
      "start simulation\n",
      "max high 0.077 [m] max distance 0.002 [m] energy  0.0004 J\n",
      "new model\n",
      "start simulation\n",
      "max high 0.07 [m] max distance 0.0 [m] energy  0.0 J\n",
      "new model\n",
      "start simulation\n",
      "max high 0.076 [m] max distance 0.008 [m] energy  0.0 J\n",
      "new model\n",
      "start simulation\n",
      "max high 0.17 [m] max distance 0.0 [m] energy  0.0004 J\n",
      "new model\n",
      "start simulation\n",
      "max high 0.17 [m] max distance 0.0 [m] energy  0.0001 J\n",
      "new model\n",
      "start simulation\n",
      "max high 0.17 [m] max distance 0.0 [m] energy  0.0004 J\n",
      "new model\n",
      "start simulation\n",
      "max high 0.077 [m] max distance 0.038 [m] energy  0.0007 J\n",
      "new model\n",
      "start simulation\n",
      "max high 0.075 [m] max distance 0.002 [m] energy  0.0001 J\n",
      "new model\n",
      "start simulation\n",
      "max high 0.075 [m] max distance 0.002 [m] energy  0.0001 J\n",
      "new model\n",
      "start simulation\n",
      "max high 0.072 [m] max distance 0.005 [m] energy  0.0014 J\n",
      "new model\n",
      "start simulation\n",
      "max high 0.17 [m] max distance 0.007 [m] energy  0.0003 J\n",
      "new model\n",
      "start simulation\n",
      "max high 0.172 [m] max distance 0.003 [m] energy  0.0009 J\n",
      "new model\n",
      "start simulation\n",
      "max high 0.17 [m] max distance 0.0 [m] energy  0.0005 J\n",
      "new model\n",
      "start simulation\n",
      "max high 0.17 [m] max distance 0.0 [m] energy  0.0013 J\n",
      "new model\n",
      "start simulation\n",
      "max high 0.071 [m] max distance 0.0 [m] energy  0.0 J\n",
      "new model\n",
      "start simulation\n",
      "max high 0.075 [m] max distance 0.002 [m] energy  0.0003 J\n",
      "new model\n",
      "start simulation\n",
      "max high 0.17 [m] max distance 0.003 [m] energy  0.0001 J\n",
      "new model\n",
      "start simulation\n",
      "max high 0.17 [m] max distance 0.009 [m] energy  0.0094 J\n",
      "new model\n",
      "start simulation\n",
      "max high 0.075 [m] max distance 0.002 [m] energy  0.0003 J\n",
      "new model\n",
      "start simulation\n",
      "max high 0.082 [m] max distance 0.023 [m] energy  0.0001 J\n",
      "new model\n",
      "start simulation\n",
      "max high 0.17 [m] max distance 0.0 [m] energy  0.0013 J\n",
      "new model\n",
      "start simulation\n",
      "max high 0.104 [m] max distance 0.309 [m] energy  0.0003 J\n",
      "new model\n",
      "start simulation\n",
      "max high 0.17 [m] max distance 0.0 [m] energy  0.0002 J\n",
      "new model\n",
      "start simulation\n",
      "max high 0.17 [m] max distance 0.006 [m] energy  0.0022 J\n",
      "new model\n",
      "start simulation\n",
      "max high 0.182 [m] max distance 0.0 [m] energy  0.0016 J\n",
      "new model\n",
      "start simulation\n",
      "max high 0.08 [m] max distance 0.021 [m] energy  0.0003 J\n",
      "new model\n",
      "start simulation\n",
      "max high 0.074 [m] max distance 0.01 [m] energy  0.0007 J\n",
      "new model\n",
      "start simulation\n",
      "max high 0.171 [m] max distance 0.004 [m] energy  0.0014 J\n",
      "new model\n",
      "start simulation\n",
      "max high 0.073 [m] max distance 0.004 [m] energy  0.0004 J\n",
      "new model\n",
      "start simulation\n",
      "max high 0.072 [m] max distance 0.0 [m] energy  0.0003 J\n",
      "new model\n",
      "start simulation\n",
      "max high 0.17 [m] max distance 0.0 [m] energy  0.0004 J\n",
      "new model\n",
      "start simulation\n",
      "max high 0.17 [m] max distance 0.0 [m] energy  0.0027 J\n",
      "new model\n",
      "start simulation\n",
      "max high 0.17 [m] max distance 0.044 [m] energy  0.0004 J\n",
      "new model\n",
      "start simulation\n",
      "max high 0.182 [m] max distance 0.002 [m] energy  0.0004 J\n",
      "new model\n",
      "start simulation\n",
      "max high 0.17 [m] max distance 0.0 [m] energy  0.0011 J\n",
      "new model\n",
      "start simulation\n",
      "max high 0.07 [m] max distance 0.0 [m] energy  0.0003 J\n",
      "new model\n",
      "start simulation\n",
      "max high 0.083 [m] max distance 0.0 [m] energy  0.0 J\n",
      "new model\n",
      "start simulation\n",
      "max high 0.075 [m] max distance 0.008 [m] energy  0.0004 J\n",
      "new model\n",
      "start simulation\n",
      "max high 0.08 [m] max distance 0.01 [m] energy  0.0002 J\n",
      "new model\n",
      "start simulation\n",
      "max high 0.17 [m] max distance 0.002 [m] energy  0.002 J\n",
      "new model\n",
      "start simulation\n",
      "max high 0.173 [m] max distance 0.0 [m] energy  0.0 J\n",
      "new model\n",
      "start simulation\n",
      "max high 0.07 [m] max distance 0.001 [m] energy  0.0004 J\n",
      "new model\n",
      "start simulation\n",
      "max high 0.07 [m] max distance 0.001 [m] energy  0.0004 J\n",
      "new model\n",
      "start simulation\n",
      "max high 0.194 [m] max distance 0.002 [m] energy  0.0109 J\n",
      "new model\n",
      "start simulation\n",
      "max high 0.17 [m] max distance 0.006 [m] energy  0.0018 J\n",
      "new model\n",
      "start simulation\n",
      "max high 0.071 [m] max distance 0.0 [m] energy  0.0007 J\n",
      "new model\n",
      "start simulation\n",
      "max high 0.07 [m] max distance 0.001 [m] energy  0.0002 J\n",
      "new model\n",
      "start simulation\n",
      "max high 0.072 [m] max distance 0.0 [m] energy  0.0003 J\n",
      "new model\n",
      "start simulation\n",
      "max high 0.233 [m] max distance 0.6 [m] energy  0.0053 J\n",
      "new model\n",
      "start simulation\n",
      "max high 0.101 [m] max distance 0.0 [m] energy  0.0029 J\n",
      "new model\n",
      "start simulation\n",
      "max high 0.173 [m] max distance 0.001 [m] energy  0.0003 J\n",
      "new model\n",
      "start simulation\n",
      "max high 0.173 [m] max distance 0.001 [m] energy  0.0003 J\n",
      "new model\n",
      "start simulation\n",
      "max high 0.17 [m] max distance 0.0 [m] energy  0.0007 J\n",
      "new model\n",
      "start simulation\n"
     ]
    },
    {
     "name": "stderr",
     "output_type": "stream",
     "text": [
      "No artists with labels found to put in legend.  Note that artists whose label start with an underscore are ignored when legend() is called with no argument.\n"
     ]
    },
    {
     "name": "stdout",
     "output_type": "stream",
     "text": [
      "max high 0.07 [m] max distance 0.601 [m] energy  0.2984 J\n",
      "new model\n",
      "start simulation\n",
      "max high 0.089 [m] max distance 0.302 [m] energy  0.009 J\n",
      "new model\n",
      "start simulation\n",
      "max high 0.127 [m] max distance 0.452 [m] energy  0.0066 J\n",
      "Best solution: (array([60., 70., 50., 40., 80., 14., 10.]), 0.008571163862116942, 0)\n"
     ]
    },
    {
     "data": {
      "image/png": "[encoded data removed]",
      "text/plain": [
       "<Figure size 432x288 with 1 Axes>"
      ]
     },
     "metadata": {
      "needs_background": "light"
     },
     "output_type": "display_data"
    },
    {
     "data": {
      "image/png": "[encoded data removed]",
      "text/plain": [
       "<Figure size 432x288 with 1 Axes>"
      ]
     },
     "metadata": {
      "needs_background": "light"
     },
     "output_type": "display_data"
    }
   ],
   "source": [
    "nb_generation = 500\n",
    "BS = Algorithm.genetic_algorith(nb_generation)"
   ]
  },
  {
   "cell_type": "code",
   "execution_count": 4,
   "id": "e34d0f91-5e99-4971-ade9-2ca62edf17d0",
   "metadata": {},
   "outputs": [
    {
     "data": {
      "text/plain": [
       "array([60., 70., 50., 40., 80., 14., 10.])"
      ]
     },
     "execution_count": 4,
     "metadata": {},
     "output_type": "execute_result"
    }
   ],
   "source": [
    "BS[0]"
   ]
  },
  {
   "cell_type": "code",
   "execution_count": 5,
   "id": "7710cc8c-8e18-4a3c-913e-16e6cf773807",
   "metadata": {},
   "outputs": [],
   "source": [
    "parameters = Model.Parameters(BS[0])\n",
    "\n",
    "\n",
    "robot = Model.model(parameters)"
   ]
  },
  {
   "cell_type": "code",
   "execution_count": 6,
   "id": "5f166f59-3b48-42ce-a645-794882e0bd9a",
   "metadata": {},
   "outputs": [
    {
     "name": "stdout",
     "output_type": "stream",
     "text": [
      "start simulation\n",
      "max high 0.593 [m] max distance 2.646 [m] energy  0.0306 J\n"
     ]
    }
   ],
   "source": [
    "robot.simulate(True)"
   ]
  },
  {
   "cell_type": "code",
   "execution_count": 7,
   "id": "0d3027b1-42ec-4c69-9490-d7ed98b2c431",
   "metadata": {},
   "outputs": [
    {
     "data": {
      "image/png": "[encoded data removed]",
      "text/plain": [
       "<Figure size 432x288 with 1 Axes>"
      ]
     },
     "metadata": {
      "needs_background": "light"
     },
     "output_type": "display_data"
    },
    {
     "data": {
      "image/png": "[encoded data removed]",
      "text/plain": [
       "<Figure size 432x288 with 1 Axes>"
      ]
     },
     "metadata": {
      "needs_background": "light"
     },
     "output_type": "display_data"
    },
    {
     "data": {
      "image/png": "[encoded data removed]",
      "text/plain": [
       "<Figure size 432x288 with 1 Axes>"
      ]
     },
     "metadata": {
      "needs_background": "light"
     },
     "output_type": "display_data"
    }
   ],
   "source": [
    "robot.plot()"
   ]
  }
 ],
 "metadata": {
  "kernelspec": {
   "display_name": "Python 3 (ipykernel)",
   "language": "python",
   "name": "python3"
  },
  "language_info": {
   "codemirror_mode": {
    "name": "ipython",
    "version": 3
   },
   "file_extension": ".py",
   "mimetype": "text/x-python",
   "name": "python",
   "nbconvert_exporter": "python",
   "pygments_lexer": "ipython3",
   "version": "3.11.7"
  }
 },
 "nbformat": 4,
 "nbformat_minor": 5
}
